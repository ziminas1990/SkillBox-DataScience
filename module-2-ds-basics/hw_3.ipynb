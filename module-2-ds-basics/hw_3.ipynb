{
 "cells": [
  {
   "cell_type": "markdown",
   "metadata": {
    "colab_type": "text",
    "id": "TGSlEOmerPnD"
   },
   "source": [
    "# Библиотека `pandas`: часть 1\n",
    "\n",
    "*Алла Тамбовцева*\n",
    "\n",
    "## Домашнее задание \n",
    "\n",
    "### Описание домашнего задания и формат сдачи\n",
    "\n",
    "В домашнем задании необходимо решить предложенные задачи по программированию – вписать свой код в ячейки после условий задач вместо комментария `### YOUR CODE HERE ###` в файле *homework-pandas1.ipynb* и сохранить изменения, используя опцию *Save and Checkpoint* из вкладки меню *File* или кнопку *Save and Checkpoint* на панели инструментов. Итоговый файл в формате `.ipynb` (файл Jupyter Notebook) необходимо загрузить в личный кабинет обучающей онлайн платформы Skillbox (https://go.skillbox.ru/) и отправить на проверку."
   ]
  },
  {
   "cell_type": "markdown",
   "metadata": {
    "colab_type": "text",
    "id": "NExy7dE1rPnE"
   },
   "source": [
    "### Задание 1\n",
    "\n",
    "Загрузить массив `NumPy` из файла `\"arr_pandas.npy\"` (как в задании к предыдущему модулю) и преобразовать его в датафрейм. Массив содержит данные по результатам соревнований Scottish Hill Races в 2000 году (полное описание на английском языке можно посмотреть на [странице](https://vincentarelbundock.github.io/Rdatasets/doc/DAAG/races2000.html) с документацией по исходному файлу с данными).\n",
    "\n",
    "**Подсказка (преобразование в датафрейм):**"
   ]
  },
  {
   "cell_type": "code",
   "execution_count": null,
   "metadata": {
    "colab": {},
    "colab_type": "code",
    "id": "KuLeAnNQrPnF"
   },
   "outputs": [],
   "source": [
    "dat = pd.DataFrame(arr)  # arr - массив NumPy из файла\n",
    "# Если при загрузке файла вы столкнетесь с ошибкой, в которой будет упомянут параметр allow_pickle=False\n",
    "# То попробуйте явно задать значение этого параметра - allow_pickle=True при вызове функции загрузки файла"
   ]
  },
  {
   "cell_type": "code",
   "execution_count": 19,
   "metadata": {
    "colab": {},
    "colab_type": "code",
    "id": "3nrf_loFrPnI"
   },
   "outputs": [],
   "source": [
    "import numpy as np\n",
    "import pandas as pd\n",
    "\n",
    "arr = np.load(\"hw_12_data.npy\", allow_pickle=True)\n",
    "data = pd.DataFrame(arr)"
   ]
  },
  {
   "cell_type": "markdown",
   "metadata": {
    "colab_type": "text",
    "id": "DKJF6IXCrPnL"
   },
   "source": [
    "### Задание 2\n",
    "\n",
    "Определить, сколько в датафрейме строк и столбцов. Привести код и указать ответ в виде текста или комментария к коду."
   ]
  },
  {
   "cell_type": "code",
   "execution_count": null,
   "metadata": {
    "colab": {},
    "colab_type": "code",
    "id": "8b-UkWU8rPnL"
   },
   "outputs": [],
   "source": [
    "rows, columns = data.shape\n",
    "print(f\"Total rows: {rows}\")  # 77 rows\n",
    "print(f\"Total columns: {columns}\")  # 6 columns"
   ]
  },
  {
   "cell_type": "markdown",
   "metadata": {
    "colab_type": "text",
    "id": "FGDqgiAxrPnP"
   },
   "source": [
    "### Задание 3\n",
    "\n",
    "Присвоить столбцам следующие названия (указаны с пояснениями): \n",
    "\n",
    "* `id`: id участника\n",
    "* `dist`: расстояние в милях (по карте)\n",
    "* `climb`: высота, достигнутая на маршруте (в сумме за весь маршрут, в футах)\n",
    "* `time`: время (в часах)\n",
    "* `timef`: время для женщин (в часах)\n",
    "* `type`: тип гонки (*hill*, *marathon*, *relay*, *uphill* or *other*)"
   ]
  },
  {
   "cell_type": "code",
   "execution_count": null,
   "metadata": {
    "colab": {},
    "colab_type": "code",
    "id": "NY-269FGrPnQ"
   },
   "outputs": [],
   "source": [
    "data.columns = [\"id\", \"dist\", \"climb\", \"time\", \"timef\", \"type\"]\n",
    "data"
   ]
  },
  {
   "cell_type": "markdown",
   "metadata": {
    "colab_type": "text",
    "id": "zO-W3sS1rPnT"
   },
   "source": [
    "### Задание 4\n",
    "\n",
    "Вывести на экран значение высоты, достигнутой на маршруте участником *Norman's Law*."
   ]
  },
  {
   "cell_type": "code",
   "execution_count": null,
   "metadata": {
    "colab": {},
    "colab_type": "code",
    "id": "WD7RsfpIrPnU"
   },
   "outputs": [],
   "source": [
    "data.index=data[\"id\"]\n",
    "data.loc[\"Norman's Law\", \"climb\"]"
   ]
  },
  {
   "cell_type": "markdown",
   "metadata": {
    "colab_type": "text",
    "id": "FWSvXwDsrPnX"
   },
   "source": [
    "### Задание 5\n",
    "Вывести на экран значения показателей `dist`, `climb` , `time` для первых 10 участников."
   ]
  },
  {
   "cell_type": "code",
   "execution_count": null,
   "metadata": {
    "colab": {},
    "colab_type": "code",
    "id": "Rx8FCk-1rPnX"
   },
   "outputs": [],
   "source": [
    "data.head(10)[[\"dist\", \"climb\", \"time\"]]"
   ]
  },
  {
   "cell_type": "markdown",
   "metadata": {
    "colab_type": "text",
    "id": "hE_DuG3zrPnb"
   },
   "source": [
    "### Задание 6\n",
    "\n",
    "Вывести на экран сводную информацию по датафрейму, которая включает типы всех столбцов. Сколько столбцов типа `float` в датафрейме? Привести ответ на вопрос в виде текста или комментария к коду."
   ]
  },
  {
   "cell_type": "code",
   "execution_count": null,
   "metadata": {
    "colab": {},
    "colab_type": "code",
    "id": "GPMKlBTArPnb"
   },
   "outputs": [],
   "source": [
    "data.info()\n",
    "# Все столбцы имеют тип Object; нет столбцов с типом foat"
   ]
  },
  {
   "cell_type": "markdown",
   "metadata": {
    "colab_type": "text",
    "id": "HZk0YywrrPne"
   },
   "source": [
    "### Задание 7\n",
    "\n",
    "Выбрать строки, которые соответствуют участникам эстафеты (*relay*)."
   ]
  },
  {
   "cell_type": "code",
   "execution_count": null,
   "metadata": {
    "colab": {},
    "colab_type": "code",
    "id": "oVotUFlMrPne"
   },
   "outputs": [],
   "source": [
    "data[data[\"type\"]==\"relay\"]"
   ]
  },
  {
   "cell_type": "markdown",
   "metadata": {
    "colab_type": "text",
    "id": "kzFdcYCCrPnh"
   },
   "source": [
    "### Задание 8\n",
    "\n",
    "Выбрать строки, которые соответствуют участникам гонки в холмах (*hill*), которые в сумме достигли высоты более 1000 футов. Посчитать, сколько таких участников."
   ]
  },
  {
   "cell_type": "code",
   "execution_count": null,
   "metadata": {
    "colab": {},
    "colab_type": "code",
    "id": "QqaztdTGrPni"
   },
   "outputs": [],
   "source": [
    "data[(data[\"type\"]==\"hill\") & (data[\"climb\"] > 1000)]"
   ]
  },
  {
   "cell_type": "markdown",
   "metadata": {
    "colab_type": "text",
    "id": "DpE3J3EgrPnk"
   },
   "source": [
    "### Задание 9\n",
    "\n",
    "Выбрать строки, соответствующие участникам, которые либо достигли высоты более 4000 футов, либо потратили менее 0.5 часов."
   ]
  },
  {
   "cell_type": "code",
   "execution_count": null,
   "metadata": {
    "colab": {},
    "colab_type": "code",
    "id": "PLoGXxynrPnk"
   },
   "outputs": [],
   "source": [
    "data[(data[\"timef\"]< 0.5) | (data[\"time\"] < 0.5) | (data[\"climb\"] > 4000)]"
   ]
  },
  {
   "cell_type": "markdown",
   "metadata": {
    "colab_type": "text",
    "id": "GL_JBYmarPnn"
   },
   "source": [
    "### Задание 10\n",
    "\n",
    "Создать столбец `time_min`, который содержит время маршрута, измеренное в минутах."
   ]
  },
  {
   "cell_type": "code",
   "execution_count": null,
   "metadata": {
    "colab": {},
    "colab_type": "code",
    "id": "Z9BCFTSsrPno"
   },
   "outputs": [],
   "source": [
    "data[\"time_min\"] = data[\"time\"] * 60"
   ]
  },
  {
   "cell_type": "markdown",
   "metadata": {
    "colab_type": "text",
    "id": "AlVDMiverPnq"
   },
   "source": [
    "### Задание 11\n",
    "\n",
    "Создать столбец `year` с годом соревнований (везде 2000 год). Внимание: столбец с годом должен быть числовым (целочисленным)."
   ]
  },
  {
   "cell_type": "code",
   "execution_count": null,
   "metadata": {
    "colab": {},
    "colab_type": "code",
    "id": "NZVwqWRbrPnq"
   },
   "outputs": [],
   "source": [
    "data[\"year\"] = 2000"
   ]
  },
  {
   "cell_type": "markdown",
   "metadata": {
    "colab_type": "text",
    "id": "XfY_zdL1rPnt"
   },
   "source": [
    ".<br> .<br> .<br> .<br> .<br> .<br> .<br> .<br> .<br> .<br> .<br> .<br> .<br> .<br> .<br> .<br> .<br> .<br> \n",
    "# Дополнительное (необязательное) задание.\n",
    "<br>\n",
    "\n"
   ]
  },
  {
   "cell_type": "markdown",
   "metadata": {
    "colab_type": "text",
    "id": "npN8fNXDrPnt"
   },
   "source": [
    "### Задание 1\n",
    "\n",
    "Загрузить датафрейм из файла `extraversion.csv`, используя код ниже. При этом файл `extraversion.csv` должен находиться в той же папке, что и ноутбук с решениями. Его можно поместить в ту же папку, нажав кнопку *Upload* в *Home*."
   ]
  },
  {
   "cell_type": "code",
   "execution_count": null,
   "metadata": {
    "colab": {},
    "colab_type": "code",
    "id": "lW-vcZnxrPnu"
   },
   "outputs": [],
   "source": [
    "# кодировка UTF-8, чтобы кириллица корректно считывалась на Windows\n",
    "ps = pd.read_csv(\"extraversion.csv\", encoding = \"UTF-8\")"
   ]
  },
  {
   "cell_type": "markdown",
   "metadata": {
    "colab_type": "text",
    "id": "d9CEJ_GZrPny"
   },
   "source": [
    "Файл содержит результаты учебного психометрического исследования, целью которого является выявление связи между уровнем экстраверсии человека и его склонности к участию в волонтёрской деятельности. Датафрейм содержит следующие столбцы:\n",
    "\n",
    "* `sex`: пол респондента (Женский, Мужской);\n",
    "* `volunteer`: регулярное участие в волонтёрской деятельности (Да, Нет);\n",
    "* `Q 1` - `Q 57`: ответы на вопросы по анкете Айзенка (Да, Нет), информацию об анкете и сами вопросы можно найти на [этой](http://ipp.hse.ru/57-testytest-ajzenka-ekstraversiya-introversiya-nejrotizm) странице."
   ]
  },
  {
   "cell_type": "code",
   "execution_count": 26,
   "metadata": {
    "colab": {},
    "colab_type": "code",
    "id": "zUb0Cp7ZrPny"
   },
   "outputs": [],
   "source": [
    "import pandas as pd\n",
    "data = pd.read_csv(\"hw_12_extraversion.csv\", encoding = \"UTF-8\")"
   ]
  },
  {
   "cell_type": "markdown",
   "metadata": {
    "colab_type": "text",
    "id": "pX6jOfagrPn0"
   },
   "source": [
    "### Задание 2\n",
    "\n",
    "Определить, сколько в датафрейме строк и столбцов. Привести код и указать ответ в виде текста или комментария к коду."
   ]
  },
  {
   "cell_type": "code",
   "execution_count": 27,
   "metadata": {
    "colab": {},
    "colab_type": "code",
    "id": "mfBZmgiPrPn1"
   },
   "outputs": [
    {
     "name": "stdout",
     "output_type": "stream",
     "text": [
      "52\n",
      "61\n"
     ]
    }
   ],
   "source": [
    "rows, columns = data.shape\n",
    "print(rows)  # 52\n",
    "print(columns)  # 61"
   ]
  },
  {
   "cell_type": "markdown",
   "metadata": {
    "colab_type": "text",
    "id": "s2lazwhYrPn4"
   },
   "source": [
    "### Задание 3\n",
    "\n",
    "Переименовать столбцы `Q 1`-`Q 57` в `Q1`-`Q57`, другими словами, убрать в названиях всех столбцов пробелы в середине (если есть). \n",
    "\n",
    "**Подсказка 1:** Метод `.replace()` для строк на [pythontutor.ru](https://pythontutor.ru/lessons/str/).\n",
    "\n",
    "**Подсказка 2:** Для выполнения этого задания можно написать функцию, которая будет заменять пробелы на «пустоту», а потом применить её с помощью функции `map()` ко всем элементам списка. Пример ниже иллюстрирует применение функции для изменения регистра текста."
   ]
  },
  {
   "cell_type": "code",
   "execution_count": 28,
   "metadata": {
    "colab": {},
    "colab_type": "code",
    "id": "2s4fVpufrPn5",
    "outputId": "5642c90f-9aed-465e-b5d7-1a70aa01946e"
   },
   "outputs": [
    {
     "data": {
      "text/plain": [
       "['ЯБЛОКО', 'ГРУША', 'СЛИВА']"
      ]
     },
     "execution_count": 28,
     "metadata": {},
     "output_type": "execute_result"
    }
   ],
   "source": [
    "# Пример\n",
    "\n",
    "L = ['яблоко', 'груша', 'слива']  # исходный список\n",
    "\n",
    "# функция принимает на вход строку x и возвращает её же, \n",
    "# но большими буквами – метод .upper()\n",
    "\n",
    "def f(x):\n",
    "    \"\"\"\n",
    "    Input: x is a string.\n",
    "    Output: x is a string.\n",
    "    Makes all letters uppercase. \n",
    "    \"\"\"\n",
    "    return x.upper()\n",
    "\n",
    "# результат: применяем функцию f к списку L через map и преобразуем в список\n",
    "# можно убрать list() вначале и убедиться, что он здесь нужен\n",
    "\n",
    "list(map(f, L))  "
   ]
  },
  {
   "cell_type": "code",
   "execution_count": 29,
   "metadata": {
    "colab": {},
    "colab_type": "code",
    "id": "ykhvSZWdrPn7"
   },
   "outputs": [],
   "source": [
    "data.columns = list(map(lambda i: i.replace(\"Q \", \"Q\"), data.columns))"
   ]
  },
  {
   "cell_type": "markdown",
   "metadata": {
    "colab_type": "text",
    "id": "mBKHqz_nrPn9"
   },
   "source": [
    "### Задание 4\n",
    "\n",
    "Выбрать столбцы `Q1`, `Q3`, `Q8`, `Q10`, `Q13`, `Q17`, `Q22`, `Q25`, `Q27`, `Q39`, `Q44`, `Q46`, `Q49`, `Q53`, `Q56` и сохранить их в отдельный датафрейм `extra_yes`. \n",
    "\n",
    "Выбрать столбцы `Q5`, `Q15`, `Q20`, `Q29`, `Q32`, `Q34`, `Q37`,`Q41`, `Q51` и сохранить их в отдельный датафрейм `extra_no`.\n",
    "\n",
    "Эти столбцы будут использоваться для вычисления индекса экстраверсии."
   ]
  },
  {
   "cell_type": "code",
   "execution_count": 30,
   "metadata": {
    "colab": {},
    "colab_type": "code",
    "id": "pBs51NxWrPn-"
   },
   "outputs": [],
   "source": [
    "extra_yes = data[[\"Q1\", \"Q3\", \"Q8\", \"Q10\", \"Q13\", \"Q17\", \"Q22\", \"Q25\", \"Q27\", \"Q39\", \"Q44\", \"Q46\", \"Q49\", \"Q53\", \"Q56\"]]\n",
    "extra_no = data[[\"Q5\", \"Q15\", \"Q20\", \"Q29\", \"Q32\", \"Q34\", \"Q37\", \"Q41\", \"Q51\"]]"
   ]
  },
  {
   "cell_type": "markdown",
   "metadata": {
    "colab_type": "text",
    "id": "w051Hsq2rPoA"
   },
   "source": [
    "### Задание 5\n",
    "\n",
    "Посчитать для каждой строки в датафрейме `extra_yes` число ответов `\"Да\"` и полученный результат сохранить в переменную `extra_yes_sum`. Посчитать для каждой строки в датафрейме `extra_no` число ответов `\"Нет\"` и полученный результат сохранить в переменную `extra_no_sum`.\n",
    "\n",
    "**Подсказка 1:** метод `.isin()` для [датафреймов](https://pandas.pydata.org/pandas-docs/stable/reference/api/pandas.DataFrame.isin.html) `pandas`.\n",
    "\n",
    "**Подсказка 2:** метод `.sum()` для [датафреймов](https://pandas.pydata.org/pandas-docs/stable/reference/api/pandas.DataFrame.sum.html) `pandas`. "
   ]
  },
  {
   "cell_type": "code",
   "execution_count": 31,
   "metadata": {
    "colab": {},
    "colab_type": "code",
    "id": "WJlUehunrPoB"
   },
   "outputs": [
    {
     "name": "stderr",
     "output_type": "stream",
     "text": [
      "<ipython-input-31-546cfcf3148b>:1: SettingWithCopyWarning: \n",
      "A value is trying to be set on a copy of a slice from a DataFrame.\n",
      "Try using .loc[row_indexer,col_indexer] = value instead\n",
      "\n",
      "See the caveats in the documentation: https://pandas.pydata.org/pandas-docs/stable/user_guide/indexing.html#returning-a-view-versus-a-copy\n",
      "  extra_yes[\"extra_yes_sum\"] = extra_yes.isin([\"Да\"]).sum(1)\n",
      "<ipython-input-31-546cfcf3148b>:2: SettingWithCopyWarning: \n",
      "A value is trying to be set on a copy of a slice from a DataFrame.\n",
      "Try using .loc[row_indexer,col_indexer] = value instead\n",
      "\n",
      "See the caveats in the documentation: https://pandas.pydata.org/pandas-docs/stable/user_guide/indexing.html#returning-a-view-versus-a-copy\n",
      "  extra_no[\"extra_no_sum\"] = extra_no.isin([\"Нет\"]).sum(1)\n"
     ]
    }
   ],
   "source": [
    "extra_yes[\"extra_yes_sum\"] = extra_yes.isin([\"Да\"]).sum(1)\n",
    "extra_no[\"extra_no_sum\"] = extra_no.isin([\"Нет\"]).sum(1)"
   ]
  },
  {
   "cell_type": "markdown",
   "metadata": {
    "colab_type": "text",
    "id": "BlvTatd9rPoD"
   },
   "source": [
    "### Задание 6\n",
    "\n",
    "Добавить в исходный датафрейм столбец `extra`, который представляет собой индекс экстраверсии, который считается так: сумма числа ответов \"Да\" в `extra_yes` и числа ответов \"Нет\" в `extra_no`."
   ]
  },
  {
   "cell_type": "code",
   "execution_count": 32,
   "metadata": {
    "colab": {},
    "colab_type": "code",
    "id": "kRJBzjoPrPoD"
   },
   "outputs": [],
   "source": [
    "data[\"extra\"] = extra_yes[\"extra_yes_sum\"] + extra_no[\"extra_no_sum\"]"
   ]
  },
  {
   "cell_type": "markdown",
   "metadata": {
    "colab_type": "text",
    "id": "sTaxQ5ydrPoF"
   },
   "source": [
    "### Задание 7"
   ]
  },
  {
   "cell_type": "markdown",
   "metadata": {
    "colab_type": "text",
    "id": "byt7Xgv3rPoF"
   },
   "source": [
    "Добавить в исходный датафрейм столбец `female`, состоящий из значений 0 и 1 (0 — Мужской, 1 — Женский). \n",
    "\n",
    "**Подсказка:** возможно, пригодится метод `.astype()` для [Series](https://pandas.pydata.org/pandas-docs/version/0.23.4/generated/pandas.Series.astype.html) в `pandas`, он преобразует типы столбцов."
   ]
  },
  {
   "cell_type": "code",
   "execution_count": 33,
   "metadata": {
    "colab": {},
    "colab_type": "code",
    "id": "Dcei2X8ErPoG"
   },
   "outputs": [],
   "source": [
    "data[\"female\"] = (data[\"sex\"] == \"Женский\").astype(int)"
   ]
  },
  {
   "cell_type": "markdown",
   "metadata": {
    "colab_type": "text",
    "id": "QpMX93eyrPoJ"
   },
   "source": [
    "### Задание 8\n",
    "\n",
    "Выбрать из исходного датафрейма строки, которые соответствуют либо волонтёрам с индексом экстраверсии выше 15, либо не-волонтёрам с индексом экстраверсии ниже 15. Сохранить в датафрейм `pure`."
   ]
  },
  {
   "cell_type": "code",
   "execution_count": 101,
   "metadata": {
    "colab": {},
    "colab_type": "code",
    "id": "IpcX8c75rPoJ"
   },
   "outputs": [],
   "source": [
    "pure = data[((data[\"volunteer\"] == \"Да\") & (data[\"extra\"] > 15)) | ((data[\"volunteer\"] == \"Нет\") & (data[\"extra\"] < 15))]"
   ]
  },
  {
   "cell_type": "markdown",
   "metadata": {
    "colab_type": "text",
    "id": "bx3eYrHNrPoM"
   },
   "source": [
    "### Задание 9\n",
    "\n",
    "Определить (любым способом, кроме явного подсчёта), сколько волонтёров и не-волонтёров в датафрейме `pure`."
   ]
  },
  {
   "cell_type": "code",
   "execution_count": 47,
   "metadata": {
    "colab": {},
    "colab_type": "code",
    "id": "EmHHO76urPoM"
   },
   "outputs": [
    {
     "data": {
      "text/plain": [
       "21"
      ]
     },
     "execution_count": 47,
     "metadata": {},
     "output_type": "execute_result"
    }
   ],
   "source": [
    "total_volunteers = (pure[\"volunteer\"] == \"Да\").sum()\n",
    "total_non_volunteers = pure.shape[0] - total_volunteers"
   ]
  },
  {
   "cell_type": "markdown",
   "metadata": {
    "colab_type": "text",
    "id": "ZaFJACawrPoO"
   },
   "source": [
    "### Задание 10\n",
    "\n",
    "Определить минимальное, максимальное, среднее и медианное значение индекса экстраверсии в датафрейме `pure`. Сохранить полученные результаты в отдельные переменные (их должно быть 4).\n",
    "\n",
    "Добавить в датафрейм `pure` столбец `high`, состоящий из 0 и 1, где 1 соответствует респондентам, уровень экстраверсии которых выше значения $m = \\max\\{\\text{median}, \\text{mean}\\}$, то есть максимума из медианного и среднего значения, а 0 — респондентам с уровнем экстраверсии не выше $m$."
   ]
  },
  {
   "cell_type": "code",
   "execution_count": 100,
   "metadata": {
    "colab": {},
    "colab_type": "code",
    "id": "tejD-fLSrPoP"
   },
   "outputs": [
    {
     "name": "stderr",
     "output_type": "stream",
     "text": [
      "<ipython-input-100-f6bdf1eea738>:6: SettingWithCopyWarning: \n",
      "A value is trying to be set on a copy of a slice from a DataFrame.\n",
      "Try using .loc[row_indexer,col_indexer] = value instead\n",
      "\n",
      "See the caveats in the documentation: https://pandas.pydata.org/pandas-docs/stable/user_guide/indexing.html#returning-a-view-versus-a-copy\n",
      "  pure[\"hingh\"] = (pure[\"extra\"] > max(extra_mean, extra_median)).astype(int)\n"
     ]
    }
   ],
   "source": [
    "extra_max = pure.describe().loc[\"max\", \"extra\"]\n",
    "extra_min = pure.describe().loc[\"min\", \"extra\"]\n",
    "extra_mean = pure.describe().loc[\"mean\", \"extra\"]\n",
    "extra_median = pure.describe().loc[\"std\", \"extra\"]\n",
    "\n",
    "pure[\"hingh\"] = (pure[\"extra\"] > max(extra_mean, extra_median)).astype(int)"
   ]
  }
 ],
 "metadata": {
  "colab": {
   "collapsed_sections": [],
   "name": "jun_anl_pandas1.ipynb",
   "provenance": []
  },
  "kernelspec": {
   "display_name": "Python 3",
   "language": "python",
   "name": "python3"
  },
  "language_info": {
   "codemirror_mode": {
    "name": "ipython",
    "version": 3
   },
   "file_extension": ".py",
   "mimetype": "text/x-python",
   "name": "python",
   "nbconvert_exporter": "python",
   "pygments_lexer": "ipython3",
   "version": "3.8.5"
  }
 },
 "nbformat": 4,
 "nbformat_minor": 1
}
