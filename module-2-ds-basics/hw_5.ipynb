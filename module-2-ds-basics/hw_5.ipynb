{
  "nbformat": 4,
  "nbformat_minor": 0,
  "metadata": {
    "kernelspec": {
      "display_name": "Python 3",
      "language": "python",
      "name": "python3"
    },
    "language_info": {
      "codemirror_mode": {
        "name": "ipython",
        "version": 3
      },
      "file_extension": ".py",
      "mimetype": "text/x-python",
      "name": "python",
      "nbconvert_exporter": "python",
      "pygments_lexer": "ipython3",
      "version": "3.7.4"
    },
    "colab": {
      "name": "matplotlib 1 - ДЗ.ipynb",
      "provenance": [],
      "collapsed_sections": [],
      "include_colab_link": true
    }
  },
  "cells": [
    {
      "cell_type": "markdown",
      "metadata": {
        "id": "view-in-github",
        "colab_type": "text"
      },
      "source": [
        "<a href=\"https://colab.research.google.com/github/ziminas1990/SkillBox-DataScience/blob/master/module-2-ds-basics/hw_5.ipynb\" target=\"_parent\"><img src=\"https://colab.research.google.com/assets/colab-badge.svg\" alt=\"Open In Colab\"/></a>"
      ]
    },
    {
      "cell_type": "markdown",
      "metadata": {
        "id": "vapihj9aEL4H"
      },
      "source": [
        "# Основы визуализации данных с помощью Matplotlib\n",
        "\n",
        "## Домашнее задание \n",
        "\n",
        "### Цель домашнего задания\n",
        "\n",
        "Отработать навык визуализации данных с помощью простых графиков matplotlib. Научиться использовать визуализацию данных для проверки гипотез и валидации данных\n",
        "\n",
        "### Описание домашнего задания и формат сдачи\n",
        "\n",
        "Вам предстоит выполнить задачи по визуализации данных. Для этого  впишите свой код в ячейки после комментария `### YOUR CODE HERE ###` и сохраните изменения, используя опцию *Save and Checkpoint* из вкладки меню *File* или кнопку *Save and Checkpoint* на панели инструментов. Итоговый файл в формате `.ipynb` (файл Jupyter Notebook) загрузите в личный кабинет и отправьте на проверку преподавателю.\n",
        "\n",
        "**Важно учесть:** У всех графиков обязательно должен присутствовать заголовок и подписи осей. Убедитесь, что все метки и подписи осей читаемы.\n",
        "\n",
        "#### Описание данных\n",
        "\n",
        "Для выполнения домашнего задания необходимо использовать датасет `vgsales.csv`, загрузка которого будет приведена ниже. Этот датасет содержит информацию о суммарных продажах видеоигр для игровых консолей. Описание признаков:\n",
        "* `Rank` - порядковый номер записи в датасете\n",
        "* `Name` - наименование игры\n",
        "* `Platform` - платформа, для которой выпущена игра (Nintendo, PlayStation, XBox и др.)\n",
        "* `Year` - год выпуска игры\n",
        "* `Genre` - жанр игры\n",
        "* `Publisher` - наименование компании-издателя игры\n",
        "* `NA_Sales` - объем продаж игры в Северной Америке, млн. копий\n",
        "* `EU_Sales` - объем продаж игры в Европе, млн. копий\n",
        "* `JP_Sales` - объем продаж игры в Японии, млн. копий\n",
        "* `Other_Sales` - объем продаж игры в остальных странах, млн. копий\n",
        "* `Global_Sales` - объем продаж игры по всему миру, млн. копий\n",
        "\n",
        "### Критерии оценки\n",
        "\n",
        "**\"Зачет\"** - выполнены задачи 1-9, каждый график отформатирован и читаем\n",
        "\n",
        "**\"На доработку\"** - выполнены не все обязательные задачи или какой-либо из график не читаем или не подписан\n",
        "\n",
        "### Рекомендации по выполнению\n",
        "\n",
        "* Библиотеки, которые необходимы для выполнения домашнего задания, перечислены в ячейке ниже.\n",
        "* Подсказка по работе с Jupyter: если перед графиком выводится слишком много текста, поставьте ';' в конце последней строки ячейки"
      ]
    },
    {
      "cell_type": "code",
      "metadata": {
        "id": "GtDdGe15EL5f"
      },
      "source": [
        "import pandas as pd\n",
        "import matplotlib.pyplot as plt"
      ],
      "execution_count": null,
      "outputs": []
    },
    {
      "cell_type": "markdown",
      "metadata": {
        "id": "1w5TMm7pEL5g"
      },
      "source": [
        "### Загрузка данных"
      ]
    },
    {
      "cell_type": "code",
      "metadata": {
        "id": "96K_lFO7EL5g",
        "outputId": "aaff9728-b257-4e41-f2d3-a651adff2f1b"
      },
      "source": [
        "df = pd.read_csv('vgsales.csv')\n",
        "df.head()"
      ],
      "execution_count": null,
      "outputs": [
        {
          "output_type": "execute_result",
          "data": {
            "text/html": [
              "<div>\n",
              "<style scoped>\n",
              "    .dataframe tbody tr th:only-of-type {\n",
              "        vertical-align: middle;\n",
              "    }\n",
              "\n",
              "    .dataframe tbody tr th {\n",
              "        vertical-align: top;\n",
              "    }\n",
              "\n",
              "    .dataframe thead th {\n",
              "        text-align: right;\n",
              "    }\n",
              "</style>\n",
              "<table border=\"1\" class=\"dataframe\">\n",
              "  <thead>\n",
              "    <tr style=\"text-align: right;\">\n",
              "      <th></th>\n",
              "      <th>Rank</th>\n",
              "      <th>Name</th>\n",
              "      <th>Platform</th>\n",
              "      <th>Year</th>\n",
              "      <th>Genre</th>\n",
              "      <th>Publisher</th>\n",
              "      <th>NA_Sales</th>\n",
              "      <th>EU_Sales</th>\n",
              "      <th>JP_Sales</th>\n",
              "      <th>Other_Sales</th>\n",
              "      <th>Global_Sales</th>\n",
              "    </tr>\n",
              "  </thead>\n",
              "  <tbody>\n",
              "    <tr>\n",
              "      <th>0</th>\n",
              "      <td>1</td>\n",
              "      <td>Wii Sports</td>\n",
              "      <td>Wii</td>\n",
              "      <td>2006.0</td>\n",
              "      <td>Sports</td>\n",
              "      <td>Nintendo</td>\n",
              "      <td>41.49</td>\n",
              "      <td>29.02</td>\n",
              "      <td>3.77</td>\n",
              "      <td>8.46</td>\n",
              "      <td>82.74</td>\n",
              "    </tr>\n",
              "    <tr>\n",
              "      <th>1</th>\n",
              "      <td>2</td>\n",
              "      <td>Super Mario Bros.</td>\n",
              "      <td>NES</td>\n",
              "      <td>1985.0</td>\n",
              "      <td>Platform</td>\n",
              "      <td>Nintendo</td>\n",
              "      <td>29.08</td>\n",
              "      <td>3.58</td>\n",
              "      <td>6.81</td>\n",
              "      <td>0.77</td>\n",
              "      <td>40.24</td>\n",
              "    </tr>\n",
              "    <tr>\n",
              "      <th>2</th>\n",
              "      <td>3</td>\n",
              "      <td>Mario Kart Wii</td>\n",
              "      <td>Wii</td>\n",
              "      <td>2008.0</td>\n",
              "      <td>Racing</td>\n",
              "      <td>Nintendo</td>\n",
              "      <td>15.85</td>\n",
              "      <td>12.88</td>\n",
              "      <td>3.79</td>\n",
              "      <td>3.31</td>\n",
              "      <td>35.82</td>\n",
              "    </tr>\n",
              "    <tr>\n",
              "      <th>3</th>\n",
              "      <td>4</td>\n",
              "      <td>Wii Sports Resort</td>\n",
              "      <td>Wii</td>\n",
              "      <td>2009.0</td>\n",
              "      <td>Sports</td>\n",
              "      <td>Nintendo</td>\n",
              "      <td>15.75</td>\n",
              "      <td>11.01</td>\n",
              "      <td>3.28</td>\n",
              "      <td>2.96</td>\n",
              "      <td>33.00</td>\n",
              "    </tr>\n",
              "    <tr>\n",
              "      <th>4</th>\n",
              "      <td>5</td>\n",
              "      <td>Pokemon Red/Pokemon Blue</td>\n",
              "      <td>GB</td>\n",
              "      <td>1996.0</td>\n",
              "      <td>Role-Playing</td>\n",
              "      <td>Nintendo</td>\n",
              "      <td>11.27</td>\n",
              "      <td>8.89</td>\n",
              "      <td>10.22</td>\n",
              "      <td>1.00</td>\n",
              "      <td>31.37</td>\n",
              "    </tr>\n",
              "  </tbody>\n",
              "</table>\n",
              "</div>"
            ],
            "text/plain": [
              "   Rank                      Name Platform    Year         Genre Publisher  \\\n",
              "0     1                Wii Sports      Wii  2006.0        Sports  Nintendo   \n",
              "1     2         Super Mario Bros.      NES  1985.0      Platform  Nintendo   \n",
              "2     3            Mario Kart Wii      Wii  2008.0        Racing  Nintendo   \n",
              "3     4         Wii Sports Resort      Wii  2009.0        Sports  Nintendo   \n",
              "4     5  Pokemon Red/Pokemon Blue       GB  1996.0  Role-Playing  Nintendo   \n",
              "\n",
              "   NA_Sales  EU_Sales  JP_Sales  Other_Sales  Global_Sales  \n",
              "0     41.49     29.02      3.77         8.46         82.74  \n",
              "1     29.08      3.58      6.81         0.77         40.24  \n",
              "2     15.85     12.88      3.79         3.31         35.82  \n",
              "3     15.75     11.01      3.28         2.96         33.00  \n",
              "4     11.27      8.89     10.22         1.00         31.37  "
            ]
          },
          "metadata": {
            "tags": []
          },
          "execution_count": 3
        }
      ]
    },
    {
      "cell_type": "markdown",
      "metadata": {
        "id": "kI_pdqEHEL5h"
      },
      "source": [
        "### Задача 1\n",
        "\n",
        "Постройте гистограмму распределения объема продаж всех игр в Японии"
      ]
    },
    {
      "cell_type": "code",
      "metadata": {
        "id": "_zt3IWnyEL5i"
      },
      "source": [
        "### YOUR CODE HERE ###\n"
      ],
      "execution_count": null,
      "outputs": []
    },
    {
      "cell_type": "markdown",
      "metadata": {
        "id": "CEOe31wXEL5i"
      },
      "source": [
        "### Задача 2\n",
        "\n",
        "Постройте столбчатую диаграмму (barchart), показывающую сравнение общемирового объема продаж игры \"Grand Theft Auto V\" на разных платформах"
      ]
    },
    {
      "cell_type": "code",
      "metadata": {
        "id": "9q_SA78EEL5i"
      },
      "source": [
        "### YOUR CODE HERE ###\n"
      ],
      "execution_count": null,
      "outputs": []
    },
    {
      "cell_type": "markdown",
      "metadata": {
        "id": "UrmZ612xEL5j"
      },
      "source": [
        "### Задача 3\n",
        "\n",
        "Постройте линейный график динамики суммарных общемировых продаж всех игр по годам"
      ]
    },
    {
      "cell_type": "code",
      "metadata": {
        "id": "mGXQCdBpEL5j"
      },
      "source": [
        "### YOUR CODE HERE ###\n"
      ],
      "execution_count": null,
      "outputs": []
    },
    {
      "cell_type": "markdown",
      "metadata": {
        "id": "8N0m-2s-EL5t"
      },
      "source": [
        "### Задача 4\n",
        "\n",
        "Постройте точечную диаграмму, показывающую существование зависимости продаж во всем мире от продаж в Северной Америке"
      ]
    },
    {
      "cell_type": "code",
      "metadata": {
        "id": "eVKLP-xSEL5t"
      },
      "source": [
        "### YOUR CODE HERE ###\n"
      ],
      "execution_count": null,
      "outputs": []
    },
    {
      "cell_type": "markdown",
      "metadata": {
        "id": "KNQE6hOCEL5u"
      },
      "source": [
        "### Задача 5\n",
        "\n",
        "Постройте круговую диаграмму процентного соотношения продаж игры \"Super Mario Bros.\" на разных платформах во всем мире. Подпишите доли графика с точностью 1 знак после запятой."
      ]
    },
    {
      "cell_type": "code",
      "metadata": {
        "id": "0uG8SF09EL5u"
      },
      "source": [
        "### YOUR CODE HERE ###\n"
      ],
      "execution_count": null,
      "outputs": []
    },
    {
      "cell_type": "markdown",
      "metadata": {
        "id": "XRwsK9VQEL5u"
      },
      "source": [
        "### Задача 6\n",
        "\n",
        "Определите 5 издателей, имеющих наибольшие суммарные продажи во всем мире в 2013 году и проиллюстрируйте величину их продаж на столбчатой гистограмме"
      ]
    },
    {
      "cell_type": "code",
      "metadata": {
        "id": "ZGdqxelQEL5u"
      },
      "source": [
        "### YOUR CODE HERE ###\n"
      ],
      "execution_count": null,
      "outputs": []
    },
    {
      "cell_type": "markdown",
      "metadata": {
        "id": "7BULNqWREL5v"
      },
      "source": [
        "### Задача 7\n",
        "\n",
        "Постройте гистограмму распределения величины общемировых продаж игр, выпущенных не издателем Nintendo, в период с 2000 по 2015 год включительно. Гистограмма для большей точности должна содержать 20 столбцов, отсечки на оси X должны соответствовать границам столбцов."
      ]
    },
    {
      "cell_type": "code",
      "metadata": {
        "id": "AS4JMCf7EL5v"
      },
      "source": [
        "### YOUR CODE HERE ###\n"
      ],
      "execution_count": null,
      "outputs": []
    },
    {
      "cell_type": "markdown",
      "metadata": {
        "id": "a5W6irHkEL5v"
      },
      "source": [
        "### Задача 8\n",
        "\n",
        "Постройте линейный график динамики суммарных мировых продаж игр жанра \"Action\" по годам"
      ]
    },
    {
      "cell_type": "code",
      "metadata": {
        "id": "M2gIr485EL5w"
      },
      "source": [
        "### YOUR CODE HERE ###\n"
      ],
      "execution_count": null,
      "outputs": []
    },
    {
      "cell_type": "markdown",
      "metadata": {
        "id": "E39E8Nn3EL5z"
      },
      "source": [
        "### Задача 9\n",
        "\n",
        "С помощью столбчатой диаграммы проиллюстрируйте объем продаж всех игр издателя \"Microsoft Game Studios\" в Северной Америке за все время в зависимости от жанра. Столбцы расположите по убыванию."
      ]
    },
    {
      "cell_type": "code",
      "metadata": {
        "id": "E9CWQG6VEL5z"
      },
      "source": [
        "### YOUR CODE HERE ###\n"
      ],
      "execution_count": null,
      "outputs": []
    },
    {
      "cell_type": "markdown",
      "metadata": {
        "id": "npJVM4aXEL5-"
      },
      "source": [
        "## Дополнительные (необязательные) задачи\n",
        "\n",
        "### Задача 10\n",
        "\n",
        "Одной из основных задач при анализе данных является проверка данных на корректность и отсутствие ошибок. В датасете \"vgsales\" одним из потенциальных источников ошибок является столбец с общемировыми продажами. По идее, значение общемировых продаж какой-либо игры должно равняться сумме продаж в Северной Америке, Европе, Японии и остальных странах, в противном случае мы получим ошибку в данных, которая может негативно повлиять на весь дальнейший процесс анализа.\n",
        "\n",
        "Причин возникновения такой ошибки может быть несколько. Давайте рассмотрим следующие причины:\n",
        "1. Ошибка округления. В целом, такая ошибка достаточно часто встречается при переводе величин из одних единиц в другие (например, из тысяч копий в миллионы копий).\n",
        "1. Ошибка вычислений. Такая ситуация требует более серьезного исследования, поскольку она может привести к недостоверным результатам анализа данных.\n",
        "\n",
        "Будем считать, что в записи имеется ошибка суммирования, если сумма продаж какой-либо игры в Северной Америке, Европе, Японии и остальных странах отличается от общемировых продаж более, чем на 0.01 млн копий.\n",
        "\n",
        "С помощью круговой диаграммы проиллюстрируйте процент записей в датасете, имеющих такую ошибку суммирования продаж."
      ]
    },
    {
      "cell_type": "code",
      "metadata": {
        "id": "hBrkJjb6EL5_"
      },
      "source": [
        "### YOUR CODE HERE ###\n"
      ],
      "execution_count": null,
      "outputs": []
    }
  ]
}