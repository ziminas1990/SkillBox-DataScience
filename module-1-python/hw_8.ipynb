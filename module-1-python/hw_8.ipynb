{
 "cells": [
  {
   "cell_type": "markdown",
   "metadata": {
    "colab_type": "text",
    "id": "RbR5OTe50Za4"
   },
   "source": [
    "# Классы\n",
    "## Домашнее задание"
   ]
  },
  {
   "cell_type": "markdown",
   "metadata": {
    "colab_type": "text",
    "id": "Xh_DBCdu0Za5"
   },
   "source": [
    "### Вопросы по лекциям\n",
    "\n",
    "#### 1.\n",
    "\n",
    "Напишите название функции, которая является конструктором класса."
   ]
  },
  {
   "cell_type": "markdown",
   "metadata": {
    "colab_type": "text",
    "id": "8-Tj4AMg0Za6"
   },
   "source": [
    "**Ответ:** `__init__`"
   ]
  },
  {
   "cell_type": "markdown",
   "metadata": {
    "colab_type": "text",
    "id": "lf14yx330Za7"
   },
   "source": [
    "#### 2.\n",
    "\n",
    "На что указывает переменная `self`?"
   ]
  },
  {
   "cell_type": "markdown",
   "metadata": {
    "colab_type": "text",
    "id": "wI-0FWlF0Za8"
   },
   "source": [
    "**Ответ:** `self` - это ссылка на объект, для которого вызван метод (к которому привязан вызванный метод)"
   ]
  },
  {
   "cell_type": "markdown",
   "metadata": {
    "colab_type": "text",
    "id": "j_8_O_nl0Za8"
   },
   "source": [
    "#### 3.\n",
    "С помощью какой функции можно проверить, что некая строка является именем одного из атрибутов объекта?"
   ]
  },
  {
   "cell_type": "markdown",
   "metadata": {
    "colab_type": "text",
    "id": "5h8ASTrV0Za9"
   },
   "source": [
    "**Ответ:** `hasattr()`"
   ]
  },
  {
   "cell_type": "markdown",
   "metadata": {
    "colab_type": "text",
    "id": "G104VWgj0Za-"
   },
   "source": [
    "#### 4.\n",
    "Когда вызывается метод `__del__`? (относительно события удаления объекта)"
   ]
  },
  {
   "cell_type": "markdown",
   "metadata": {
    "colab_type": "text",
    "id": "Ukzoyxkn0Za-"
   },
   "source": [
    "**Ответ:** это неопределено, однако есть гарантия, что  `__del__` НЕ будет вызван пока есть хотя бы одна ссылка на объект"
   ]
  },
  {
   "cell_type": "markdown",
   "metadata": {
    "colab_type": "text",
    "id": "MkF-HyBM0ZbA"
   },
   "source": [
    "#### 5.\n",
    "Верно ли, что атрибут класса перекрывает атрибут объекта?"
   ]
  },
  {
   "cell_type": "markdown",
   "metadata": {
    "colab_type": "text",
    "id": "o7B52kVt0ZbC"
   },
   "source": [
    "**Ответ:** нет, при обращении к атрибуту через `self`, приоритет будет отдан атрибуту объекта"
   ]
  },
  {
   "cell_type": "markdown",
   "metadata": {
    "colab_type": "text",
    "id": "kSwZWV2B0ZbC"
   },
   "source": [
    "#### 6.\n",
    "Можно ли атрибуты базового класса вызывать в дочернем классе? Если да, то напишите, нет ли исклчений?"
   ]
  },
  {
   "cell_type": "markdown",
   "metadata": {
    "colab_type": "text",
    "id": "6i74Koih0ZbE"
   },
   "source": [
    "**Ответ:** да, если имя аттрибута начинается не с двойного подчёркивания `__`"
   ]
  },
  {
   "cell_type": "markdown",
   "metadata": {
    "colab_type": "text",
    "id": "tl1St2O20ZbE"
   },
   "source": [
    "#### 7.\n",
    "Объясните своими словами для чего нужен метод `super`."
   ]
  },
  {
   "cell_type": "markdown",
   "metadata": {
    "colab_type": "text",
    "id": "rg3u1PoY0ZbF"
   },
   "source": [
    "**Ответ:** для получения ссылки на себя как на объект базового класса. Позволяет обращаться к атрибутам базового класса, что особенно актуально в случае их перекратия аттрибутами дочернего класса."
   ]
  },
  {
   "cell_type": "markdown",
   "metadata": {
    "colab_type": "text",
    "id": "5AiJn8ut0ZbG"
   },
   "source": [
    "### Практика\n",
    "\n",
    "1. Напишите класс `Fraction` для работы с дробями. Пусть дробь в нашем классе предстает в виде `числитель/знаменатель`. Дробное число должно создаваться по запросу `Fraction(a, b)`, где `a` – это числитель, а `b` – знаменатель дроби. \n",
    "2. Добавьте возможность сложения (сложения через оператор сложения) для дроби. Предполагается, что операция сложения может проводиться как только между дробями, так и между дробью и целым числом. Результат операции должен быть представлен в виде дроби.\n",
    "3. Добавьте возможность взятия разности (вычитания через оператор вычитания) для дробей. Предполагается, что операция вычитания может проводиться как только для двух дробей, так и для дроби и целого числа. Результат операции должен быть представлен в виде дроби.\n",
    "4. Добавьте возможность умножения (умножения через оператор умножения) для дробей. Предполагается, что операция умножения может проводиться как только для двух дробей, так и для дроби и целого числа. Результат операции должен быть представлен в виде дроби.\n",
    "5. Добавьте возможность приведения дроби к целому числу через стандартную функцию `int()`.\n",
    "6. Добавьте возможность приведения дроби к числу с плавающей точкой через стандартную функцию `float()`.\n",
    "7. Создайте дочерний класс `OperationsOnFraction` и добавьте туда собственные методы `getint` и `getfloat`, которые будут возвращать целую часть дроби и представление дроби в виде числа с плавающей точкой соответственно. \n",
    " "
   ]
  },
  {
   "cell_type": "code",
   "execution_count": 86,
   "metadata": {
    "colab": {},
    "colab_type": "code",
    "id": "ru3BJ52J0ZbG"
   },
   "outputs": [
    {
     "name": "stdout",
     "output_type": "stream",
     "text": [
      "All tests passed!\n"
     ]
    }
   ],
   "source": [
    "from typing import List, Union\n",
    "from math import sqrt\n",
    "\n",
    "# There are a bunch of tests at the end of the file. You may take a look at\n",
    "# it to be confident that everything works perfectly\n",
    "\n",
    "# Note: maybe fraction's simplification is overengineering here, because\n",
    "# it is not required in the task, but it definitely makes class better\n",
    "\n",
    "class Fraction:\n",
    "    def __init__(self, numerator: int, denominator: int):\n",
    "        assert denominator > 0  # negative denominators are also not allowed\n",
    "        self.numerator = numerator\n",
    "        self.denominator = denominator\n",
    "        self.__simplify()\n",
    "        \n",
    "    def __eq__(self, other: Union[int, Fraction]):\n",
    "        if isinstance(other, Fraction):\n",
    "            # Both fraction are expected to be simplified\n",
    "            return self.numerator == other.numerator and \\\n",
    "                   self.denominator == other.denominator\n",
    "        else:\n",
    "            return self.numerator == other * self.denominator\n",
    "        \n",
    "    def __add__(self, other: Union[int, Fraction]) -> \"Fraction\":\n",
    "        if isinstance(other, Fraction):\n",
    "            numerator = self.numerator * other.denominator + \\\n",
    "                        other.numerator * self.denominator\n",
    "            denominator = self.denominator * other.denominator\n",
    "            return Fraction(numerator, denominator)\n",
    "        else:\n",
    "            return Fraction(self.numerator + other * self.denominator,\n",
    "                            self.denominator)\n",
    "        \n",
    "    def __radd__(self, other: int) -> \"Fraction\":\n",
    "        return self.__add__(other)\n",
    "    \n",
    "    def __sub__(self, other: Union[int, Fraction]) -> \"Fraction\":\n",
    "        return self.__add__(-other)\n",
    "        \n",
    "    def __rsub__(self, other: Union[int, Fraction]) -> \"Fraction\":\n",
    "        return -self.__add__(-other)\n",
    "    \n",
    "    def __neg__(self) -> \"Fraction\":\n",
    "        return Fraction(-self.numerator, self.denominator)\n",
    "    \n",
    "    def __mul__(self, other: Union[int, Fraction]) -> \"Fraction\":\n",
    "        if isinstance(other, Fraction):\n",
    "            return Fraction(self.numerator * other.numerator,\n",
    "                            self.denominator * other.denominator)\n",
    "        else:\n",
    "            return Fraction(self.numerator * other, self.denominator)\n",
    "    \n",
    "    def __rmul__(self, other: Union[int, Fraction]) -> \"Fraction\":\n",
    "        return self.__mul__(other)\n",
    "    \n",
    "    def __int__(self) -> int:\n",
    "        # Can't be replaced with just:\n",
    "        # ```return self.numerator // self.denominator```\n",
    "        # because -7 // 3 = -3 (not -2!)\n",
    "        r = abs(self.numerator) // self.denominator\n",
    "        return -r if self.numerator < 0 else r\n",
    "    \n",
    "    def __float__(self) -> float:\n",
    "        return self.numerator / self.denominator\n",
    "    \n",
    "    def __str__(self) -> str:\n",
    "        if self.denominator == 1:\n",
    "            return str(self.numerator)\n",
    "        else:\n",
    "            return f\"{self.numerator}/{self.denominator}\"\n",
    "    \n",
    "    def __simplify(self):\n",
    "        if self.numerator == 0:\n",
    "            # edge case\n",
    "            self.denominator = 1\n",
    "            return\n",
    "            \n",
    "        def to_primes(number: int) -> List[int]:\n",
    "            \"\"\"Represent the specified `number` as a list of primes\"\"\"\n",
    "            primes = []\n",
    "            while number % 2 == 0:\n",
    "                primes.append(2)\n",
    "                number //= 2\n",
    "            for i in range(3, int(sqrt(number)) + 1, 2):\n",
    "                while number % i == 0:\n",
    "                    primes.append(i)\n",
    "                    number = number // i\n",
    "            if number > 2:\n",
    "                primes.append(number)\n",
    "            return primes\n",
    "                    \n",
    "        for prime in to_primes(min(abs(self.numerator), self.denominator)):\n",
    "            if self.numerator % prime == 0 and self.denominator % prime == 0:\n",
    "                self.numerator //= prime\n",
    "                self.denominator //= prime\n",
    "            \n",
    "            \n",
    "class OperationsOnFraction(Fraction):\n",
    "    \n",
    "    def getint(self) -> int:\n",
    "        return super().__int__()\n",
    "    \n",
    "    def getfloat(self) -> int:\n",
    "        return super().__float__()\n",
    "            \n",
    "# Some tests:\n",
    "\n",
    "# Equals:\n",
    "assert Fraction(3, 5) != Fraction(4, 5)\n",
    "assert Fraction(3, 5) != Fraction(3, 7)\n",
    "assert Fraction(3, 5) != -Fraction(3, 5)\n",
    "assert Fraction(3, 5) == Fraction(3, 5)\n",
    "assert Fraction(14, 7) == 2\n",
    "assert 0 == Fraction(0, 4354)\n",
    "\n",
    "# Simplifying:\n",
    "assert Fraction(25, 5) == 5\n",
    "assert Fraction(36, 84) == Fraction(3, 7)\n",
    "assert Fraction(-36, 84) == Fraction(-3, 7)\n",
    "\n",
    "# Negotiation:\n",
    "assert -Fraction(6, 2) == -3\n",
    "assert Fraction(-1, 3) == -(Fraction(1, 3))\n",
    "assert Fraction(0, 3) == -Fraction(0, 3)\n",
    "\n",
    "# Printing:\n",
    "assert \"5\" == str(Fraction(25, 5))\n",
    "assert \"7/13\" == str(Fraction(7, 13))\n",
    "assert \"3/7\" == str(Fraction(90, 210))\n",
    "assert \"-3/7\" == str(Fraction(-3, 7))\n",
    "assert \"-3/7\" == str(-Fraction(3, 7))\n",
    "assert \"-3\" == str(Fraction(-6, 2))\n",
    "assert \"0\" == str(Fraction(0, 243))\n",
    "assert \"0\" == str(-Fraction(0, 654))\n",
    "    \n",
    "# Add:\n",
    "a = Fraction(7, 19)\n",
    "assert Fraction(64, 19) == a + 3\n",
    "assert a + 5 == 5 + a\n",
    "\n",
    "b = Fraction(4, 21)\n",
    "assert Fraction(223, 399) == a + b\n",
    "assert b + a == a + b\n",
    "\n",
    "# Sub:\n",
    "a = Fraction(18, 4)\n",
    "assert Fraction(10, 4) == a - 2\n",
    "assert a - 2 == -(2 - a)\n",
    "\n",
    "a = Fraction(2, 13)\n",
    "b = Fraction(4, 13)\n",
    "assert Fraction(2, 13) == b - a\n",
    "assert a - b == -(b - a)\n",
    "assert 0 == b - a - a\n",
    "\n",
    "# Mul:\n",
    "a = Fraction(5, 9)\n",
    "assert Fraction(5, 3) == a * 3\n",
    "assert -Fraction(5, 3) == a * (-3)\n",
    "assert a * 3 == 3 * a\n",
    "assert 0 == a * 0\n",
    "\n",
    "a = Fraction(2, 7)\n",
    "b = Fraction(9, 13)\n",
    "assert Fraction(18, 91) == a * b\n",
    "assert -Fraction(18, 91) == a * (-b)\n",
    "assert b * a == a * b\n",
    "assert a * b == (-a) * (-b)\n",
    "\n",
    "# int()\n",
    "assert 0 == int(Fraction(2, 7))\n",
    "assert 0 == int(Fraction(6, 7))\n",
    "assert 1 == int(Fraction(7, 7))\n",
    "assert 3 == int(Fraction(21, 7))\n",
    "assert -3 == int(Fraction(-22, 7))\n",
    "\n",
    "# float()\n",
    "assert 7 / 19 == float(Fraction(7, 19))\n",
    "assert -19 / 7 == float(Fraction(-19, 7))\n",
    "assert 0 == float(Fraction(0, 7))\n",
    "\n",
    "a = OperationsOnFraction(9, 4)\n",
    "assert 2 == a.getint()\n",
    "assert 9 / 4 == a.getfloat()\n",
    "\n",
    "b = OperationsOnFraction(-17, 3)\n",
    "assert -5 == b.getint()\n",
    "assert -17 / 3 == b.getfloat()\n",
    "\n",
    "print(\"All tests passed!\")"
   ]
  },
  {
   "cell_type": "code",
   "execution_count": null,
   "metadata": {},
   "outputs": [],
   "source": []
  }
 ],
 "metadata": {
  "colab": {
   "collapsed_sections": [],
   "name": "jun_anl_class.ipynb",
   "provenance": []
  },
  "kernelspec": {
   "display_name": "Python 3",
   "language": "python",
   "name": "python3"
  },
  "language_info": {
   "codemirror_mode": {
    "name": "ipython",
    "version": 3
   },
   "file_extension": ".py",
   "mimetype": "text/x-python",
   "name": "python",
   "nbconvert_exporter": "python",
   "pygments_lexer": "ipython3",
   "version": "3.8.5"
  }
 },
 "nbformat": 4,
 "nbformat_minor": 1
}
