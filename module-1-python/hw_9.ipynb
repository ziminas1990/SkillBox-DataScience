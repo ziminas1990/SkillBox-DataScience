{
 "cells": [
  {
   "cell_type": "markdown",
   "metadata": {
    "colab_type": "text",
    "id": "c2KtXmjxtgw-"
   },
   "source": [
    "# Исключения\n",
    "## Домашняя работа"
   ]
  },
  {
   "cell_type": "markdown",
   "metadata": {
    "colab_type": "text",
    "id": "0Vhx-zKitgxA"
   },
   "source": [
    "### Вопросы по лекциям."
   ]
  },
  {
   "cell_type": "markdown",
   "metadata": {
    "colab_type": "text",
    "id": "14lleKewtgxC"
   },
   "source": [
    "Как поймать вообще все ошибки, которые могут произойти?"
   ]
  },
  {
   "cell_type": "markdown",
   "metadata": {
    "colab_type": "text",
    "id": "VQnYGkVKtgxD"
   },
   "source": [
    "**Ответ:** ключевым словом `except` без явного указания типа исключения\n",
    "```\n",
    "try:\n",
    "    # Buggy code\n",
    "except:\n",
    "    # Any possible error could be handled here\n",
    "```"
   ]
  },
  {
   "cell_type": "markdown",
   "metadata": {
    "colab_type": "text",
    "id": "paSc2JE6tgxD"
   },
   "source": [
    "Сколько раз подряд можно указывать except?"
   ]
  },
  {
   "cell_type": "markdown",
   "metadata": {
    "colab_type": "text",
    "id": "bU0lzJPBtgxE"
   },
   "source": [
    "**Ответ:** По одному для каждого типа ожидаемой ошибки\n",
    "```\n",
    "try:\n",
    "    # buggy code\n",
    "except TerribleError:\n",
    "    # ...\n",
    "except TerrifiyngError:\n",
    "    # ...\n",
    "except:\n",
    "    # all other errors\n",
    "```"
   ]
  },
  {
   "cell_type": "markdown",
   "metadata": {
    "colab_type": "text",
    "id": "9wQ-yXpGtgxF"
   },
   "source": [
    "Вы хотите с помощью print вывести название ошибки в консоль, как это сделать?"
   ]
  },
  {
   "cell_type": "markdown",
   "metadata": {
    "colab_type": "text",
    "id": "iE1iqRZctgxH"
   },
   "source": [
    "**Ответ:** использовать объект исключения\n",
    "```\n",
    "try:\n",
    "    # buggy code\n",
    "except Exception as exc:\n",
    "    print(f\"Got a {exc} error!\")\n",
    "```"
   ]
  },
  {
   "cell_type": "markdown",
   "metadata": {
    "colab_type": "text",
    "id": "EDAi3ZFBtgxI"
   },
   "source": [
    "Вы хотите с помощью print вывести параметры ошибки в консоль, как это сделать?"
   ]
  },
  {
   "cell_type": "markdown",
   "metadata": {
    "colab_type": "text",
    "id": "qWimgtF3tgxK"
   },
   "source": [
    "**Ответ:** аналогично предыдущему вопросу, но используя параметр `args` объекта ошибки:\n",
    "```\n",
    "print(f\"Got a {exc} error with args: {exc.args}!\")\n",
    "```"
   ]
  },
  {
   "cell_type": "markdown",
   "metadata": {
    "colab_type": "text",
    "id": "leOCJIlRtgxK"
   },
   "source": [
    "Что такое DeprecationWarning?"
   ]
  },
  {
   "cell_type": "markdown",
   "metadata": {
    "colab_type": "text",
    "id": "KyaynuyvtgxL"
   },
   "source": [
    "**Ответ:**\n",
    "предупреждение о том, что используемая часть API является устаревшей и, вероятно, будет удалена из пакета в следующих релизах."
   ]
  },
  {
   "cell_type": "markdown",
   "metadata": {
    "colab_type": "text",
    "id": "oxgCUHzotgxM"
   },
   "source": [
    "### Разминочные задания. \n",
    "<br>\n",
    "\n",
    "Вам даны две функции. Поисследуйте, какие ошибки могут возникнуть при их реализации. Обработайте эти ошибки."
   ]
  },
  {
   "cell_type": "code",
   "execution_count": 13,
   "metadata": {
    "colab": {},
    "colab_type": "code",
    "id": "X4nsMUUAtgxN"
   },
   "outputs": [
    {
     "name": "stdout",
     "output_type": "stream",
     "text": [
      "enter a number: 1\n",
      "enter another number: 0\n",
      "Got division by zero! Make sure that the second number is not 0!\n",
      "enter a number: 1\n",
      "enter another number: 2\n",
      "1 / 2 = 0.5\n"
     ]
    }
   ],
   "source": [
    "def div():\n",
    "    \n",
    "    for i in range(2):\n",
    "        try:\n",
    "            x = int(input(\"enter a number: \"))\n",
    "            y = int(input(\"enter another number: \"))\n",
    "            print(x, '/', y, '=', x/y)\n",
    "        except ValueError as exc:\n",
    "            print(f\"Only integers numbers are allowed! Got: {exc}\")\n",
    "        except ZeroDivisionError as exc:\n",
    "            print(f\"Got '{exc}' error! Make sure that the second number is not 0!\")\n",
    "        except Exception as exc:\n",
    "            print(f\"Got unexpected error: {exc}\")\n",
    "\n",
    "div()"
   ]
  },
  {
   "cell_type": "code",
   "execution_count": 29,
   "metadata": {
    "colab": {},
    "colab_type": "code",
    "id": "hoDmt-nStgxS"
   },
   "outputs": [
    {
     "name": "stdout",
     "output_type": "stream",
     "text": [
      "Got 'unsupported operand type(s) for +: 'int' and 'str'' error at position 0\n",
      "Got 'unsupported operand type(s) for +: 'int' and 'str'' error at position 1\n",
      "Got 'list index out of range' error. Do lists have an equal length?\n",
      "sumOfPairs =  [None, None, None]\n"
     ]
    }
   ],
   "source": [
    "def sumOfPairs(L1, L2):\n",
    "    sum = 0\n",
    "    sumOfPairs = []\n",
    "    for i in range(len(L1)):\n",
    "        sumOfPairs.append(None)\n",
    "        try:\n",
    "            sumOfPairs[-1] = L1[i]+L2[i]\n",
    "        except IndexError as exc:\n",
    "            print(f\"Got '{exc}' error. Do lists have an equal length?\")\n",
    "        except TypeError as exc:\n",
    "            print(f\"Got '{exc}' error at position {i}\")\n",
    "        except Exception as exc:\n",
    "            print(f\"Got unexpected error: '{exc}'\")\n",
    "\n",
    "    print(\"sumOfPairs = \", sumOfPairs)\n",
    "    \n",
    "    \n",
    "sumOfPairs([1, 2, 3], [\"1\", \"2\"])"
   ]
  },
  {
   "cell_type": "markdown",
   "metadata": {
    "colab_type": "text",
    "id": "geX0-Zq6tgxU"
   },
   "source": [
    "### Задание 1.\n",
    "\n",
    "Есть файл с протоколом регистраций пользователей на сайте (registrations.txt).<br>\n",
    "Каждая строка содержит информацию о имени, электронной почте и возрасте человека. <br><br>\n",
    "\n",
    "\n",
    "Надо проверить данные из файла, для каждой строки:\n",
    " - присутсвуют все три поля\n",
    " - поле имени содержит только буквы\n",
    " - поле email содержит @ и .\n",
    " - поле возраст является числом от 10 до 99<br>\n",
    "\n",
    "В результате проверки нужно сформировать два файла\n",
    " - registrations_good.log для правильных данных, записывать строки как есть\n",
    "- registrations_bad.log для ошибочных, записывать строку и вид ошибки.<br>\n",
    "\n",
    "Для валидации строки данных написать метод, который может выкидывать исключения:\n",
    " - НЕ присутсвуют все три поля: ValueError\n",
    " - поле имени содержит НЕ только буквы: NotNameError (кастомное исключение)\n",
    " - поле email НЕ содержит @ и .(точку): NotEmailError (кастомное исключение)\n",
    " - поле возраст НЕ является числом от 10 до 99: ValueError\n",
    "Вызов метода обернуть в try-except."
   ]
  },
  {
   "cell_type": "code",
   "execution_count": 53,
   "metadata": {
    "colab": {},
    "colab_type": "code",
    "id": "Eq2Ax0LntgxW"
   },
   "outputs": [],
   "source": [
    "class NotNameError(Exception):\n",
    "    def __init__(self, bad_name: str):\n",
    "        self.args = (bad_name,)\n",
    "        self.message = f\"Invalid name '{bad_name}'\"\n",
    "\n",
    "    def __str__(self) -> str:\n",
    "        return self.message\n",
    "        \n",
    "class NotEmailError(Exception):\n",
    "    def __init__(self, bad_mail: str):\n",
    "        self.args = (bad_mail,)\n",
    "        self.message = f\"Invalid e-mail '{bad_mail}'\"\n",
    "\n",
    "    def __str__(self) -> str:\n",
    "        return self.message\n",
    "        \n",
    "def check_email(email: str) -> bool:\n",
    "    try:\n",
    "        name, domain = email.split(\"@\")\n",
    "        company, area = domain.split(\".\")\n",
    "        return True\n",
    "    except ValueError:\n",
    "        return False\n",
    "        \n",
    "def check_record(row: str):\n",
    "    try:\n",
    "        name, email, age_str = row.split(\" \")\n",
    "    except ValueError as exc:\n",
    "        raise ValueError(\"Not all required data provided!\")\n",
    "        \n",
    "    if not name.isalpha():\n",
    "        raise NotNameError(name)\n",
    "    if not check_email(email):\n",
    "        raise NotEmailError(email)\n",
    "    \n",
    "    age = int(age_str)\n",
    "    if age > 99 or age < 10:\n",
    "        raise ValueError(\"Age must be between 10 and 99!\")\n",
    "\n",
    "good_records = open(\"registrations_good.log\", \"w\")\n",
    "bad_records = open(\"registrations_bad.log\", \"w\")\n",
    "\n",
    "with open(\"hw_9_registrations.txt\", \"r\", encoding=\"UTF-8\") as data:\n",
    "    for row in data:\n",
    "        row = row.strip(\" \\n\")\n",
    "        try:\n",
    "            check_record(row)\n",
    "            print(row, file=good_records)\n",
    "        except Exception as exc:\n",
    "            print(f\"{row} -- {exc}\", file=bad_records)\n",
    "            \n",
    "good_records.close()\n",
    "bad_records.close()\n"
   ]
  }
 ],
 "metadata": {
  "colab": {
   "name": "jun_anl_exeptions.ipynb",
   "provenance": [],
   "version": "0.3.2"
  },
  "kernelspec": {
   "display_name": "Python 3",
   "language": "python",
   "name": "python3"
  },
  "language_info": {
   "codemirror_mode": {
    "name": "ipython",
    "version": 3
   },
   "file_extension": ".py",
   "mimetype": "text/x-python",
   "name": "python",
   "nbconvert_exporter": "python",
   "pygments_lexer": "ipython3",
   "version": "3.8.5"
  }
 },
 "nbformat": 4,
 "nbformat_minor": 1
}
