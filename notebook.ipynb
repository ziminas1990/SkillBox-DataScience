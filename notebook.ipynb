{
 "cells": [
  {
   "cell_type": "markdown",
   "metadata": {},
   "source": [
    "<b>КОММЕНТАРИЙ РЕВЬЮВЕРА</b>\n",
    "\n",
    "Привет, Алла👋!)\n",
    "\n",
    "Меня зовут Обидин Андрей, я осуществлял проверку проекта. Может перейдем сразу на <b>ты</b>? Если это неприемлемо, то обязательно дай знать)\n",
    "\n",
    "Благодарю тебя за то, что вовремя всё сдала и хорошо поработала!)\n",
    "\n",
    "`Алла, ты хорошо выполнила проект, но есть некоторые моменты на корректировку, я думаю ты справишься! Не забудь актуализировать свои выводы`\n",
    "\n",
    "Далее по ходу работы ты сможешь встретить мои комментарии, они будут отмечены разными цветами:\n",
    "\n",
    "<div class=\"alert alert-block alert-success\">\n",
    "Похвала и возможности развития\n",
    "</div>\n",
    "<div class=\"alert alert-block alert-warning\">\n",
    "Некритичные замечания, но стоит обратить внимание\n",
    "</div>\n",
    "<div class=\"alert alert-block alert-danger\">\n",
    "Грубая ошибка, необходимо исправить\n",
    "</div>\n",
    "\n",
    "\n",
    "Заранее прошу не удалять мои комментарии, это важно. Если у тебя возникнут вопросы, обозначь их, я с радостью тебе помогу!)\n",
    "\n",
    "Как вариант, можешь обозначить их так:\n",
    "<div class=\"alert alert-block alert-info\">\n",
    "<b>КОММЕНТАРИЙ СТУДЕНТА:</b>\n",
    "</div>"
   ]
  },
  {
   "cell_type": "markdown",
   "metadata": {},
   "source": [
    "# Задача "
   ]
  },
  {
   "cell_type": "markdown",
   "metadata": {},
   "source": [
    "Кому: интернет-магазин «Стримчик» \\\n",
    "Дата выполнения: декабрь 2016 г. \\\n",
    "Используемые данные: из открытых источников исторические данные о продажах игр, оценки пользователей и экспертов, жанры и платформы (например, Xbox или PlayStation). \\\n",
    "Задача: выявить определяющие успешность игры закономерности, что позволит сделать ставку на потенциально популярный продукт и спланировать рекламные кампании.\n",
    "\n",
    "***ESRB (Entertainment Software Rating Board) — это ассоциация, определяющая возрастной рейтинг компьютерных игр. ESRB оценивает игровой контент и присваивает ему подходящую возрастную категорию, например, «Для взрослых», «Для детей младшего возраста» или «Для подростков»."
   ]
  },
  {
   "cell_type": "markdown",
   "metadata": {},
   "source": [
    "## Общая информация"
   ]
  },
  {
   "cell_type": "code",
   "execution_count": 2,
   "metadata": {},
   "outputs": [
    {
     "ename": "ModuleNotFoundError",
     "evalue": "No module named 'plotly'",
     "output_type": "error",
     "traceback": [
      "\u001b[1;31m---------------------------------------------------------------------------\u001b[0m",
      "\u001b[1;31mModuleNotFoundError\u001b[0m                       Traceback (most recent call last)",
      "\u001b[1;32m<ipython-input-2-0f167dd5ea4b>\u001b[0m in \u001b[0;36m<module>\u001b[1;34m\u001b[0m\n\u001b[0;32m      6\u001b[0m \u001b[1;32mfrom\u001b[0m \u001b[0mscipy\u001b[0m \u001b[1;32mimport\u001b[0m \u001b[0mstats\u001b[0m \u001b[1;32mas\u001b[0m \u001b[0mst\u001b[0m\u001b[1;33m\u001b[0m\u001b[1;33m\u001b[0m\u001b[0m\n\u001b[0;32m      7\u001b[0m \u001b[1;33m\u001b[0m\u001b[0m\n\u001b[1;32m----> 8\u001b[1;33m \u001b[1;32mfrom\u001b[0m \u001b[0mplotly\u001b[0m\u001b[1;33m.\u001b[0m\u001b[0moffline\u001b[0m \u001b[1;32mimport\u001b[0m \u001b[0minit_notebook_mode\u001b[0m\u001b[1;33m,\u001b[0m \u001b[0miplot\u001b[0m\u001b[1;33m\u001b[0m\u001b[1;33m\u001b[0m\u001b[0m\n\u001b[0m\u001b[0;32m      9\u001b[0m \u001b[1;32mimport\u001b[0m \u001b[0mplotly\u001b[0m\u001b[1;33m\u001b[0m\u001b[1;33m\u001b[0m\u001b[0m\n\u001b[0;32m     10\u001b[0m \u001b[1;32mimport\u001b[0m \u001b[0mplotly\u001b[0m\u001b[1;33m.\u001b[0m\u001b[0mgraph_objs\u001b[0m \u001b[1;32mas\u001b[0m \u001b[0mgo\u001b[0m\u001b[1;33m\u001b[0m\u001b[1;33m\u001b[0m\u001b[0m\n",
      "\u001b[1;31mModuleNotFoundError\u001b[0m: No module named 'plotly'"
     ]
    }
   ],
   "source": [
    "import pandas as pd\n",
    "import matplotlib.pyplot as plt\n",
    "%matplotlib inline\n",
    "import seaborn as sns\n",
    "import numpy as np\n",
    "from scipy import stats as st\n",
    "\n",
    "from plotly.offline import init_notebook_mode, iplot\n",
    "import plotly\n",
    "import plotly.graph_objs as go"
   ]
  },
  {
   "cell_type": "code",
   "execution_count": 6,
   "metadata": {
    "scrolled": true
   },
   "outputs": [
    {
     "data": {
      "text/html": [
       "<div>\n",
       "<style scoped>\n",
       "    .dataframe tbody tr th:only-of-type {\n",
       "        vertical-align: middle;\n",
       "    }\n",
       "\n",
       "    .dataframe tbody tr th {\n",
       "        vertical-align: top;\n",
       "    }\n",
       "\n",
       "    .dataframe thead th {\n",
       "        text-align: right;\n",
       "    }\n",
       "</style>\n",
       "<table border=\"1\" class=\"dataframe\">\n",
       "  <thead>\n",
       "    <tr style=\"text-align: right;\">\n",
       "      <th></th>\n",
       "      <th>Name</th>\n",
       "      <th>Platform</th>\n",
       "      <th>Year_of_Release</th>\n",
       "      <th>Genre</th>\n",
       "      <th>Publisher</th>\n",
       "      <th>NA_Sales</th>\n",
       "      <th>EU_Sales</th>\n",
       "      <th>JP_Sales</th>\n",
       "      <th>Other_Sales</th>\n",
       "      <th>Global_Sales</th>\n",
       "      <th>Critic_Score</th>\n",
       "      <th>Critic_Count</th>\n",
       "      <th>User_Score</th>\n",
       "      <th>User_Count</th>\n",
       "      <th>Developer</th>\n",
       "      <th>Rating</th>\n",
       "    </tr>\n",
       "  </thead>\n",
       "  <tbody>\n",
       "    <tr>\n",
       "      <th>0</th>\n",
       "      <td>Wii Sports</td>\n",
       "      <td>Wii</td>\n",
       "      <td>2006.0</td>\n",
       "      <td>Sports</td>\n",
       "      <td>Nintendo</td>\n",
       "      <td>41.36</td>\n",
       "      <td>28.96</td>\n",
       "      <td>3.77</td>\n",
       "      <td>8.45</td>\n",
       "      <td>82.53</td>\n",
       "      <td>76.0</td>\n",
       "      <td>51.0</td>\n",
       "      <td>8</td>\n",
       "      <td>322.0</td>\n",
       "      <td>Nintendo</td>\n",
       "      <td>E</td>\n",
       "    </tr>\n",
       "    <tr>\n",
       "      <th>1</th>\n",
       "      <td>Super Mario Bros.</td>\n",
       "      <td>NES</td>\n",
       "      <td>1985.0</td>\n",
       "      <td>Platform</td>\n",
       "      <td>Nintendo</td>\n",
       "      <td>29.08</td>\n",
       "      <td>3.58</td>\n",
       "      <td>6.81</td>\n",
       "      <td>0.77</td>\n",
       "      <td>40.24</td>\n",
       "      <td>NaN</td>\n",
       "      <td>NaN</td>\n",
       "      <td>NaN</td>\n",
       "      <td>NaN</td>\n",
       "      <td>NaN</td>\n",
       "      <td>NaN</td>\n",
       "    </tr>\n",
       "    <tr>\n",
       "      <th>2</th>\n",
       "      <td>Mario Kart Wii</td>\n",
       "      <td>Wii</td>\n",
       "      <td>2008.0</td>\n",
       "      <td>Racing</td>\n",
       "      <td>Nintendo</td>\n",
       "      <td>15.68</td>\n",
       "      <td>12.76</td>\n",
       "      <td>3.79</td>\n",
       "      <td>3.29</td>\n",
       "      <td>35.52</td>\n",
       "      <td>82.0</td>\n",
       "      <td>73.0</td>\n",
       "      <td>8.3</td>\n",
       "      <td>709.0</td>\n",
       "      <td>Nintendo</td>\n",
       "      <td>E</td>\n",
       "    </tr>\n",
       "    <tr>\n",
       "      <th>3</th>\n",
       "      <td>Wii Sports Resort</td>\n",
       "      <td>Wii</td>\n",
       "      <td>2009.0</td>\n",
       "      <td>Sports</td>\n",
       "      <td>Nintendo</td>\n",
       "      <td>15.61</td>\n",
       "      <td>10.93</td>\n",
       "      <td>3.28</td>\n",
       "      <td>2.95</td>\n",
       "      <td>32.77</td>\n",
       "      <td>80.0</td>\n",
       "      <td>73.0</td>\n",
       "      <td>8</td>\n",
       "      <td>192.0</td>\n",
       "      <td>Nintendo</td>\n",
       "      <td>E</td>\n",
       "    </tr>\n",
       "    <tr>\n",
       "      <th>4</th>\n",
       "      <td>Pokemon Red/Pokemon Blue</td>\n",
       "      <td>GB</td>\n",
       "      <td>1996.0</td>\n",
       "      <td>Role-Playing</td>\n",
       "      <td>Nintendo</td>\n",
       "      <td>11.27</td>\n",
       "      <td>8.89</td>\n",
       "      <td>10.22</td>\n",
       "      <td>1.00</td>\n",
       "      <td>31.37</td>\n",
       "      <td>NaN</td>\n",
       "      <td>NaN</td>\n",
       "      <td>NaN</td>\n",
       "      <td>NaN</td>\n",
       "      <td>NaN</td>\n",
       "      <td>NaN</td>\n",
       "    </tr>\n",
       "  </tbody>\n",
       "</table>\n",
       "</div>"
      ],
      "text/plain": [
       "                       Name Platform  Year_of_Release         Genre Publisher  \\\n",
       "0                Wii Sports      Wii           2006.0        Sports  Nintendo   \n",
       "1         Super Mario Bros.      NES           1985.0      Platform  Nintendo   \n",
       "2            Mario Kart Wii      Wii           2008.0        Racing  Nintendo   \n",
       "3         Wii Sports Resort      Wii           2009.0        Sports  Nintendo   \n",
       "4  Pokemon Red/Pokemon Blue       GB           1996.0  Role-Playing  Nintendo   \n",
       "\n",
       "   NA_Sales  EU_Sales  JP_Sales  Other_Sales  Global_Sales  Critic_Score  \\\n",
       "0     41.36     28.96      3.77         8.45         82.53          76.0   \n",
       "1     29.08      3.58      6.81         0.77         40.24           NaN   \n",
       "2     15.68     12.76      3.79         3.29         35.52          82.0   \n",
       "3     15.61     10.93      3.28         2.95         32.77          80.0   \n",
       "4     11.27      8.89     10.22         1.00         31.37           NaN   \n",
       "\n",
       "   Critic_Count User_Score  User_Count Developer Rating  \n",
       "0          51.0          8       322.0  Nintendo      E  \n",
       "1           NaN        NaN         NaN       NaN    NaN  \n",
       "2          73.0        8.3       709.0  Nintendo      E  \n",
       "3          73.0          8       192.0  Nintendo      E  \n",
       "4           NaN        NaN         NaN       NaN    NaN  "
      ]
     },
     "execution_count": 6,
     "metadata": {},
     "output_type": "execute_result"
    }
   ],
   "source": [
    "df = pd.read_csv('./datasets/games.csv')\n",
    "df.head()"
   ]
  },
  {
   "cell_type": "markdown",
   "metadata": {},
   "source": [
    "Смотрим таблицу с данными: 11 столбцов, есть пропуски. Нужно привести к нижнему регистру столбцы таблицы и названия колонок."
   ]
  },
  {
   "cell_type": "code",
   "execution_count": 7,
   "metadata": {
    "scrolled": false
   },
   "outputs": [
    {
     "name": "stdout",
     "output_type": "stream",
     "text": [
      "<class 'pandas.core.frame.DataFrame'>\n",
      "RangeIndex: 16719 entries, 0 to 16718\n",
      "Data columns (total 16 columns):\n",
      " #   Column           Non-Null Count  Dtype  \n",
      "---  ------           --------------  -----  \n",
      " 0   Name             16717 non-null  object \n",
      " 1   Platform         16719 non-null  object \n",
      " 2   Year_of_Release  16450 non-null  float64\n",
      " 3   Genre            16717 non-null  object \n",
      " 4   Publisher        16665 non-null  object \n",
      " 5   NA_Sales         16719 non-null  float64\n",
      " 6   EU_Sales         16719 non-null  float64\n",
      " 7   JP_Sales         16719 non-null  float64\n",
      " 8   Other_Sales      16719 non-null  float64\n",
      " 9   Global_Sales     16719 non-null  float64\n",
      " 10  Critic_Score     8137 non-null   float64\n",
      " 11  Critic_Count     8137 non-null   float64\n",
      " 12  User_Score       10015 non-null  object \n",
      " 13  User_Count       7590 non-null   float64\n",
      " 14  Developer        10096 non-null  object \n",
      " 15  Rating           9950 non-null   object \n",
      "dtypes: float64(9), object(7)\n",
      "memory usage: 2.0+ MB\n"
     ]
    }
   ],
   "source": [
    "df.info()"
   ]
  },
  {
   "cell_type": "markdown",
   "metadata": {},
   "source": [
    "типа данных Year of Release и Critic_Score - float нужно заменить на целые, User_Score - object нужно заменить на float. Когда поменять тип данных у user_scoreб выдал ошибку с tbd (to be determined, to be done). Вероятно, данные были не заполнены, но отмечены, что будут. Заменим tbd на Nan."
   ]
  },
  {
   "cell_type": "code",
   "execution_count": 8,
   "metadata": {},
   "outputs": [
    {
     "data": {
      "text/plain": [
       "Name               0.000120\n",
       "Platform           0.000000\n",
       "Year_of_Release    0.016089\n",
       "Genre              0.000120\n",
       "Publisher          0.003230\n",
       "NA_Sales           0.000000\n",
       "EU_Sales           0.000000\n",
       "JP_Sales           0.000000\n",
       "Other_Sales        0.000000\n",
       "Global_Sales       0.000000\n",
       "Critic_Score       0.513308\n",
       "Critic_Count       0.513308\n",
       "User_Score         0.400981\n",
       "User_Count         0.546025\n",
       "Developer          0.396136\n",
       "Rating             0.404869\n",
       "dtype: float64"
      ]
     },
     "execution_count": 8,
     "metadata": {},
     "output_type": "execute_result"
    }
   ],
   "source": [
    "df.isna().mean()"
   ]
  },
  {
   "cell_type": "code",
   "execution_count": 9,
   "metadata": {},
   "outputs": [
    {
     "data": {
      "text/plain": [
       "0"
      ]
     },
     "execution_count": 9,
     "metadata": {},
     "output_type": "execute_result"
    }
   ],
   "source": [
    "df.duplicated().sum() "
   ]
  },
  {
   "cell_type": "markdown",
   "metadata": {},
   "source": [
    "Много пропущенных значений в столбцах rating и user_score (по 40%), также critic_score(51%). Немного пропусков по наименованиям, name, (можем удалить эти строки) и немного по  year_of_release.\n",
    "Дубликатов не имеется."
   ]
  },
  {
   "cell_type": "markdown",
   "metadata": {},
   "source": [
    "<div class=\"alert alert-block alert-success\">\n",
    "<b>КОММЕНТАРИЙ РЕВЬЮВЕРА:</b> \n",
    "    \n",
    "    \n",
    "Хороший обзор\n",
    "\n",
    "</div>"
   ]
  },
  {
   "cell_type": "markdown",
   "metadata": {},
   "source": [
    "## Подготовка данных "
   ]
  },
  {
   "cell_type": "code",
   "execution_count": 10,
   "metadata": {},
   "outputs": [
    {
     "data": {
      "text/plain": [
       "Index(['name', 'platform', 'year_of_release', 'genre', 'publisher', 'na_sales',\n",
       "       'eu_sales', 'jp_sales', 'other_sales', 'global_sales', 'critic_score',\n",
       "       'critic_count', 'user_score', 'user_count', 'developer', 'rating'],\n",
       "      dtype='object')"
      ]
     },
     "execution_count": 10,
     "metadata": {},
     "output_type": "execute_result"
    }
   ],
   "source": [
    "df.columns = df.columns.str.lower()\n",
    "df.columns"
   ]
  },
  {
   "cell_type": "code",
   "execution_count": 11,
   "metadata": {},
   "outputs": [],
   "source": [
    "for column in df[['name','platform','genre','rating']]:\n",
    "    df[column] = df[column].str.lower()"
   ]
  },
  {
   "cell_type": "markdown",
   "metadata": {},
   "source": [
    "Исправим названия столбцов и наименования внутри них на буквы нижнего регистра. "
   ]
  },
  {
   "cell_type": "code",
   "execution_count": 12,
   "metadata": {},
   "outputs": [],
   "source": [
    "df['user_score'] = df['user_score'].replace('tbd', np.nan, regex=True)"
   ]
  },
  {
   "cell_type": "markdown",
   "metadata": {},
   "source": [
    "Заменим на пропуски tbd в user_score"
   ]
  },
  {
   "cell_type": "markdown",
   "metadata": {},
   "source": [
    "<div class=\"alert alert-block alert-success\">\n",
    "<b>КОММЕНТАРИЙ РЕВЬЮВЕРА:</b> \n",
    "    \n",
    "    \n",
    "Отличная идея заменить tbd --> nan, как вариант ты мог сделать это через `to_numeric(errors = 'coerce')`\n",
    "\n",
    "Более подробно тут: https://pandas.pydata.org/pandas-docs/stable/reference/api/pandas.to_numeric.html\n",
    "\n",
    "</div>"
   ]
  },
  {
   "cell_type": "code",
   "execution_count": 13,
   "metadata": {},
   "outputs": [
    {
     "name": "stderr",
     "output_type": "stream",
     "text": [
      "<ipython-input-13-53e418ea5538>:2: SettingWithCopyWarning: \n",
      "A value is trying to be set on a copy of a slice from a DataFrame\n",
      "\n",
      "See the caveats in the documentation: https://pandas.pydata.org/pandas-docs/stable/user_guide/indexing.html#returning-a-view-versus-a-copy\n",
      "  df['year_of_release'][i] = df.loc[df['name'] == df['name'][i], 'year_of_release'].max()\n"
     ]
    }
   ],
   "source": [
    "for i in df[df['year_of_release'].isnull() == True].index:  \n",
    "    df['year_of_release'][i] = df.loc[df['name'] == df['name'][i], 'year_of_release'].max()"
   ]
  },
  {
   "cell_type": "markdown",
   "metadata": {},
   "source": [
    "Год выпуска заменяем на год по названию игры. "
   ]
  },
  {
   "cell_type": "code",
   "execution_count": 14,
   "metadata": {},
   "outputs": [
    {
     "data": {
      "text/plain": [
       "name               0.000120\n",
       "platform           0.000000\n",
       "year_of_release    0.008733\n",
       "genre              0.000120\n",
       "publisher          0.003230\n",
       "na_sales           0.000000\n",
       "eu_sales           0.000000\n",
       "jp_sales           0.000000\n",
       "other_sales        0.000000\n",
       "global_sales       0.000000\n",
       "critic_score       0.513308\n",
       "critic_count       0.513308\n",
       "user_score         0.546025\n",
       "user_count         0.546025\n",
       "developer          0.396136\n",
       "rating             0.404869\n",
       "dtype: float64"
      ]
     },
     "execution_count": 14,
     "metadata": {},
     "output_type": "execute_result"
    }
   ],
   "source": [
    "df.isna().mean()"
   ]
  },
  {
   "cell_type": "markdown",
   "metadata": {},
   "source": [
    "Проверяем, сколько пропусков осталось у года выпуска-  меньше 1%, оставим как есть. Там где пропуски составляют более 40% - будет нелогично менять на медиану или минимальные значения, например. Пока оставим как есть."
   ]
  },
  {
   "cell_type": "code",
   "execution_count": 15,
   "metadata": {},
   "outputs": [],
   "source": [
    "df = df.dropna(subset = ['name'])"
   ]
  },
  {
   "cell_type": "markdown",
   "metadata": {},
   "source": [
    "незначительные пропуски с названиями - удалим все строки. "
   ]
  },
  {
   "cell_type": "code",
   "execution_count": 16,
   "metadata": {},
   "outputs": [],
   "source": [
    "df['year_of_release'] = df['year_of_release'].astype('Int64')\n"
   ]
  },
  {
   "cell_type": "code",
   "execution_count": 17,
   "metadata": {},
   "outputs": [],
   "source": [
    "df['critic_score'] = df['critic_score'].astype('Int64')\n"
   ]
  },
  {
   "cell_type": "code",
   "execution_count": 18,
   "metadata": {},
   "outputs": [],
   "source": [
    "df['user_score'] = df['user_score'].astype('Float64')"
   ]
  },
  {
   "cell_type": "markdown",
   "metadata": {},
   "source": [
    "Типы данных заменили. "
   ]
  },
  {
   "cell_type": "code",
   "execution_count": 19,
   "metadata": {},
   "outputs": [],
   "source": [
    "df['all_sales'] = df['na_sales'] + df['eu_sales'] + df['jp_sales'] + df['other_sales']"
   ]
  },
  {
   "cell_type": "markdown",
   "metadata": {},
   "source": [
    "Считаем суммарные продажи во всех регионах и записываем их в отдельный столбец."
   ]
  },
  {
   "cell_type": "markdown",
   "metadata": {},
   "source": [
    "<div class=\"alert alert-block alert-success\">\n",
    "<b>КОММЕНТАРИЙ РЕВЬЮВЕРА:</b> \n",
    "    \n",
    "\n",
    "Хорошая обработка\n",
    "\n",
    "</div>"
   ]
  },
  {
   "cell_type": "markdown",
   "metadata": {},
   "source": [
    "## Исследовательский анализ данных "
   ]
  },
  {
   "cell_type": "code",
   "execution_count": 20,
   "metadata": {
    "scrolled": true
   },
   "outputs": [
    {
     "data": {
      "image/png": "[encoded data removed]",
      "text/plain": [
       "<Figure size 792x360 with 1 Axes>"
      ]
     },
     "metadata": {
      "needs_background": "light"
     },
     "output_type": "display_data"
    }
   ],
   "source": [
    "games_by_year = df.pivot_table(index='year_of_release', values='name', aggfunc='count')\n",
    "plt.figure(figsize=(11,5))\n",
    "sns.lineplot(data=games_by_year)\n",
    "plt.title(\"Динамика количества выпускаемых игр\")\n",
    "plt.xlabel(\"Год выпуска\")\n",
    "plt.ylabel(\"Количество выпущенных игр\")\n",
    "plt.legend('')\n",
    "plt.show()"
   ]
  },
  {
   "cell_type": "markdown",
   "metadata": {},
   "source": [
    "Построим диаграмму по динамике выпускаемых игр в разные годы. Пик выпуска игр пришелся на период 2005-2010 гг. До 1995 года выпускаемых игр было стабильно немного. "
   ]
  },
  {
   "cell_type": "code",
   "execution_count": 21,
   "metadata": {},
   "outputs": [],
   "source": [
    "df_1995 = df[df['year_of_release']>=1995]"
   ]
  },
  {
   "cell_type": "code",
   "execution_count": 22,
   "metadata": {},
   "outputs": [],
   "source": [
    "platform_leaders = df_1995.groupby('platform')['all_sales'].sum().sort_values()[-5:].index.tolist()"
   ]
  },
  {
   "cell_type": "code",
   "execution_count": 23,
   "metadata": {
    "scrolled": true
   },
   "outputs": [
    {
     "ename": "NameError",
     "evalue": "name 'go' is not defined",
     "output_type": "error",
     "traceback": [
      "\u001b[1;31m---------------------------------------------------------------------------\u001b[0m",
      "\u001b[1;31mNameError\u001b[0m                                 Traceback (most recent call last)",
      "\u001b[1;32m<ipython-input-23-185f7d3480ac>\u001b[0m in \u001b[0;36m<module>\u001b[1;34m\u001b[0m\n\u001b[0;32m      3\u001b[0m \u001b[1;32mfor\u001b[0m \u001b[0mplatform\u001b[0m \u001b[1;32min\u001b[0m \u001b[0mplatform_leaders\u001b[0m\u001b[1;33m:\u001b[0m\u001b[1;33m\u001b[0m\u001b[1;33m\u001b[0m\u001b[0m\n\u001b[0;32m      4\u001b[0m     data.append(\n\u001b[1;32m----> 5\u001b[1;33m         go.Bar(x=df_1995[df_1995.platform==platform].groupby('year_of_release')['all_sales'].sum().index,\n\u001b[0m\u001b[0;32m      6\u001b[0m                \u001b[0my\u001b[0m\u001b[1;33m=\u001b[0m\u001b[0mdf_1995\u001b[0m\u001b[1;33m[\u001b[0m\u001b[0mdf_1995\u001b[0m\u001b[1;33m.\u001b[0m\u001b[0mplatform\u001b[0m\u001b[1;33m==\u001b[0m\u001b[0mplatform\u001b[0m\u001b[1;33m]\u001b[0m\u001b[1;33m.\u001b[0m\u001b[0mgroupby\u001b[0m\u001b[1;33m(\u001b[0m\u001b[1;34m'year_of_release'\u001b[0m\u001b[1;33m)\u001b[0m\u001b[1;33m[\u001b[0m\u001b[1;34m'all_sales'\u001b[0m\u001b[1;33m]\u001b[0m\u001b[1;33m.\u001b[0m\u001b[0msum\u001b[0m\u001b[1;33m(\u001b[0m\u001b[1;33m)\u001b[0m\u001b[1;33m,\u001b[0m\u001b[1;33m\u001b[0m\u001b[1;33m\u001b[0m\u001b[0m\n\u001b[0;32m      7\u001b[0m                \u001b[0mname\u001b[0m\u001b[1;33m=\u001b[0m\u001b[0mplatform\u001b[0m\u001b[1;33m,\u001b[0m\u001b[1;33m\u001b[0m\u001b[1;33m\u001b[0m\u001b[0m\n",
      "\u001b[1;31mNameError\u001b[0m: name 'go' is not defined"
     ]
    }
   ],
   "source": [
    "data = []\n",
    "\n",
    "for platform in platform_leaders:\n",
    "    data.append(\n",
    "        go.Bar(x=df_1995[df_1995.platform==platform].groupby('year_of_release')['all_sales'].sum().index,\n",
    "               y=df_1995[df_1995.platform==platform].groupby('year_of_release')['all_sales'].sum(),\n",
    "               name=platform,\n",
    "               )\n",
    "    )\n",
    "layout = {'title': 'Продажи топ-5 платформ по годам'}\n",
    "    \n",
    "fig = go.Figure(data=data, layout=layout)\n",
    "fig.show()"
   ]
  },
  {
   "cell_type": "markdown",
   "metadata": {},
   "source": [
    "На диаграмме пяти топовых по продажам платформ за время после 1995 года видим, что со временем общие продажи стали падать, но и количество платформ увеличилось: с 2006 года все пять платформ продаются одновременно. А динамика \"цикла продаж\" - то есть появление и исчезания платформ - примерно одинакова, около 10 лет: \n",
    "- PS2 с 2000 по 2010 (в точности 10 лет)\n",
    "- DS с 2004 по 2013 (9 лет)\n",
    "- X360 с 2005 по 2015 (10 лет)\n",
    "- Wii 2006 - 2015 (9 лет)\n",
    "- PS3 2006 - 2016 (10 лет). \n",
    "\n",
    "2013 год определяет новый этап роста одних платформ и падения других, поэтому выберем его как актуальный.  "
   ]
  },
  {
   "cell_type": "markdown",
   "metadata": {},
   "source": [
    "<div class=\"alert alert-block alert-success\">\n",
    "<b>КОММЕНТАРИЙ РЕВЬЮВЕРА:</b> \n",
    "    \n",
    "\n",
    "Как видим, лидеры уже потеряли свои позиции на рынке, т.е. ставку на них делать нельзя\n",
    "\n",
    "</div>"
   ]
  },
  {
   "cell_type": "code",
   "execution_count": 26,
   "metadata": {},
   "outputs": [
    {
     "data": {
      "text/html": [
       "<div>\n",
       "<style scoped>\n",
       "    .dataframe tbody tr th:only-of-type {\n",
       "        vertical-align: middle;\n",
       "    }\n",
       "\n",
       "    .dataframe tbody tr th {\n",
       "        vertical-align: top;\n",
       "    }\n",
       "\n",
       "    .dataframe thead th {\n",
       "        text-align: right;\n",
       "    }\n",
       "</style>\n",
       "<table border=\"1\" class=\"dataframe\">\n",
       "  <thead>\n",
       "    <tr style=\"text-align: right;\">\n",
       "      <th></th>\n",
       "      <th>name</th>\n",
       "      <th>platform</th>\n",
       "      <th>year_of_release</th>\n",
       "      <th>genre</th>\n",
       "      <th>publisher</th>\n",
       "      <th>na_sales</th>\n",
       "      <th>eu_sales</th>\n",
       "      <th>jp_sales</th>\n",
       "      <th>other_sales</th>\n",
       "      <th>global_sales</th>\n",
       "      <th>critic_score</th>\n",
       "      <th>critic_count</th>\n",
       "      <th>user_score</th>\n",
       "      <th>user_count</th>\n",
       "      <th>developer</th>\n",
       "      <th>rating</th>\n",
       "      <th>all_sales</th>\n",
       "    </tr>\n",
       "  </thead>\n",
       "  <tbody>\n",
       "    <tr>\n",
       "      <th>16</th>\n",
       "      <td>grand theft auto v</td>\n",
       "      <td>ps3</td>\n",
       "      <td>2013</td>\n",
       "      <td>action</td>\n",
       "      <td>Take-Two Interactive</td>\n",
       "      <td>7.02</td>\n",
       "      <td>9.09</td>\n",
       "      <td>0.98</td>\n",
       "      <td>3.96</td>\n",
       "      <td>21.04</td>\n",
       "      <td>97</td>\n",
       "      <td>50.0</td>\n",
       "      <td>8.2</td>\n",
       "      <td>3994.0</td>\n",
       "      <td>Rockstar North</td>\n",
       "      <td>m</td>\n",
       "      <td>21.05</td>\n",
       "    </tr>\n",
       "    <tr>\n",
       "      <th>23</th>\n",
       "      <td>grand theft auto v</td>\n",
       "      <td>x360</td>\n",
       "      <td>2013</td>\n",
       "      <td>action</td>\n",
       "      <td>Take-Two Interactive</td>\n",
       "      <td>9.66</td>\n",
       "      <td>5.14</td>\n",
       "      <td>0.06</td>\n",
       "      <td>1.41</td>\n",
       "      <td>16.27</td>\n",
       "      <td>97</td>\n",
       "      <td>58.0</td>\n",
       "      <td>8.1</td>\n",
       "      <td>3711.0</td>\n",
       "      <td>Rockstar North</td>\n",
       "      <td>m</td>\n",
       "      <td>16.27</td>\n",
       "    </tr>\n",
       "    <tr>\n",
       "      <th>31</th>\n",
       "      <td>call of duty: black ops 3</td>\n",
       "      <td>ps4</td>\n",
       "      <td>2015</td>\n",
       "      <td>shooter</td>\n",
       "      <td>Activision</td>\n",
       "      <td>6.03</td>\n",
       "      <td>5.86</td>\n",
       "      <td>0.36</td>\n",
       "      <td>2.38</td>\n",
       "      <td>14.63</td>\n",
       "      <td>&lt;NA&gt;</td>\n",
       "      <td>NaN</td>\n",
       "      <td>NaN</td>\n",
       "      <td>NaN</td>\n",
       "      <td>NaN</td>\n",
       "      <td>NaN</td>\n",
       "      <td>14.63</td>\n",
       "    </tr>\n",
       "    <tr>\n",
       "      <th>33</th>\n",
       "      <td>pokemon x/pokemon y</td>\n",
       "      <td>3ds</td>\n",
       "      <td>2013</td>\n",
       "      <td>role-playing</td>\n",
       "      <td>Nintendo</td>\n",
       "      <td>5.28</td>\n",
       "      <td>4.19</td>\n",
       "      <td>4.35</td>\n",
       "      <td>0.78</td>\n",
       "      <td>14.60</td>\n",
       "      <td>&lt;NA&gt;</td>\n",
       "      <td>NaN</td>\n",
       "      <td>NaN</td>\n",
       "      <td>NaN</td>\n",
       "      <td>NaN</td>\n",
       "      <td>NaN</td>\n",
       "      <td>14.60</td>\n",
       "    </tr>\n",
       "    <tr>\n",
       "      <th>42</th>\n",
       "      <td>grand theft auto v</td>\n",
       "      <td>ps4</td>\n",
       "      <td>2014</td>\n",
       "      <td>action</td>\n",
       "      <td>Take-Two Interactive</td>\n",
       "      <td>3.96</td>\n",
       "      <td>6.31</td>\n",
       "      <td>0.38</td>\n",
       "      <td>1.97</td>\n",
       "      <td>12.61</td>\n",
       "      <td>97</td>\n",
       "      <td>66.0</td>\n",
       "      <td>8.3</td>\n",
       "      <td>2899.0</td>\n",
       "      <td>Rockstar North</td>\n",
       "      <td>m</td>\n",
       "      <td>12.62</td>\n",
       "    </tr>\n",
       "  </tbody>\n",
       "</table>\n",
       "</div>"
      ],
      "text/plain": [
       "                         name platform  year_of_release         genre  \\\n",
       "16         grand theft auto v      ps3             2013        action   \n",
       "23         grand theft auto v     x360             2013        action   \n",
       "31  call of duty: black ops 3      ps4             2015       shooter   \n",
       "33        pokemon x/pokemon y      3ds             2013  role-playing   \n",
       "42         grand theft auto v      ps4             2014        action   \n",
       "\n",
       "               publisher  na_sales  eu_sales  jp_sales  other_sales  \\\n",
       "16  Take-Two Interactive      7.02      9.09      0.98         3.96   \n",
       "23  Take-Two Interactive      9.66      5.14      0.06         1.41   \n",
       "31            Activision      6.03      5.86      0.36         2.38   \n",
       "33              Nintendo      5.28      4.19      4.35         0.78   \n",
       "42  Take-Two Interactive      3.96      6.31      0.38         1.97   \n",
       "\n",
       "    global_sales  critic_score  critic_count  user_score  user_count  \\\n",
       "16         21.04            97          50.0         8.2      3994.0   \n",
       "23         16.27            97          58.0         8.1      3711.0   \n",
       "31         14.63          <NA>           NaN         NaN         NaN   \n",
       "33         14.60          <NA>           NaN         NaN         NaN   \n",
       "42         12.61            97          66.0         8.3      2899.0   \n",
       "\n",
       "         developer rating  all_sales  \n",
       "16  Rockstar North      m      21.05  \n",
       "23  Rockstar North      m      16.27  \n",
       "31             NaN    NaN      14.63  \n",
       "33             NaN    NaN      14.60  \n",
       "42  Rockstar North      m      12.62  "
      ]
     },
     "execution_count": 26,
     "metadata": {},
     "output_type": "execute_result"
    }
   ],
   "source": [
    "df= df[df['year_of_release']>=2013]\n",
    "df.head(5)"
   ]
  },
  {
   "cell_type": "markdown",
   "metadata": {},
   "source": [
    "<div class=\"alert alert-block alert-danger\">\n",
    "<b>КОММЕНТАРИЙ РЕВЬЮВЕРА:</b> \n",
    "    \n",
    "\n",
    "\n",
    "Мне все же кажется, что актуальный период нужно подрезать, посмотри на график ниже, там отчетливо видна граница на 2013 году\n",
    "</div>"
   ]
  },
  {
   "cell_type": "markdown",
   "metadata": {},
   "source": [
    "<div class=\"alert alert-block alert-info\">\n",
    "<b>КОММЕНТАРИЙ СТУДЕНТА: ага поправила! </b>\n",
    "</div>"
   ]
  },
  {
   "cell_type": "markdown",
   "metadata": {},
   "source": [
    "Определим актуальный период как тот, когда видим последний слом на падение одних платформ и рост других (с 2013 года). Возьмем датасет только начиная с этого периода. "
   ]
  },
  {
   "cell_type": "code",
   "execution_count": 28,
   "metadata": {
    "scrolled": true
   },
   "outputs": [
    {
     "ename": "NameError",
     "evalue": "name 'go' is not defined",
     "output_type": "error",
     "traceback": [
      "\u001b[1;31m---------------------------------------------------------------------------\u001b[0m",
      "\u001b[1;31mNameError\u001b[0m                                 Traceback (most recent call last)",
      "\u001b[1;32m<ipython-input-28-2d65af0b12dd>\u001b[0m in \u001b[0;36m<module>\u001b[1;34m\u001b[0m\n\u001b[0;32m      3\u001b[0m \u001b[1;32mfor\u001b[0m \u001b[0mplatform\u001b[0m \u001b[1;32min\u001b[0m \u001b[0mdf\u001b[0m\u001b[1;33m[\u001b[0m\u001b[1;34m'platform'\u001b[0m\u001b[1;33m]\u001b[0m\u001b[1;33m.\u001b[0m\u001b[0munique\u001b[0m\u001b[1;33m(\u001b[0m\u001b[1;33m)\u001b[0m\u001b[1;33m:\u001b[0m\u001b[1;33m\u001b[0m\u001b[1;33m\u001b[0m\u001b[0m\n\u001b[0;32m      4\u001b[0m     data.append(\n\u001b[1;32m----> 5\u001b[1;33m         go.Scatter(x=df[df.platform==platform].groupby(\"year_of_release\")['all_sales'].sum().index,\n\u001b[0m\u001b[0;32m      6\u001b[0m                \u001b[0my\u001b[0m\u001b[1;33m=\u001b[0m\u001b[0mdf\u001b[0m\u001b[1;33m[\u001b[0m\u001b[0mdf\u001b[0m\u001b[1;33m.\u001b[0m\u001b[0mplatform\u001b[0m\u001b[1;33m==\u001b[0m\u001b[0mplatform\u001b[0m\u001b[1;33m]\u001b[0m\u001b[1;33m.\u001b[0m\u001b[0mgroupby\u001b[0m\u001b[1;33m(\u001b[0m\u001b[1;34m\"year_of_release\"\u001b[0m\u001b[1;33m)\u001b[0m\u001b[1;33m[\u001b[0m\u001b[1;34m'all_sales'\u001b[0m\u001b[1;33m]\u001b[0m\u001b[1;33m.\u001b[0m\u001b[0msum\u001b[0m\u001b[1;33m(\u001b[0m\u001b[1;33m)\u001b[0m\u001b[1;33m,\u001b[0m\u001b[1;33m\u001b[0m\u001b[1;33m\u001b[0m\u001b[0m\n\u001b[0;32m      7\u001b[0m                name=platform)\n",
      "\u001b[1;31mNameError\u001b[0m: name 'go' is not defined"
     ]
    }
   ],
   "source": [
    "data = []\n",
    "\n",
    "for platform in df['platform'].unique():\n",
    "    data.append(\n",
    "        go.Scatter(x=df[df.platform==platform].groupby(\"year_of_release\")['all_sales'].sum().index,\n",
    "               y=df[df.platform==platform].groupby(\"year_of_release\")['all_sales'].sum(),\n",
    "               name=platform)\n",
    "    )\n",
    "layout = {'title': 'Продажи по платформам с 2013 г.'}\n",
    "    \n",
    "fig = go.Figure(data=data, layout=layout)\n",
    "iplot(fig, show_link = False)\n",
    "plt.show()"
   ]
  },
  {
   "cell_type": "markdown",
   "metadata": {},
   "source": [
    "Для того, чтобы оценить какие платформы лидируют по продажам, растут или падают, и выбрать несколько потенциально прибыльных платформ - построим график по продажам в динамике, по годам. Общая динамика после 2012 года - падение. Некоторый рост показывали \"молодые\" платформы в 2015 г.:ps4, xone, 3dc, pc, wiiu. "
   ]
  },
  {
   "cell_type": "markdown",
   "metadata": {},
   "source": [
    "<div class=\"alert alert-block alert-success\">\n",
    "<b>КОММЕНТАРИЙ РЕВЬЮВЕРА:</b> \n",
    "    \n",
    "\n",
    "Я бы еще пк добавил\n",
    "\n",
    "</div>"
   ]
  },
  {
   "cell_type": "code",
   "execution_count": 29,
   "metadata": {},
   "outputs": [
    {
     "ename": "NameError",
     "evalue": "name 'go' is not defined",
     "output_type": "error",
     "traceback": [
      "\u001b[1;31m---------------------------------------------------------------------------\u001b[0m",
      "\u001b[1;31mNameError\u001b[0m                                 Traceback (most recent call last)",
      "\u001b[1;32m<ipython-input-29-8b00e17fff8a>\u001b[0m in \u001b[0;36m<module>\u001b[1;34m\u001b[0m\n\u001b[0;32m      3\u001b[0m \u001b[1;32mfor\u001b[0m \u001b[0mplatform\u001b[0m \u001b[1;32min\u001b[0m \u001b[0mdf\u001b[0m\u001b[1;33m[\u001b[0m\u001b[1;34m'platform'\u001b[0m\u001b[1;33m]\u001b[0m\u001b[1;33m.\u001b[0m\u001b[0munique\u001b[0m\u001b[1;33m(\u001b[0m\u001b[1;33m)\u001b[0m\u001b[1;33m:\u001b[0m\u001b[1;33m\u001b[0m\u001b[1;33m\u001b[0m\u001b[0m\n\u001b[0;32m      4\u001b[0m     data.append(\n\u001b[1;32m----> 5\u001b[1;33m         go.Box(y=df[df.platform==platform]['all_sales'], \n\u001b[0m\u001b[0;32m      6\u001b[0m                name=platform )\n\u001b[0;32m      7\u001b[0m     )\n",
      "\u001b[1;31mNameError\u001b[0m: name 'go' is not defined"
     ]
    }
   ],
   "source": [
    "data = []\n",
    "\n",
    "for platform in df['platform'].unique():\n",
    "    data.append(\n",
    "        go.Box(y=df[df.platform==platform]['all_sales'], \n",
    "               name=platform )\n",
    "    )\n",
    "    \n",
    "layout = {'title': 'Глобальные продажи игр в разбивке по платформам'}\n",
    "fig = go.Figure(data=data, layout=layout)\n",
    "\n",
    "fig.update_layout(yaxis=dict(range=[0,1.5]))\n",
    "\n",
    "iplot(fig, show_link = False)"
   ]
  },
  {
   "cell_type": "markdown",
   "metadata": {},
   "source": [
    "Представлен \"ящик с усами\" по глобальным продажам игр в разбивке по платформам. Лидерами оказались x360, ps4, xone, wiiu, wii"
   ]
  },
  {
   "cell_type": "code",
   "execution_count": 30,
   "metadata": {},
   "outputs": [
    {
     "data": {
      "text/html": [
       "<div>\n",
       "<style scoped>\n",
       "    .dataframe tbody tr th:only-of-type {\n",
       "        vertical-align: middle;\n",
       "    }\n",
       "\n",
       "    .dataframe tbody tr th {\n",
       "        vertical-align: top;\n",
       "    }\n",
       "\n",
       "    .dataframe thead th {\n",
       "        text-align: right;\n",
       "    }\n",
       "</style>\n",
       "<table border=\"1\" class=\"dataframe\">\n",
       "  <thead>\n",
       "    <tr style=\"text-align: right;\">\n",
       "      <th></th>\n",
       "      <th>all_sales</th>\n",
       "      <th>critic_score</th>\n",
       "      <th>user_score</th>\n",
       "    </tr>\n",
       "  </thead>\n",
       "  <tbody>\n",
       "    <tr>\n",
       "      <th>all_sales</th>\n",
       "      <td>1.000000</td>\n",
       "      <td>0.350345</td>\n",
       "      <td>-0.011742</td>\n",
       "    </tr>\n",
       "    <tr>\n",
       "      <th>critic_score</th>\n",
       "      <td>0.350345</td>\n",
       "      <td>1.000000</td>\n",
       "      <td>0.520946</td>\n",
       "    </tr>\n",
       "    <tr>\n",
       "      <th>user_score</th>\n",
       "      <td>-0.011742</td>\n",
       "      <td>0.520946</td>\n",
       "      <td>1.000000</td>\n",
       "    </tr>\n",
       "  </tbody>\n",
       "</table>\n",
       "</div>"
      ],
      "text/plain": [
       "              all_sales  critic_score  user_score\n",
       "all_sales      1.000000      0.350345   -0.011742\n",
       "critic_score   0.350345      1.000000    0.520946\n",
       "user_score    -0.011742      0.520946    1.000000"
      ]
     },
     "execution_count": 30,
     "metadata": {},
     "output_type": "execute_result"
    }
   ],
   "source": [
    "Xbox_360 = df[df['platform']=='x360']\n",
    "Xbox_360[['all_sales', 'critic_score', 'user_score']].corr()\n"
   ]
  },
  {
   "cell_type": "markdown",
   "metadata": {},
   "source": [
    "Посмотрим корреляцию продаж внутри одной популярной платформы с отзывами пользователей и критиков. Оценка критиков показывает бОльшую взаимосвязь с продажами, чем оценка пользователей, связь с которыми тем не менее также обнаруживается. "
   ]
  },
  {
   "cell_type": "code",
   "execution_count": 31,
   "metadata": {},
   "outputs": [
    {
     "data": {
      "text/html": [
       "<div>\n",
       "<style scoped>\n",
       "    .dataframe tbody tr th:only-of-type {\n",
       "        vertical-align: middle;\n",
       "    }\n",
       "\n",
       "    .dataframe tbody tr th {\n",
       "        vertical-align: top;\n",
       "    }\n",
       "\n",
       "    .dataframe thead th {\n",
       "        text-align: right;\n",
       "    }\n",
       "</style>\n",
       "<table border=\"1\" class=\"dataframe\">\n",
       "  <thead>\n",
       "    <tr style=\"text-align: right;\">\n",
       "      <th></th>\n",
       "      <th>name</th>\n",
       "      <th>platform</th>\n",
       "      <th>year_of_release</th>\n",
       "      <th>genre</th>\n",
       "      <th>publisher</th>\n",
       "      <th>na_sales</th>\n",
       "      <th>eu_sales</th>\n",
       "      <th>jp_sales</th>\n",
       "      <th>other_sales</th>\n",
       "      <th>global_sales</th>\n",
       "      <th>critic_score</th>\n",
       "      <th>critic_count</th>\n",
       "      <th>user_score</th>\n",
       "      <th>user_count</th>\n",
       "      <th>developer</th>\n",
       "      <th>rating</th>\n",
       "      <th>all_sales</th>\n",
       "    </tr>\n",
       "  </thead>\n",
       "  <tbody>\n",
       "    <tr>\n",
       "      <th>16</th>\n",
       "      <td>grand theft auto v</td>\n",
       "      <td>ps3</td>\n",
       "      <td>2013</td>\n",
       "      <td>action</td>\n",
       "      <td>Take-Two Interactive</td>\n",
       "      <td>7.02</td>\n",
       "      <td>9.09</td>\n",
       "      <td>0.98</td>\n",
       "      <td>3.96</td>\n",
       "      <td>21.04</td>\n",
       "      <td>97</td>\n",
       "      <td>50.0</td>\n",
       "      <td>8.2</td>\n",
       "      <td>3994.0</td>\n",
       "      <td>Rockstar North</td>\n",
       "      <td>m</td>\n",
       "      <td>21.05</td>\n",
       "    </tr>\n",
       "    <tr>\n",
       "      <th>23</th>\n",
       "      <td>grand theft auto v</td>\n",
       "      <td>x360</td>\n",
       "      <td>2013</td>\n",
       "      <td>action</td>\n",
       "      <td>Take-Two Interactive</td>\n",
       "      <td>9.66</td>\n",
       "      <td>5.14</td>\n",
       "      <td>0.06</td>\n",
       "      <td>1.41</td>\n",
       "      <td>16.27</td>\n",
       "      <td>97</td>\n",
       "      <td>58.0</td>\n",
       "      <td>8.1</td>\n",
       "      <td>3711.0</td>\n",
       "      <td>Rockstar North</td>\n",
       "      <td>m</td>\n",
       "      <td>16.27</td>\n",
       "    </tr>\n",
       "    <tr>\n",
       "      <th>42</th>\n",
       "      <td>grand theft auto v</td>\n",
       "      <td>ps4</td>\n",
       "      <td>2014</td>\n",
       "      <td>action</td>\n",
       "      <td>Take-Two Interactive</td>\n",
       "      <td>3.96</td>\n",
       "      <td>6.31</td>\n",
       "      <td>0.38</td>\n",
       "      <td>1.97</td>\n",
       "      <td>12.61</td>\n",
       "      <td>97</td>\n",
       "      <td>66.0</td>\n",
       "      <td>8.3</td>\n",
       "      <td>2899.0</td>\n",
       "      <td>Rockstar North</td>\n",
       "      <td>m</td>\n",
       "      <td>12.62</td>\n",
       "    </tr>\n",
       "    <tr>\n",
       "      <th>60</th>\n",
       "      <td>call of duty: ghosts</td>\n",
       "      <td>x360</td>\n",
       "      <td>2013</td>\n",
       "      <td>shooter</td>\n",
       "      <td>Activision</td>\n",
       "      <td>6.73</td>\n",
       "      <td>2.56</td>\n",
       "      <td>0.04</td>\n",
       "      <td>0.91</td>\n",
       "      <td>10.25</td>\n",
       "      <td>73</td>\n",
       "      <td>29.0</td>\n",
       "      <td>2.6</td>\n",
       "      <td>2117.0</td>\n",
       "      <td>Infinity Ward</td>\n",
       "      <td>m</td>\n",
       "      <td>10.24</td>\n",
       "    </tr>\n",
       "    <tr>\n",
       "      <th>69</th>\n",
       "      <td>call of duty: ghosts</td>\n",
       "      <td>ps3</td>\n",
       "      <td>2013</td>\n",
       "      <td>shooter</td>\n",
       "      <td>Activision</td>\n",
       "      <td>4.10</td>\n",
       "      <td>3.63</td>\n",
       "      <td>0.38</td>\n",
       "      <td>1.25</td>\n",
       "      <td>9.36</td>\n",
       "      <td>71</td>\n",
       "      <td>10.0</td>\n",
       "      <td>2.6</td>\n",
       "      <td>1047.0</td>\n",
       "      <td>Infinity Ward</td>\n",
       "      <td>m</td>\n",
       "      <td>9.36</td>\n",
       "    </tr>\n",
       "    <tr>\n",
       "      <th>...</th>\n",
       "      <td>...</td>\n",
       "      <td>...</td>\n",
       "      <td>...</td>\n",
       "      <td>...</td>\n",
       "      <td>...</td>\n",
       "      <td>...</td>\n",
       "      <td>...</td>\n",
       "      <td>...</td>\n",
       "      <td>...</td>\n",
       "      <td>...</td>\n",
       "      <td>...</td>\n",
       "      <td>...</td>\n",
       "      <td>...</td>\n",
       "      <td>...</td>\n",
       "      <td>...</td>\n",
       "      <td>...</td>\n",
       "      <td>...</td>\n",
       "    </tr>\n",
       "    <tr>\n",
       "      <th>16601</th>\n",
       "      <td>saints row: gat out of hell</td>\n",
       "      <td>xone</td>\n",
       "      <td>2015</td>\n",
       "      <td>action</td>\n",
       "      <td>Deep Silver</td>\n",
       "      <td>0.00</td>\n",
       "      <td>0.01</td>\n",
       "      <td>0.00</td>\n",
       "      <td>0.00</td>\n",
       "      <td>0.01</td>\n",
       "      <td>65</td>\n",
       "      <td>16.0</td>\n",
       "      <td>6.0</td>\n",
       "      <td>27.0</td>\n",
       "      <td>Volition Inc.</td>\n",
       "      <td>m</td>\n",
       "      <td>0.01</td>\n",
       "    </tr>\n",
       "    <tr>\n",
       "      <th>16634</th>\n",
       "      <td>sébastien loeb rally evo</td>\n",
       "      <td>xone</td>\n",
       "      <td>2016</td>\n",
       "      <td>racing</td>\n",
       "      <td>Milestone S.r.l</td>\n",
       "      <td>0.00</td>\n",
       "      <td>0.01</td>\n",
       "      <td>0.00</td>\n",
       "      <td>0.00</td>\n",
       "      <td>0.01</td>\n",
       "      <td>63</td>\n",
       "      <td>8.0</td>\n",
       "      <td>8.2</td>\n",
       "      <td>22.0</td>\n",
       "      <td>Milestone S.r.l</td>\n",
       "      <td>e</td>\n",
       "      <td>0.01</td>\n",
       "    </tr>\n",
       "    <tr>\n",
       "      <th>16656</th>\n",
       "      <td>fast racing neo</td>\n",
       "      <td>wiiu</td>\n",
       "      <td>2016</td>\n",
       "      <td>action</td>\n",
       "      <td>Nintendo</td>\n",
       "      <td>0.00</td>\n",
       "      <td>0.01</td>\n",
       "      <td>0.00</td>\n",
       "      <td>0.00</td>\n",
       "      <td>0.01</td>\n",
       "      <td>81</td>\n",
       "      <td>46.0</td>\n",
       "      <td>8.5</td>\n",
       "      <td>151.0</td>\n",
       "      <td>Shin'en</td>\n",
       "      <td>e</td>\n",
       "      <td>0.01</td>\n",
       "    </tr>\n",
       "    <tr>\n",
       "      <th>16664</th>\n",
       "      <td>prison architect</td>\n",
       "      <td>xone</td>\n",
       "      <td>2016</td>\n",
       "      <td>action</td>\n",
       "      <td>Introversion Software</td>\n",
       "      <td>0.01</td>\n",
       "      <td>0.00</td>\n",
       "      <td>0.00</td>\n",
       "      <td>0.00</td>\n",
       "      <td>0.01</td>\n",
       "      <td>74</td>\n",
       "      <td>13.0</td>\n",
       "      <td>6.7</td>\n",
       "      <td>7.0</td>\n",
       "      <td>Introversion, Double Eleven</td>\n",
       "      <td>NaN</td>\n",
       "      <td>0.01</td>\n",
       "    </tr>\n",
       "    <tr>\n",
       "      <th>16696</th>\n",
       "      <td>metal gear solid v: ground zeroes</td>\n",
       "      <td>pc</td>\n",
       "      <td>2014</td>\n",
       "      <td>action</td>\n",
       "      <td>Konami Digital Entertainment</td>\n",
       "      <td>0.00</td>\n",
       "      <td>0.01</td>\n",
       "      <td>0.00</td>\n",
       "      <td>0.00</td>\n",
       "      <td>0.01</td>\n",
       "      <td>80</td>\n",
       "      <td>20.0</td>\n",
       "      <td>7.6</td>\n",
       "      <td>412.0</td>\n",
       "      <td>Kojima Productions</td>\n",
       "      <td>m</td>\n",
       "      <td>0.01</td>\n",
       "    </tr>\n",
       "  </tbody>\n",
       "</table>\n",
       "<p>979 rows × 17 columns</p>\n",
       "</div>"
      ],
      "text/plain": [
       "                                    name platform  year_of_release    genre  \\\n",
       "16                    grand theft auto v      ps3             2013   action   \n",
       "23                    grand theft auto v     x360             2013   action   \n",
       "42                    grand theft auto v      ps4             2014   action   \n",
       "60                  call of duty: ghosts     x360             2013  shooter   \n",
       "69                  call of duty: ghosts      ps3             2013  shooter   \n",
       "...                                  ...      ...              ...      ...   \n",
       "16601        saints row: gat out of hell     xone             2015   action   \n",
       "16634           sébastien loeb rally evo     xone             2016   racing   \n",
       "16656                   fast racing neo      wiiu             2016   action   \n",
       "16664                   prison architect     xone             2016   action   \n",
       "16696  metal gear solid v: ground zeroes       pc             2014   action   \n",
       "\n",
       "                          publisher  na_sales  eu_sales  jp_sales  \\\n",
       "16             Take-Two Interactive      7.02      9.09      0.98   \n",
       "23             Take-Two Interactive      9.66      5.14      0.06   \n",
       "42             Take-Two Interactive      3.96      6.31      0.38   \n",
       "60                       Activision      6.73      2.56      0.04   \n",
       "69                       Activision      4.10      3.63      0.38   \n",
       "...                             ...       ...       ...       ...   \n",
       "16601                   Deep Silver      0.00      0.01      0.00   \n",
       "16634               Milestone S.r.l      0.00      0.01      0.00   \n",
       "16656                      Nintendo      0.00      0.01      0.00   \n",
       "16664         Introversion Software      0.01      0.00      0.00   \n",
       "16696  Konami Digital Entertainment      0.00      0.01      0.00   \n",
       "\n",
       "       other_sales  global_sales  critic_score  critic_count  user_score  \\\n",
       "16            3.96         21.04            97          50.0         8.2   \n",
       "23            1.41         16.27            97          58.0         8.1   \n",
       "42            1.97         12.61            97          66.0         8.3   \n",
       "60            0.91         10.25            73          29.0         2.6   \n",
       "69            1.25          9.36            71          10.0         2.6   \n",
       "...            ...           ...           ...           ...         ...   \n",
       "16601         0.00          0.01            65          16.0         6.0   \n",
       "16634         0.00          0.01            63           8.0         8.2   \n",
       "16656         0.00          0.01            81          46.0         8.5   \n",
       "16664         0.00          0.01            74          13.0         6.7   \n",
       "16696         0.00          0.01            80          20.0         7.6   \n",
       "\n",
       "       user_count                    developer rating  all_sales  \n",
       "16         3994.0               Rockstar North      m      21.05  \n",
       "23         3711.0               Rockstar North      m      16.27  \n",
       "42         2899.0               Rockstar North      m      12.62  \n",
       "60         2117.0                Infinity Ward      m      10.24  \n",
       "69         1047.0                Infinity Ward      m       9.36  \n",
       "...           ...                          ...    ...        ...  \n",
       "16601        27.0                Volition Inc.      m       0.01  \n",
       "16634        22.0              Milestone S.r.l      e       0.01  \n",
       "16656       151.0                      Shin'en      e       0.01  \n",
       "16664         7.0  Introversion, Double Eleven    NaN       0.01  \n",
       "16696       412.0           Kojima Productions      m       0.01  \n",
       "\n",
       "[979 rows x 17 columns]"
      ]
     },
     "execution_count": 31,
     "metadata": {},
     "output_type": "execute_result"
    }
   ],
   "source": [
    "filtered_df = df[df[['critic_score', 'user_score']].notnull().all(1)]\n",
    "\n",
    "filtered_df\n"
   ]
  },
  {
   "cell_type": "markdown",
   "metadata": {},
   "source": [
    "Теперь попробуем рассмотреть базу только с указанными значениями, без пропущенных. "
   ]
  },
  {
   "cell_type": "code",
   "execution_count": 32,
   "metadata": {},
   "outputs": [
    {
     "data": {
      "text/html": [
       "<div>\n",
       "<style scoped>\n",
       "    .dataframe tbody tr th:only-of-type {\n",
       "        vertical-align: middle;\n",
       "    }\n",
       "\n",
       "    .dataframe tbody tr th {\n",
       "        vertical-align: top;\n",
       "    }\n",
       "\n",
       "    .dataframe thead th {\n",
       "        text-align: right;\n",
       "    }\n",
       "</style>\n",
       "<table border=\"1\" class=\"dataframe\">\n",
       "  <thead>\n",
       "    <tr style=\"text-align: right;\">\n",
       "      <th></th>\n",
       "      <th>all_sales</th>\n",
       "      <th>critic_score</th>\n",
       "      <th>user_score</th>\n",
       "    </tr>\n",
       "  </thead>\n",
       "  <tbody>\n",
       "    <tr>\n",
       "      <th>all_sales</th>\n",
       "      <td>1.000000</td>\n",
       "      <td>0.350345</td>\n",
       "      <td>-0.006238</td>\n",
       "    </tr>\n",
       "    <tr>\n",
       "      <th>critic_score</th>\n",
       "      <td>0.350345</td>\n",
       "      <td>1.000000</td>\n",
       "      <td>0.520946</td>\n",
       "    </tr>\n",
       "    <tr>\n",
       "      <th>user_score</th>\n",
       "      <td>-0.006238</td>\n",
       "      <td>0.520946</td>\n",
       "      <td>1.000000</td>\n",
       "    </tr>\n",
       "  </tbody>\n",
       "</table>\n",
       "</div>"
      ],
      "text/plain": [
       "              all_sales  critic_score  user_score\n",
       "all_sales      1.000000      0.350345   -0.006238\n",
       "critic_score   0.350345      1.000000    0.520946\n",
       "user_score    -0.006238      0.520946    1.000000"
      ]
     },
     "execution_count": 32,
     "metadata": {},
     "output_type": "execute_result"
    }
   ],
   "source": [
    "Xbox_360 = filtered_df[filtered_df['platform']=='x360']\n",
    "Xbox_360[['all_sales', 'critic_score', 'user_score']].corr()"
   ]
  },
  {
   "cell_type": "markdown",
   "metadata": {},
   "source": [
    "Корреляция получается такая же, поэтому пропущенные значения не влияют. "
   ]
  },
  {
   "cell_type": "code",
   "execution_count": 33,
   "metadata": {
    "scrolled": true
   },
   "outputs": [
    {
     "data": {
      "image/png": "[encoded data removed]",
      "text/plain": [
       "<Figure size 792x360 with 1 Axes>"
      ]
     },
     "metadata": {
      "needs_background": "light"
     },
     "output_type": "display_data"
    }
   ],
   "source": [
    "plt.figure(figsize=(11,5))\n",
    "sns.scatterplot(x='user_score', y='all_sales', data=Xbox_360)\n",
    "plt.title('Cоотношение продаж внутри X360 с отзывами пользователей')\n",
    "plt.show()"
   ]
  },
  {
   "cell_type": "code",
   "execution_count": 34,
   "metadata": {},
   "outputs": [
    {
     "data": {
      "image/png": "[encoded data removed]",
      "text/plain": [
       "<Figure size 792x360 with 1 Axes>"
      ]
     },
     "metadata": {
      "needs_background": "light"
     },
     "output_type": "display_data"
    }
   ],
   "source": [
    "plt.figure(figsize=(11,5))\n",
    "sns.scatterplot(x='critic_score', y='all_sales', data=Xbox_360)\n",
    "plt.title('Cоотношение продаж внутри X360 с отзывами пользователей')\n",
    "plt.show()"
   ]
  },
  {
   "cell_type": "markdown",
   "metadata": {},
   "source": [
    "Смотрим диаграмму рассеяния: демонстрируется выявленная корреляционная связь. Чем выше оценки пользователей, и особенно критиков - тем выше продажи. "
   ]
  },
  {
   "cell_type": "markdown",
   "metadata": {},
   "source": [
    "<div class=\"alert alert-block alert-success\">\n",
    "<b>КОММЕНТАРИЙ РЕВЬЮВЕРА:</b> \n",
    "    \n",
    "Корреляция с критиками действительно выше, чем с пользователями\n",
    "\n",
    "</div>"
   ]
  },
  {
   "cell_type": "code",
   "execution_count": 46,
   "metadata": {},
   "outputs": [
    {
     "data": {
      "text/html": [
       "<div>\n",
       "<style scoped>\n",
       "    .dataframe tbody tr th:only-of-type {\n",
       "        vertical-align: middle;\n",
       "    }\n",
       "\n",
       "    .dataframe tbody tr th {\n",
       "        vertical-align: top;\n",
       "    }\n",
       "\n",
       "    .dataframe thead th {\n",
       "        text-align: right;\n",
       "    }\n",
       "</style>\n",
       "<table border=\"1\" class=\"dataframe\">\n",
       "  <thead>\n",
       "    <tr style=\"text-align: right;\">\n",
       "      <th></th>\n",
       "      <th>name</th>\n",
       "      <th>platform</th>\n",
       "      <th>year_of_release</th>\n",
       "      <th>genre</th>\n",
       "      <th>publisher</th>\n",
       "      <th>na_sales</th>\n",
       "      <th>eu_sales</th>\n",
       "      <th>jp_sales</th>\n",
       "      <th>other_sales</th>\n",
       "      <th>global_sales</th>\n",
       "      <th>critic_score</th>\n",
       "      <th>critic_count</th>\n",
       "      <th>user_score</th>\n",
       "      <th>user_count</th>\n",
       "      <th>developer</th>\n",
       "      <th>rating</th>\n",
       "      <th>all_sales</th>\n",
       "    </tr>\n",
       "  </thead>\n",
       "  <tbody>\n",
       "    <tr>\n",
       "      <th>16</th>\n",
       "      <td>grand theft auto v</td>\n",
       "      <td>ps3</td>\n",
       "      <td>2013</td>\n",
       "      <td>action</td>\n",
       "      <td>Take-Two Interactive</td>\n",
       "      <td>7.02</td>\n",
       "      <td>9.09</td>\n",
       "      <td>0.98</td>\n",
       "      <td>3.96</td>\n",
       "      <td>21.04</td>\n",
       "      <td>97</td>\n",
       "      <td>50.0</td>\n",
       "      <td>8.2</td>\n",
       "      <td>3994.0</td>\n",
       "      <td>Rockstar North</td>\n",
       "      <td>m</td>\n",
       "      <td>21.05</td>\n",
       "    </tr>\n",
       "    <tr>\n",
       "      <th>23</th>\n",
       "      <td>grand theft auto v</td>\n",
       "      <td>x360</td>\n",
       "      <td>2013</td>\n",
       "      <td>action</td>\n",
       "      <td>Take-Two Interactive</td>\n",
       "      <td>9.66</td>\n",
       "      <td>5.14</td>\n",
       "      <td>0.06</td>\n",
       "      <td>1.41</td>\n",
       "      <td>16.27</td>\n",
       "      <td>97</td>\n",
       "      <td>58.0</td>\n",
       "      <td>8.1</td>\n",
       "      <td>3711.0</td>\n",
       "      <td>Rockstar North</td>\n",
       "      <td>m</td>\n",
       "      <td>16.27</td>\n",
       "    </tr>\n",
       "    <tr>\n",
       "      <th>31</th>\n",
       "      <td>call of duty: black ops 3</td>\n",
       "      <td>ps4</td>\n",
       "      <td>2015</td>\n",
       "      <td>shooter</td>\n",
       "      <td>Activision</td>\n",
       "      <td>6.03</td>\n",
       "      <td>5.86</td>\n",
       "      <td>0.36</td>\n",
       "      <td>2.38</td>\n",
       "      <td>14.63</td>\n",
       "      <td>&lt;NA&gt;</td>\n",
       "      <td>NaN</td>\n",
       "      <td>NaN</td>\n",
       "      <td>NaN</td>\n",
       "      <td>NaN</td>\n",
       "      <td>NaN</td>\n",
       "      <td>14.63</td>\n",
       "    </tr>\n",
       "    <tr>\n",
       "      <th>33</th>\n",
       "      <td>pokemon x/pokemon y</td>\n",
       "      <td>3ds</td>\n",
       "      <td>2013</td>\n",
       "      <td>role-playing</td>\n",
       "      <td>Nintendo</td>\n",
       "      <td>5.28</td>\n",
       "      <td>4.19</td>\n",
       "      <td>4.35</td>\n",
       "      <td>0.78</td>\n",
       "      <td>14.60</td>\n",
       "      <td>&lt;NA&gt;</td>\n",
       "      <td>NaN</td>\n",
       "      <td>NaN</td>\n",
       "      <td>NaN</td>\n",
       "      <td>NaN</td>\n",
       "      <td>NaN</td>\n",
       "      <td>14.60</td>\n",
       "    </tr>\n",
       "    <tr>\n",
       "      <th>42</th>\n",
       "      <td>grand theft auto v</td>\n",
       "      <td>ps4</td>\n",
       "      <td>2014</td>\n",
       "      <td>action</td>\n",
       "      <td>Take-Two Interactive</td>\n",
       "      <td>3.96</td>\n",
       "      <td>6.31</td>\n",
       "      <td>0.38</td>\n",
       "      <td>1.97</td>\n",
       "      <td>12.61</td>\n",
       "      <td>97</td>\n",
       "      <td>66.0</td>\n",
       "      <td>8.3</td>\n",
       "      <td>2899.0</td>\n",
       "      <td>Rockstar North</td>\n",
       "      <td>m</td>\n",
       "      <td>12.62</td>\n",
       "    </tr>\n",
       "  </tbody>\n",
       "</table>\n",
       "</div>"
      ],
      "text/plain": [
       "                         name platform  year_of_release         genre  \\\n",
       "16         grand theft auto v      ps3             2013        action   \n",
       "23         grand theft auto v     x360             2013        action   \n",
       "31  call of duty: black ops 3      ps4             2015       shooter   \n",
       "33        pokemon x/pokemon y      3ds             2013  role-playing   \n",
       "42         grand theft auto v      ps4             2014        action   \n",
       "\n",
       "               publisher  na_sales  eu_sales  jp_sales  other_sales  \\\n",
       "16  Take-Two Interactive      7.02      9.09      0.98         3.96   \n",
       "23  Take-Two Interactive      9.66      5.14      0.06         1.41   \n",
       "31            Activision      6.03      5.86      0.36         2.38   \n",
       "33              Nintendo      5.28      4.19      4.35         0.78   \n",
       "42  Take-Two Interactive      3.96      6.31      0.38         1.97   \n",
       "\n",
       "    global_sales  critic_score  critic_count  user_score  user_count  \\\n",
       "16         21.04            97          50.0         8.2      3994.0   \n",
       "23         16.27            97          58.0         8.1      3711.0   \n",
       "31         14.63          <NA>           NaN         NaN         NaN   \n",
       "33         14.60          <NA>           NaN         NaN         NaN   \n",
       "42         12.61            97          66.0         8.3      2899.0   \n",
       "\n",
       "         developer rating  all_sales  \n",
       "16  Rockstar North      m      21.05  \n",
       "23  Rockstar North      m      16.27  \n",
       "31             NaN    NaN      14.63  \n",
       "33             NaN    NaN      14.60  \n",
       "42  Rockstar North      m      12.62  "
      ]
     },
     "execution_count": 46,
     "metadata": {},
     "output_type": "execute_result"
    }
   ],
   "source": [
    "top_5 = ['ps4','xone','pc','wiiu','3ds']\n",
    "top_5_platforms = df[df['platform'].isin(top_5)]\n",
    "\n",
    "# top_5_platforms.head(10)\n",
    "# df.head(5)"
   ]
  },
  {
   "cell_type": "code",
   "execution_count": 85,
   "metadata": {},
   "outputs": [],
   "source": [
    "def other_platform(name_of_platform):\n",
    "    platform = df[df['platform']==name_of_platform]\n",
    "    fig, ax = plt.subplots(1, 2, figsize=(15,5))\n",
    "    sns.scatterplot(x='user_score', y='all_sales', data=platform, ax=ax[0])\n",
    "    sns.scatterplot(x='critic_score', y='all_sales', data=platform, ax=ax[1])\n",
    "    fig.suptitle(name_of_platform, fontsize=15)\n",
    "    ax[0].set(xlabel='Оценка пользователей')\n",
    "    ax[1].set(xlabel='Оценка критиков')\n",
    "    ax[0].set(ylabel='Количество продаж')\n",
    "    ax[1].set(ylabel='Количество продаж')\n",
    "    plt.show()\n",
    "    \n",
    "    correl = platform['user_score'].corr(platform['all_sales'])\n",
    "    # Судя по всему, функция \"corr()\" ожидает что она должна быть вызвана для столбца с типом\n",
    "    # float, в то время как столбец 'critic_score' имеет тип 'int'. Однако я не нашёл в документации\n",
    "    # явного подтверждения данному предоположению\n",
    "    critic_correl = platform['critic_score'].astype(float).corr(platform['all_sales'])\n",
    "\n",
    "    def corr_to_str(corr):\n",
    "        suffix = \" обратная\" if corr < 0 else \"\"\n",
    "        corr = abs(corr)\n",
    "        if corr < 0.1:\n",
    "            return \"Отсутствует\"\n",
    "        elif corr <= 0.3:\n",
    "            return \"Слабая\" + suffix\n",
    "        elif corr <= 0.5:\n",
    "            return \"Умеренная\" + suffix\n",
    "        elif corr <= 0.7:\n",
    "            return \"Высокая\" + suffix\n",
    "        elif corr <= 0.9:\n",
    "            return \"Весьма высокая\" + suffix\n",
    "        else:\n",
    "            return \"Сильная\" + suffix\n",
    "    \n",
    "    print('Корреляция между отзывами критиков и игровой платформой',\n",
    "          name_of_platform.upper(), ':', corr_to_str(critic_correl), critic_correl)\n",
    "    print('Корреляция между отзывами пользователей и продажами ',\n",
    "          name_of_platform.upper(), ':', corr_to_str(correl), correl)"
   ]
  },
  {
   "cell_type": "code",
   "execution_count": 87,
   "metadata": {},
   "outputs": [
    {
     "data": {
      "image/png": "[encoded data removed]",
      "text/plain": [
       "<Figure size 1080x360 with 2 Axes>"
      ]
     },
     "metadata": {
      "needs_background": "light"
     },
     "output_type": "display_data"
    },
    {
     "name": "stdout",
     "output_type": "stream",
     "text": [
      "Корреляция между отзывами критиков и игровой платформой PS4 : Умеренная 0.40656790206178123\n",
      "Корреляция между отзывами пользователей и продажами  PS4 : Отсутствует -0.03195711020455644\n"
     ]
    },
    {
     "data": {
      "image/png": "[encoded data removed]",
      "text/plain": [
       "<Figure size 1080x360 with 2 Axes>"
      ]
     },
     "metadata": {
      "needs_background": "light"
     },
     "output_type": "display_data"
    },
    {
     "name": "stdout",
     "output_type": "stream",
     "text": [
      "Корреляция между отзывами критиков и игровой платформой XONE : Умеренная 0.41699832800840153\n",
      "Корреляция между отзывами пользователей и продажами  XONE : Отсутствует -0.06892505328279418\n"
     ]
    },
    {
     "data": {
      "image/png": "[encoded data removed]",
      "text/plain": [
       "<Figure size 1080x360 with 2 Axes>"
      ]
     },
     "metadata": {
      "needs_background": "light"
     },
     "output_type": "display_data"
    },
    {
     "name": "stdout",
     "output_type": "stream",
     "text": [
      "Корреляция между отзывами критиков и игровой платформой PC : Слабая 0.19965984836380174\n",
      "Корреляция между отзывами пользователей и продажами  PC : Отсутствует -0.08999775678448749\n"
     ]
    },
    {
     "data": {
      "image/png": "[encoded data removed]",
      "text/plain": [
       "<Figure size 1080x360 with 2 Axes>"
      ]
     },
     "metadata": {
      "needs_background": "light"
     },
     "output_type": "display_data"
    },
    {
     "name": "stdout",
     "output_type": "stream",
     "text": [
      "Корреляция между отзывами критиков и игровой платформой WIIU : Умеренная 0.37641490654239124\n",
      "Корреляция между отзывами пользователей и продажами  WIIU : Умеренная 0.41933048192661854\n"
     ]
    },
    {
     "data": {
      "image/png": "[encoded data removed]",
      "text/plain": [
       "<Figure size 1080x360 with 2 Axes>"
      ]
     },
     "metadata": {
      "needs_background": "light"
     },
     "output_type": "display_data"
    },
    {
     "name": "stdout",
     "output_type": "stream",
     "text": [
      "Корреляция между отзывами критиков и игровой платформой 3DS : Умеренная 0.3570566142288104\n",
      "Корреляция между отзывами пользователей и продажами  3DS : Слабая 0.24150411773563005\n"
     ]
    }
   ],
   "source": [
    "platform_leaders = df.groupby('platform')['all_sales'].sum().sort_values()[-5:].index.tolist()\n",
    "\n",
    "for platform in top_5:\n",
    "    other_platform(platform)\n"
   ]
  },
  {
   "cell_type": "code",
   "execution_count": 31,
   "metadata": {},
   "outputs": [],
   "source": [
    "\n",
    "platform_leaders = df_1995.groupby('platform')['all_sales'].sum().sort_values()[-5:].index.tolist()"
   ]
  },
  {
   "cell_type": "markdown",
   "metadata": {},
   "source": [
    "<div class=\"alert alert-block alert-danger\">\n",
    "<b>КОММЕНТАРИЙ РЕВЬЮВЕРА:</b> \n",
    "    \n",
    "\n",
    "\n",
    "Советую еще посмотреть корреляцию, не ограничиваясь конкретной платформой, так ты сможешь увидеть общий тренд\n",
    "</div>"
   ]
  },
  {
   "cell_type": "markdown",
   "metadata": {},
   "source": [
    "<div class=\"alert alert-block alert-info\">\n",
    "<b>КОММЕНТАРИЙ СТУДЕНТА:</b>\n",
    "</div>"
   ]
  },
  {
   "cell_type": "code",
   "execution_count": 32,
   "metadata": {
    "scrolled": true
   },
   "outputs": [
    {
     "data": {
      "image/png": "[encoded data removed]",
      "text/plain": [
       "<Figure size 1440x504 with 1 Axes>"
      ]
     },
     "metadata": {},
     "output_type": "display_data"
    }
   ],
   "source": [
    "x=df.groupby(\"genre\")['genre'].count()\n",
    "genres = x.index\n",
    "plt.figure(figsize=(20,7))\n",
    "plt.pie(x=x, labels=genres, autopct=\"%.2f\")\n",
    "plt.show()\n"
   ]
  },
  {
   "cell_type": "markdown",
   "metadata": {},
   "source": [
    "В общем распределении игр по жанрам больше всего экшн (боевиков), спортивных, misc и приключений."
   ]
  },
  {
   "cell_type": "code",
   "execution_count": 33,
   "metadata": {
    "scrolled": true
   },
   "outputs": [
    {
     "data": {
      "text/html": [
       "<div>\n",
       "<style scoped>\n",
       "    .dataframe tbody tr th:only-of-type {\n",
       "        vertical-align: middle;\n",
       "    }\n",
       "\n",
       "    .dataframe tbody tr th {\n",
       "        vertical-align: top;\n",
       "    }\n",
       "\n",
       "    .dataframe thead th {\n",
       "        text-align: right;\n",
       "    }\n",
       "</style>\n",
       "<table border=\"1\" class=\"dataframe\">\n",
       "  <thead>\n",
       "    <tr style=\"text-align: right;\">\n",
       "      <th></th>\n",
       "      <th>genre</th>\n",
       "      <th>all_sales</th>\n",
       "    </tr>\n",
       "  </thead>\n",
       "  <tbody>\n",
       "    <tr>\n",
       "      <td>0</td>\n",
       "      <td>action</td>\n",
       "      <td>322.50</td>\n",
       "    </tr>\n",
       "    <tr>\n",
       "      <td>1</td>\n",
       "      <td>shooter</td>\n",
       "      <td>232.98</td>\n",
       "    </tr>\n",
       "    <tr>\n",
       "      <td>2</td>\n",
       "      <td>sports</td>\n",
       "      <td>150.65</td>\n",
       "    </tr>\n",
       "    <tr>\n",
       "      <td>3</td>\n",
       "      <td>role-playing</td>\n",
       "      <td>145.89</td>\n",
       "    </tr>\n",
       "    <tr>\n",
       "      <td>4</td>\n",
       "      <td>misc</td>\n",
       "      <td>63.06</td>\n",
       "    </tr>\n",
       "    <tr>\n",
       "      <td>5</td>\n",
       "      <td>platform</td>\n",
       "      <td>42.63</td>\n",
       "    </tr>\n",
       "    <tr>\n",
       "      <td>6</td>\n",
       "      <td>racing</td>\n",
       "      <td>39.89</td>\n",
       "    </tr>\n",
       "    <tr>\n",
       "      <td>7</td>\n",
       "      <td>fighting</td>\n",
       "      <td>35.31</td>\n",
       "    </tr>\n",
       "    <tr>\n",
       "      <td>8</td>\n",
       "      <td>adventure</td>\n",
       "      <td>23.64</td>\n",
       "    </tr>\n",
       "    <tr>\n",
       "      <td>9</td>\n",
       "      <td>simulation</td>\n",
       "      <td>21.76</td>\n",
       "    </tr>\n",
       "    <tr>\n",
       "      <td>10</td>\n",
       "      <td>strategy</td>\n",
       "      <td>10.08</td>\n",
       "    </tr>\n",
       "    <tr>\n",
       "      <td>11</td>\n",
       "      <td>puzzle</td>\n",
       "      <td>3.17</td>\n",
       "    </tr>\n",
       "  </tbody>\n",
       "</table>\n",
       "</div>"
      ],
      "text/plain": [
       "           genre  all_sales\n",
       "0         action     322.50\n",
       "1        shooter     232.98\n",
       "2         sports     150.65\n",
       "3   role-playing     145.89\n",
       "4           misc      63.06\n",
       "5       platform      42.63\n",
       "6         racing      39.89\n",
       "7       fighting      35.31\n",
       "8      adventure      23.64\n",
       "9     simulation      21.76\n",
       "10      strategy      10.08\n",
       "11        puzzle       3.17"
      ]
     },
     "execution_count": 33,
     "metadata": {},
     "output_type": "execute_result"
    }
   ],
   "source": [
    "game_genres = df.pivot_table(\n",
    "    index='genre', values='all_sales', aggfunc='sum').sort_values(by='all_sales', ascending=False)\n",
    "game_genres = game_genres.reset_index().rename_axis(None, axis=1)\n",
    "game_genres"
   ]
  },
  {
   "cell_type": "markdown",
   "metadata": {},
   "source": [
    "В распределении по продажам самые популярные -  экшн, спортивные и стрелялки. "
   ]
  },
  {
   "cell_type": "code",
   "execution_count": 34,
   "metadata": {},
   "outputs": [
    {
     "data": {
      "image/png": "[encoded data removed]",
      "text/plain": [
       "<Figure size 792x360 with 1 Axes>"
      ]
     },
     "metadata": {
      "needs_background": "light"
     },
     "output_type": "display_data"
    }
   ],
   "source": [
    "plt.figure(figsize=(11,5))\n",
    "plt.title('Распределение игр по жанрам ',fontsize=15)\n",
    "sns.barplot(data=game_genres, x='genre', y='all_sales')\n",
    "plt.xlabel('Жанры игр',fontsize=12)\n",
    "plt.ylabel('Продажи',fontsize=12)\n",
    "plt.show()"
   ]
  },
  {
   "cell_type": "markdown",
   "metadata": {},
   "source": [
    "В сравнении двух распределений обращает на себя внимание то, что приключения не столь успешны в продажах, как их доля в общем составе. Еще менее низкие продажу у жанров пазла и стратегии (более спокойные игры). Вероятно, основной запрос по играм - возможность эмоционально \"отключиться\" от реальности, поэтому боевики и спорт пользуются большей популярностью. "
   ]
  },
  {
   "cell_type": "markdown",
   "metadata": {},
   "source": [
    "<div class=\"alert alert-block alert-success\">\n",
    "<b>КОММЕНТАРИЙ РЕВЬЮВЕРА:</b> \n",
    "    \n",
    "\n",
    "Молодец, что посмотрела количество и сумму, но можно еще посмотреть среднее\n",
    "</div>"
   ]
  },
  {
   "cell_type": "markdown",
   "metadata": {},
   "source": [
    "## Портрет пользователя каждого региона"
   ]
  },
  {
   "cell_type": "markdown",
   "metadata": {},
   "source": [
    "<div class=\"alert alert-block alert-danger\">\n",
    "<b>КОММЕНТАРИЙ РЕВЬЮВЕРА:</b> \n",
    "    \n",
    "\n",
    "Классные подходы к анализу регионов, но когда ты ограничишь актуальный период, то портреты изменятся\n",
    "\n",
    "</div>"
   ]
  },
  {
   "cell_type": "code",
   "execution_count": 35,
   "metadata": {},
   "outputs": [
    {
     "data": {
      "application/vnd.plotly.v1+json": {
       "config": {
        "linkText": "Export to plot.ly",
        "plotlyServerURL": "https://plot.ly",
        "showLink": false
       },
       "data": [
        {
         "name": "na",
         "type": "scatter",
         "visible": true,
         "x": [
          "3ds",
          "ps3",
          "x360",
          "xone",
          "ps4"
         ],
         "y": [
          38.19999999999999,
          63.50000000000005,
          81.66000000000001,
          93.12000000000005,
          108.7400000000001
         ]
        },
        {
         "name": "eu",
         "type": "scatter",
         "visible": false,
         "x": [
          "3ds",
          "x360",
          "xone",
          "ps3",
          "ps4"
         ],
         "y": [
          30.960000000000026,
          42.519999999999996,
          51.59,
          67.81000000000009,
          141.09000000000032
         ]
        },
        {
         "name": "jp",
         "type": "scatter",
         "visible": false,
         "x": [
          "wiiu",
          "ps4",
          "psv",
          "ps3",
          "3ds"
         ],
         "y": [
          10.879999999999992,
          15.95999999999997,
          18.59000000000008,
          23.350000000000016,
          67.81000000000004
         ]
        }
       ],
       "layout": {
        "template": {
         "data": {
          "bar": [
           {
            "error_x": {
             "color": "#2a3f5f"
            },
            "error_y": {
             "color": "#2a3f5f"
            },
            "marker": {
             "line": {
              "color": "#E5ECF6",
              "width": 0.5
             }
            },
            "type": "bar"
           }
          ],
          "barpolar": [
           {
            "marker": {
             "line": {
              "color": "#E5ECF6",
              "width": 0.5
             }
            },
            "type": "barpolar"
           }
          ],
          "carpet": [
           {
            "aaxis": {
             "endlinecolor": "#2a3f5f",
             "gridcolor": "white",
             "linecolor": "white",
             "minorgridcolor": "white",
             "startlinecolor": "#2a3f5f"
            },
            "baxis": {
             "endlinecolor": "#2a3f5f",
             "gridcolor": "white",
             "linecolor": "white",
             "minorgridcolor": "white",
             "startlinecolor": "#2a3f5f"
            },
            "type": "carpet"
           }
          ],
          "choropleth": [
           {
            "colorbar": {
             "outlinewidth": 0,
             "ticks": ""
            },
            "type": "choropleth"
           }
          ],
          "contour": [
           {
            "colorbar": {
             "outlinewidth": 0,
             "ticks": ""
            },
            "colorscale": [
             [
              0,
              "#0d0887"
             ],
             [
              0.1111111111111111,
              "#46039f"
             ],
             [
              0.2222222222222222,
              "#7201a8"
             ],
             [
              0.3333333333333333,
              "#9c179e"
             ],
             [
              0.4444444444444444,
              "#bd3786"
             ],
             [
              0.5555555555555556,
              "#d8576b"
             ],
             [
              0.6666666666666666,
              "#ed7953"
             ],
             [
              0.7777777777777778,
              "#fb9f3a"
             ],
             [
              0.8888888888888888,
              "#fdca26"
             ],
             [
              1,
              "#f0f921"
             ]
            ],
            "type": "contour"
           }
          ],
          "contourcarpet": [
           {
            "colorbar": {
             "outlinewidth": 0,
             "ticks": ""
            },
            "type": "contourcarpet"
           }
          ],
          "heatmap": [
           {
            "colorbar": {
             "outlinewidth": 0,
             "ticks": ""
            },
            "colorscale": [
             [
              0,
              "#0d0887"
             ],
             [
              0.1111111111111111,
              "#46039f"
             ],
             [
              0.2222222222222222,
              "#7201a8"
             ],
             [
              0.3333333333333333,
              "#9c179e"
             ],
             [
              0.4444444444444444,
              "#bd3786"
             ],
             [
              0.5555555555555556,
              "#d8576b"
             ],
             [
              0.6666666666666666,
              "#ed7953"
             ],
             [
              0.7777777777777778,
              "#fb9f3a"
             ],
             [
              0.8888888888888888,
              "#fdca26"
             ],
             [
              1,
              "#f0f921"
             ]
            ],
            "type": "heatmap"
           }
          ],
          "heatmapgl": [
           {
            "colorbar": {
             "outlinewidth": 0,
             "ticks": ""
            },
            "colorscale": [
             [
              0,
              "#0d0887"
             ],
             [
              0.1111111111111111,
              "#46039f"
             ],
             [
              0.2222222222222222,
              "#7201a8"
             ],
             [
              0.3333333333333333,
              "#9c179e"
             ],
             [
              0.4444444444444444,
              "#bd3786"
             ],
             [
              0.5555555555555556,
              "#d8576b"
             ],
             [
              0.6666666666666666,
              "#ed7953"
             ],
             [
              0.7777777777777778,
              "#fb9f3a"
             ],
             [
              0.8888888888888888,
              "#fdca26"
             ],
             [
              1,
              "#f0f921"
             ]
            ],
            "type": "heatmapgl"
           }
          ],
          "histogram": [
           {
            "marker": {
             "colorbar": {
              "outlinewidth": 0,
              "ticks": ""
             }
            },
            "type": "histogram"
           }
          ],
          "histogram2d": [
           {
            "colorbar": {
             "outlinewidth": 0,
             "ticks": ""
            },
            "colorscale": [
             [
              0,
              "#0d0887"
             ],
             [
              0.1111111111111111,
              "#46039f"
             ],
             [
              0.2222222222222222,
              "#7201a8"
             ],
             [
              0.3333333333333333,
              "#9c179e"
             ],
             [
              0.4444444444444444,
              "#bd3786"
             ],
             [
              0.5555555555555556,
              "#d8576b"
             ],
             [
              0.6666666666666666,
              "#ed7953"
             ],
             [
              0.7777777777777778,
              "#fb9f3a"
             ],
             [
              0.8888888888888888,
              "#fdca26"
             ],
             [
              1,
              "#f0f921"
             ]
            ],
            "type": "histogram2d"
           }
          ],
          "histogram2dcontour": [
           {
            "colorbar": {
             "outlinewidth": 0,
             "ticks": ""
            },
            "colorscale": [
             [
              0,
              "#0d0887"
             ],
             [
              0.1111111111111111,
              "#46039f"
             ],
             [
              0.2222222222222222,
              "#7201a8"
             ],
             [
              0.3333333333333333,
              "#9c179e"
             ],
             [
              0.4444444444444444,
              "#bd3786"
             ],
             [
              0.5555555555555556,
              "#d8576b"
             ],
             [
              0.6666666666666666,
              "#ed7953"
             ],
             [
              0.7777777777777778,
              "#fb9f3a"
             ],
             [
              0.8888888888888888,
              "#fdca26"
             ],
             [
              1,
              "#f0f921"
             ]
            ],
            "type": "histogram2dcontour"
           }
          ],
          "mesh3d": [
           {
            "colorbar": {
             "outlinewidth": 0,
             "ticks": ""
            },
            "type": "mesh3d"
           }
          ],
          "parcoords": [
           {
            "line": {
             "colorbar": {
              "outlinewidth": 0,
              "ticks": ""
             }
            },
            "type": "parcoords"
           }
          ],
          "scatter": [
           {
            "marker": {
             "colorbar": {
              "outlinewidth": 0,
              "ticks": ""
             }
            },
            "type": "scatter"
           }
          ],
          "scatter3d": [
           {
            "line": {
             "colorbar": {
              "outlinewidth": 0,
              "ticks": ""
             }
            },
            "marker": {
             "colorbar": {
              "outlinewidth": 0,
              "ticks": ""
             }
            },
            "type": "scatter3d"
           }
          ],
          "scattercarpet": [
           {
            "marker": {
             "colorbar": {
              "outlinewidth": 0,
              "ticks": ""
             }
            },
            "type": "scattercarpet"
           }
          ],
          "scattergeo": [
           {
            "marker": {
             "colorbar": {
              "outlinewidth": 0,
              "ticks": ""
             }
            },
            "type": "scattergeo"
           }
          ],
          "scattergl": [
           {
            "marker": {
             "colorbar": {
              "outlinewidth": 0,
              "ticks": ""
             }
            },
            "type": "scattergl"
           }
          ],
          "scattermapbox": [
           {
            "marker": {
             "colorbar": {
              "outlinewidth": 0,
              "ticks": ""
             }
            },
            "type": "scattermapbox"
           }
          ],
          "scatterpolar": [
           {
            "marker": {
             "colorbar": {
              "outlinewidth": 0,
              "ticks": ""
             }
            },
            "type": "scatterpolar"
           }
          ],
          "scatterpolargl": [
           {
            "marker": {
             "colorbar": {
              "outlinewidth": 0,
              "ticks": ""
             }
            },
            "type": "scatterpolargl"
           }
          ],
          "scatterternary": [
           {
            "marker": {
             "colorbar": {
              "outlinewidth": 0,
              "ticks": ""
             }
            },
            "type": "scatterternary"
           }
          ],
          "surface": [
           {
            "colorbar": {
             "outlinewidth": 0,
             "ticks": ""
            },
            "colorscale": [
             [
              0,
              "#0d0887"
             ],
             [
              0.1111111111111111,
              "#46039f"
             ],
             [
              0.2222222222222222,
              "#7201a8"
             ],
             [
              0.3333333333333333,
              "#9c179e"
             ],
             [
              0.4444444444444444,
              "#bd3786"
             ],
             [
              0.5555555555555556,
              "#d8576b"
             ],
             [
              0.6666666666666666,
              "#ed7953"
             ],
             [
              0.7777777777777778,
              "#fb9f3a"
             ],
             [
              0.8888888888888888,
              "#fdca26"
             ],
             [
              1,
              "#f0f921"
             ]
            ],
            "type": "surface"
           }
          ],
          "table": [
           {
            "cells": {
             "fill": {
              "color": "#EBF0F8"
             },
             "line": {
              "color": "white"
             }
            },
            "header": {
             "fill": {
              "color": "#C8D4E3"
             },
             "line": {
              "color": "white"
             }
            },
            "type": "table"
           }
          ]
         },
         "layout": {
          "annotationdefaults": {
           "arrowcolor": "#2a3f5f",
           "arrowhead": 0,
           "arrowwidth": 1
          },
          "colorscale": {
           "diverging": [
            [
             0,
             "#8e0152"
            ],
            [
             0.1,
             "#c51b7d"
            ],
            [
             0.2,
             "#de77ae"
            ],
            [
             0.3,
             "#f1b6da"
            ],
            [
             0.4,
             "#fde0ef"
            ],
            [
             0.5,
             "#f7f7f7"
            ],
            [
             0.6,
             "#e6f5d0"
            ],
            [
             0.7,
             "#b8e186"
            ],
            [
             0.8,
             "#7fbc41"
            ],
            [
             0.9,
             "#4d9221"
            ],
            [
             1,
             "#276419"
            ]
           ],
           "sequential": [
            [
             0,
             "#0d0887"
            ],
            [
             0.1111111111111111,
             "#46039f"
            ],
            [
             0.2222222222222222,
             "#7201a8"
            ],
            [
             0.3333333333333333,
             "#9c179e"
            ],
            [
             0.4444444444444444,
             "#bd3786"
            ],
            [
             0.5555555555555556,
             "#d8576b"
            ],
            [
             0.6666666666666666,
             "#ed7953"
            ],
            [
             0.7777777777777778,
             "#fb9f3a"
            ],
            [
             0.8888888888888888,
             "#fdca26"
            ],
            [
             1,
             "#f0f921"
            ]
           ],
           "sequentialminus": [
            [
             0,
             "#0d0887"
            ],
            [
             0.1111111111111111,
             "#46039f"
            ],
            [
             0.2222222222222222,
             "#7201a8"
            ],
            [
             0.3333333333333333,
             "#9c179e"
            ],
            [
             0.4444444444444444,
             "#bd3786"
            ],
            [
             0.5555555555555556,
             "#d8576b"
            ],
            [
             0.6666666666666666,
             "#ed7953"
            ],
            [
             0.7777777777777778,
             "#fb9f3a"
            ],
            [
             0.8888888888888888,
             "#fdca26"
            ],
            [
             1,
             "#f0f921"
            ]
           ]
          },
          "colorway": [
           "#636efa",
           "#EF553B",
           "#00cc96",
           "#ab63fa",
           "#FFA15A",
           "#19d3f3",
           "#FF6692",
           "#B6E880",
           "#FF97FF",
           "#FECB52"
          ],
          "font": {
           "color": "#2a3f5f"
          },
          "geo": {
           "bgcolor": "white",
           "lakecolor": "white",
           "landcolor": "#E5ECF6",
           "showlakes": true,
           "showland": true,
           "subunitcolor": "white"
          },
          "hoverlabel": {
           "align": "left"
          },
          "hovermode": "closest",
          "mapbox": {
           "style": "light"
          },
          "paper_bgcolor": "white",
          "plot_bgcolor": "#E5ECF6",
          "polar": {
           "angularaxis": {
            "gridcolor": "white",
            "linecolor": "white",
            "ticks": ""
           },
           "bgcolor": "#E5ECF6",
           "radialaxis": {
            "gridcolor": "white",
            "linecolor": "white",
            "ticks": ""
           }
          },
          "scene": {
           "xaxis": {
            "backgroundcolor": "#E5ECF6",
            "gridcolor": "white",
            "gridwidth": 2,
            "linecolor": "white",
            "showbackground": true,
            "ticks": "",
            "zerolinecolor": "white"
           },
           "yaxis": {
            "backgroundcolor": "#E5ECF6",
            "gridcolor": "white",
            "gridwidth": 2,
            "linecolor": "white",
            "showbackground": true,
            "ticks": "",
            "zerolinecolor": "white"
           },
           "zaxis": {
            "backgroundcolor": "#E5ECF6",
            "gridcolor": "white",
            "gridwidth": 2,
            "linecolor": "white",
            "showbackground": true,
            "ticks": "",
            "zerolinecolor": "white"
           }
          },
          "shapedefaults": {
           "line": {
            "color": "#2a3f5f"
           }
          },
          "ternary": {
           "aaxis": {
            "gridcolor": "white",
            "linecolor": "white",
            "ticks": ""
           },
           "baxis": {
            "gridcolor": "white",
            "linecolor": "white",
            "ticks": ""
           },
           "bgcolor": "#E5ECF6",
           "caxis": {
            "gridcolor": "white",
            "linecolor": "white",
            "ticks": ""
           }
          },
          "title": {
           "x": 0.05
          },
          "xaxis": {
           "automargin": true,
           "gridcolor": "white",
           "linecolor": "white",
           "ticks": "",
           "zerolinecolor": "white",
           "zerolinewidth": 2
          },
          "yaxis": {
           "automargin": true,
           "gridcolor": "white",
           "linecolor": "white",
           "ticks": "",
           "zerolinecolor": "white",
           "zerolinewidth": 2
          }
         }
        },
        "title": {
         "text": "Продажи платформ по регионам"
        },
        "updatemenus": [
         {
          "buttons": [
           {
            "args": [
             "visible",
             [
              true,
              false,
              false,
              false
             ]
            ],
            "label": "NA",
            "method": "restyle"
           },
           {
            "args": [
             "visible",
             [
              false,
              true,
              false,
              false
             ]
            ],
            "label": "EU",
            "method": "restyle"
           },
           {
            "args": [
             "visible",
             [
              false,
              false,
              true,
              false
             ]
            ],
            "label": "JP",
            "method": "restyle"
           }
          ],
          "x": -0.05,
          "y": 1,
          "yanchor": "top"
         }
        ]
       }
      },
      "text/html": [
       "<div>\n",
       "        \n",
       "        \n",
       "            <div id=\"332d8173-d7e9-4372-83d0-818a4b6a5841\" class=\"plotly-graph-div\" style=\"height:525px; width:100%;\"></div>\n",
       "            <script type=\"text/javascript\">\n",
       "                require([\"plotly\"], function(Plotly) {\n",
       "                    window.PLOTLYENV=window.PLOTLYENV || {};\n",
       "                    \n",
       "                if (document.getElementById(\"332d8173-d7e9-4372-83d0-818a4b6a5841\")) {\n",
       "                    Plotly.newPlot(\n",
       "                        '332d8173-d7e9-4372-83d0-818a4b6a5841',\n",
       "                        [{\"name\": \"na\", \"type\": \"scatter\", \"visible\": true, \"x\": [\"3ds\", \"ps3\", \"x360\", \"xone\", \"ps4\"], \"y\": [38.19999999999999, 63.50000000000005, 81.66000000000001, 93.12000000000005, 108.7400000000001]}, {\"name\": \"eu\", \"type\": \"scatter\", \"visible\": false, \"x\": [\"3ds\", \"x360\", \"xone\", \"ps3\", \"ps4\"], \"y\": [30.960000000000026, 42.519999999999996, 51.59, 67.81000000000009, 141.09000000000032]}, {\"name\": \"jp\", \"type\": \"scatter\", \"visible\": false, \"x\": [\"wiiu\", \"ps4\", \"psv\", \"ps3\", \"3ds\"], \"y\": [10.879999999999992, 15.95999999999997, 18.59000000000008, 23.350000000000016, 67.81000000000004]}],\n",
       "                        {\"template\": {\"data\": {\"bar\": [{\"error_x\": {\"color\": \"#2a3f5f\"}, \"error_y\": {\"color\": \"#2a3f5f\"}, \"marker\": {\"line\": {\"color\": \"#E5ECF6\", \"width\": 0.5}}, \"type\": \"bar\"}], \"barpolar\": [{\"marker\": {\"line\": {\"color\": \"#E5ECF6\", \"width\": 0.5}}, \"type\": \"barpolar\"}], \"carpet\": [{\"aaxis\": {\"endlinecolor\": \"#2a3f5f\", \"gridcolor\": \"white\", \"linecolor\": \"white\", \"minorgridcolor\": \"white\", \"startlinecolor\": \"#2a3f5f\"}, \"baxis\": {\"endlinecolor\": \"#2a3f5f\", \"gridcolor\": \"white\", \"linecolor\": \"white\", \"minorgridcolor\": \"white\", \"startlinecolor\": \"#2a3f5f\"}, \"type\": \"carpet\"}], \"choropleth\": [{\"colorbar\": {\"outlinewidth\": 0, \"ticks\": \"\"}, \"type\": \"choropleth\"}], \"contour\": [{\"colorbar\": {\"outlinewidth\": 0, \"ticks\": \"\"}, \"colorscale\": [[0.0, \"#0d0887\"], [0.1111111111111111, \"#46039f\"], [0.2222222222222222, \"#7201a8\"], [0.3333333333333333, \"#9c179e\"], [0.4444444444444444, \"#bd3786\"], [0.5555555555555556, \"#d8576b\"], [0.6666666666666666, \"#ed7953\"], [0.7777777777777778, \"#fb9f3a\"], [0.8888888888888888, \"#fdca26\"], [1.0, \"#f0f921\"]], \"type\": \"contour\"}], \"contourcarpet\": [{\"colorbar\": {\"outlinewidth\": 0, \"ticks\": \"\"}, \"type\": \"contourcarpet\"}], \"heatmap\": [{\"colorbar\": {\"outlinewidth\": 0, \"ticks\": \"\"}, \"colorscale\": [[0.0, \"#0d0887\"], [0.1111111111111111, \"#46039f\"], [0.2222222222222222, \"#7201a8\"], [0.3333333333333333, \"#9c179e\"], [0.4444444444444444, \"#bd3786\"], [0.5555555555555556, \"#d8576b\"], [0.6666666666666666, \"#ed7953\"], [0.7777777777777778, \"#fb9f3a\"], [0.8888888888888888, \"#fdca26\"], [1.0, \"#f0f921\"]], \"type\": \"heatmap\"}], \"heatmapgl\": [{\"colorbar\": {\"outlinewidth\": 0, \"ticks\": \"\"}, \"colorscale\": [[0.0, \"#0d0887\"], [0.1111111111111111, \"#46039f\"], [0.2222222222222222, \"#7201a8\"], [0.3333333333333333, \"#9c179e\"], [0.4444444444444444, \"#bd3786\"], [0.5555555555555556, \"#d8576b\"], [0.6666666666666666, \"#ed7953\"], [0.7777777777777778, \"#fb9f3a\"], [0.8888888888888888, \"#fdca26\"], [1.0, \"#f0f921\"]], \"type\": \"heatmapgl\"}], \"histogram\": [{\"marker\": {\"colorbar\": {\"outlinewidth\": 0, \"ticks\": \"\"}}, \"type\": \"histogram\"}], \"histogram2d\": [{\"colorbar\": {\"outlinewidth\": 0, \"ticks\": \"\"}, \"colorscale\": [[0.0, \"#0d0887\"], [0.1111111111111111, \"#46039f\"], [0.2222222222222222, \"#7201a8\"], [0.3333333333333333, \"#9c179e\"], [0.4444444444444444, \"#bd3786\"], [0.5555555555555556, \"#d8576b\"], [0.6666666666666666, \"#ed7953\"], [0.7777777777777778, \"#fb9f3a\"], [0.8888888888888888, \"#fdca26\"], [1.0, \"#f0f921\"]], \"type\": \"histogram2d\"}], \"histogram2dcontour\": [{\"colorbar\": {\"outlinewidth\": 0, \"ticks\": \"\"}, \"colorscale\": [[0.0, \"#0d0887\"], [0.1111111111111111, \"#46039f\"], [0.2222222222222222, \"#7201a8\"], [0.3333333333333333, \"#9c179e\"], [0.4444444444444444, \"#bd3786\"], [0.5555555555555556, \"#d8576b\"], [0.6666666666666666, \"#ed7953\"], [0.7777777777777778, \"#fb9f3a\"], [0.8888888888888888, \"#fdca26\"], [1.0, \"#f0f921\"]], \"type\": \"histogram2dcontour\"}], \"mesh3d\": [{\"colorbar\": {\"outlinewidth\": 0, \"ticks\": \"\"}, \"type\": \"mesh3d\"}], \"parcoords\": [{\"line\": {\"colorbar\": {\"outlinewidth\": 0, \"ticks\": \"\"}}, \"type\": \"parcoords\"}], \"scatter\": [{\"marker\": {\"colorbar\": {\"outlinewidth\": 0, \"ticks\": \"\"}}, \"type\": \"scatter\"}], \"scatter3d\": [{\"line\": {\"colorbar\": {\"outlinewidth\": 0, \"ticks\": \"\"}}, \"marker\": {\"colorbar\": {\"outlinewidth\": 0, \"ticks\": \"\"}}, \"type\": \"scatter3d\"}], \"scattercarpet\": [{\"marker\": {\"colorbar\": {\"outlinewidth\": 0, \"ticks\": \"\"}}, \"type\": \"scattercarpet\"}], \"scattergeo\": [{\"marker\": {\"colorbar\": {\"outlinewidth\": 0, \"ticks\": \"\"}}, \"type\": \"scattergeo\"}], \"scattergl\": [{\"marker\": {\"colorbar\": {\"outlinewidth\": 0, \"ticks\": \"\"}}, \"type\": \"scattergl\"}], \"scattermapbox\": [{\"marker\": {\"colorbar\": {\"outlinewidth\": 0, \"ticks\": \"\"}}, \"type\": \"scattermapbox\"}], \"scatterpolar\": [{\"marker\": {\"colorbar\": {\"outlinewidth\": 0, \"ticks\": \"\"}}, \"type\": \"scatterpolar\"}], \"scatterpolargl\": [{\"marker\": {\"colorbar\": {\"outlinewidth\": 0, \"ticks\": \"\"}}, \"type\": \"scatterpolargl\"}], \"scatterternary\": [{\"marker\": {\"colorbar\": {\"outlinewidth\": 0, \"ticks\": \"\"}}, \"type\": \"scatterternary\"}], \"surface\": [{\"colorbar\": {\"outlinewidth\": 0, \"ticks\": \"\"}, \"colorscale\": [[0.0, \"#0d0887\"], [0.1111111111111111, \"#46039f\"], [0.2222222222222222, \"#7201a8\"], [0.3333333333333333, \"#9c179e\"], [0.4444444444444444, \"#bd3786\"], [0.5555555555555556, \"#d8576b\"], [0.6666666666666666, \"#ed7953\"], [0.7777777777777778, \"#fb9f3a\"], [0.8888888888888888, \"#fdca26\"], [1.0, \"#f0f921\"]], \"type\": \"surface\"}], \"table\": [{\"cells\": {\"fill\": {\"color\": \"#EBF0F8\"}, \"line\": {\"color\": \"white\"}}, \"header\": {\"fill\": {\"color\": \"#C8D4E3\"}, \"line\": {\"color\": \"white\"}}, \"type\": \"table\"}]}, \"layout\": {\"annotationdefaults\": {\"arrowcolor\": \"#2a3f5f\", \"arrowhead\": 0, \"arrowwidth\": 1}, \"colorscale\": {\"diverging\": [[0, \"#8e0152\"], [0.1, \"#c51b7d\"], [0.2, \"#de77ae\"], [0.3, \"#f1b6da\"], [0.4, \"#fde0ef\"], [0.5, \"#f7f7f7\"], [0.6, \"#e6f5d0\"], [0.7, \"#b8e186\"], [0.8, \"#7fbc41\"], [0.9, \"#4d9221\"], [1, \"#276419\"]], \"sequential\": [[0.0, \"#0d0887\"], [0.1111111111111111, \"#46039f\"], [0.2222222222222222, \"#7201a8\"], [0.3333333333333333, \"#9c179e\"], [0.4444444444444444, \"#bd3786\"], [0.5555555555555556, \"#d8576b\"], [0.6666666666666666, \"#ed7953\"], [0.7777777777777778, \"#fb9f3a\"], [0.8888888888888888, \"#fdca26\"], [1.0, \"#f0f921\"]], \"sequentialminus\": [[0.0, \"#0d0887\"], [0.1111111111111111, \"#46039f\"], [0.2222222222222222, \"#7201a8\"], [0.3333333333333333, \"#9c179e\"], [0.4444444444444444, \"#bd3786\"], [0.5555555555555556, \"#d8576b\"], [0.6666666666666666, \"#ed7953\"], [0.7777777777777778, \"#fb9f3a\"], [0.8888888888888888, \"#fdca26\"], [1.0, \"#f0f921\"]]}, \"colorway\": [\"#636efa\", \"#EF553B\", \"#00cc96\", \"#ab63fa\", \"#FFA15A\", \"#19d3f3\", \"#FF6692\", \"#B6E880\", \"#FF97FF\", \"#FECB52\"], \"font\": {\"color\": \"#2a3f5f\"}, \"geo\": {\"bgcolor\": \"white\", \"lakecolor\": \"white\", \"landcolor\": \"#E5ECF6\", \"showlakes\": true, \"showland\": true, \"subunitcolor\": \"white\"}, \"hoverlabel\": {\"align\": \"left\"}, \"hovermode\": \"closest\", \"mapbox\": {\"style\": \"light\"}, \"paper_bgcolor\": \"white\", \"plot_bgcolor\": \"#E5ECF6\", \"polar\": {\"angularaxis\": {\"gridcolor\": \"white\", \"linecolor\": \"white\", \"ticks\": \"\"}, \"bgcolor\": \"#E5ECF6\", \"radialaxis\": {\"gridcolor\": \"white\", \"linecolor\": \"white\", \"ticks\": \"\"}}, \"scene\": {\"xaxis\": {\"backgroundcolor\": \"#E5ECF6\", \"gridcolor\": \"white\", \"gridwidth\": 2, \"linecolor\": \"white\", \"showbackground\": true, \"ticks\": \"\", \"zerolinecolor\": \"white\"}, \"yaxis\": {\"backgroundcolor\": \"#E5ECF6\", \"gridcolor\": \"white\", \"gridwidth\": 2, \"linecolor\": \"white\", \"showbackground\": true, \"ticks\": \"\", \"zerolinecolor\": \"white\"}, \"zaxis\": {\"backgroundcolor\": \"#E5ECF6\", \"gridcolor\": \"white\", \"gridwidth\": 2, \"linecolor\": \"white\", \"showbackground\": true, \"ticks\": \"\", \"zerolinecolor\": \"white\"}}, \"shapedefaults\": {\"line\": {\"color\": \"#2a3f5f\"}}, \"ternary\": {\"aaxis\": {\"gridcolor\": \"white\", \"linecolor\": \"white\", \"ticks\": \"\"}, \"baxis\": {\"gridcolor\": \"white\", \"linecolor\": \"white\", \"ticks\": \"\"}, \"bgcolor\": \"#E5ECF6\", \"caxis\": {\"gridcolor\": \"white\", \"linecolor\": \"white\", \"ticks\": \"\"}}, \"title\": {\"x\": 0.05}, \"xaxis\": {\"automargin\": true, \"gridcolor\": \"white\", \"linecolor\": \"white\", \"ticks\": \"\", \"zerolinecolor\": \"white\", \"zerolinewidth\": 2}, \"yaxis\": {\"automargin\": true, \"gridcolor\": \"white\", \"linecolor\": \"white\", \"ticks\": \"\", \"zerolinecolor\": \"white\", \"zerolinewidth\": 2}}}, \"title\": {\"text\": \"\\u041f\\u0440\\u043e\\u0434\\u0430\\u0436\\u0438 \\u043f\\u043b\\u0430\\u0442\\u0444\\u043e\\u0440\\u043c \\u043f\\u043e \\u0440\\u0435\\u0433\\u0438\\u043e\\u043d\\u0430\\u043c\"}, \"updatemenus\": [{\"buttons\": [{\"args\": [\"visible\", [true, false, false, false]], \"label\": \"NA\", \"method\": \"restyle\"}, {\"args\": [\"visible\", [false, true, false, false]], \"label\": \"EU\", \"method\": \"restyle\"}, {\"args\": [\"visible\", [false, false, true, false]], \"label\": \"JP\", \"method\": \"restyle\"}], \"x\": -0.05, \"y\": 1, \"yanchor\": \"top\"}]},\n",
       "                        {\"responsive\": true}\n",
       "                    ).then(function(){\n",
       "                            \n",
       "var gd = document.getElementById('332d8173-d7e9-4372-83d0-818a4b6a5841');\n",
       "var x = new MutationObserver(function (mutations, observer) {{\n",
       "        var display = window.getComputedStyle(gd).display;\n",
       "        if (!display || display === 'none') {{\n",
       "            console.log([gd, 'removed!']);\n",
       "            Plotly.purge(gd);\n",
       "            observer.disconnect();\n",
       "        }}\n",
       "}});\n",
       "\n",
       "// Listen for the removal of the full notebook cells\n",
       "var notebookContainer = gd.closest('#notebook-container');\n",
       "if (notebookContainer) {{\n",
       "    x.observe(notebookContainer, {childList: true});\n",
       "}}\n",
       "\n",
       "// Listen for the clearing of the current output cell\n",
       "var outputEl = gd.closest('.output');\n",
       "if (outputEl) {{\n",
       "    x.observe(outputEl, {childList: true});\n",
       "}}\n",
       "\n",
       "                        })\n",
       "                };\n",
       "                });\n",
       "            </script>\n",
       "        </div>"
      ]
     },
     "metadata": {},
     "output_type": "display_data"
    }
   ],
   "source": [
    "traces = []\n",
    "for region in [\"na\", \"eu\", \"jp\"]:\n",
    "    traces.append(\n",
    "        go.Scatter(\n",
    "            x=df.groupby('platform')[region+'_sales'].sum().sort_values()[-5:].index.tolist(), \n",
    "            y=df.groupby('platform')[region+'_sales'].sum().sort_values()[-5:],\n",
    "            name = region, \n",
    "            visible = (region == 'na'))\n",
    "    )\n",
    "    \n",
    "layout = go.Layout(\n",
    "    title=\"Продажи платформ по регионам\",\n",
    "    updatemenus=list([\n",
    "        dict(\n",
    "            x=-0.05,\n",
    "            y=1,\n",
    "            yanchor='top',\n",
    "            buttons=list([\n",
    "                dict(\n",
    "                    args=['visible', [True] + [False]*3],\n",
    "                    label='NA',\n",
    "                    method='restyle'\n",
    "                ),\n",
    "                dict(\n",
    "                    args=['visible', [False] + [True] + [False]*2],\n",
    "                    label='EU',\n",
    "                    method='restyle'\n",
    "                ),\n",
    "                dict(\n",
    "                    args=['visible', [False]*2 + [True] + [False]],\n",
    "                    label='JP',\n",
    "                    method='restyle'\n",
    "                )\n",
    "            ]),\n",
    "        )\n",
    "    ]),\n",
    ")\n",
    "\n",
    "fig = {'data': traces, 'layout': layout}\n",
    "iplot(fig, show_link=False)"
   ]
  },
  {
   "cell_type": "markdown",
   "metadata": {},
   "source": [
    "Самые популярные платформы различны в разных регионах: В NA топ- платформа ps4 (больше всего продаж), в Европе - PS3 (второй по уровню продаж), в Японии - DS (третий по уровню продаж). "
   ]
  },
  {
   "cell_type": "markdown",
   "metadata": {},
   "source": [
    "<div class=\"alert alert-block alert-success\">\n",
    "<b>КОММЕНТАРИЙ РЕВЬЮВЕРА:</b> \n",
    "    \n",
    "Очень крутой график!!!!\n",
    "\n",
    "</div>"
   ]
  },
  {
   "cell_type": "code",
   "execution_count": 36,
   "metadata": {},
   "outputs": [
    {
     "data": {
      "image/png": "[encoded data removed]",
      "text/plain": [
       "<Figure size 1440x288 with 3 Axes>"
      ]
     },
     "metadata": {
      "needs_background": "light"
     },
     "output_type": "display_data"
    }
   ],
   "source": [
    "\n",
    "NA_index = df.groupby('genre')['na_sales'].sum().sort_values()[-5:].index.tolist()\n",
    "NA_values = df.groupby('genre')['na_sales'].sum().sort_values()[-5:]\n",
    "\n",
    "EU_index = df.groupby('genre')['eu_sales'].sum().sort_values()[-5:].index.tolist()\n",
    "EU_values = df.groupby('genre')['eu_sales'].sum().sort_values()[-5:]\n",
    "\n",
    "JP_index = df.groupby('genre')['jp_sales'].sum().sort_values()[-5:].index.tolist()\n",
    "JP_values = df.groupby('genre')['jp_sales'].sum().sort_values()[-5:]\n",
    "fig, (ax1, ax2, ax3) = plt.subplots(1, 3, figsize=(20,4))\n",
    "\n",
    "ax1.bar(NA_index, NA_values)\n",
    "ax1.set_title('North America', fontsize=16)\n",
    "\n",
    "ax2.bar(EU_index, EU_values)\n",
    "ax2.set_title('Europe', fontsize=16)\n",
    "\n",
    "ax3.bar(JP_index, JP_values)\n",
    "ax3.set_title('Japan', fontsize=16)\n",
    "\n",
    "plt.show()"
   ]
  },
  {
   "cell_type": "markdown",
   "metadata": {},
   "source": [
    "Посмотрим распределение популярных жанров в разных странах. В Сев.Америке и Европе очень схожи топ-5 жанров, а Япония более отлична (видимо, в силу разницы культур). Если в Сев.Америке и Европе лидеры - экшн, спорт и стрельба, то в Японии на первом месте ролевые игры, а потом уже экшн. "
   ]
  },
  {
   "cell_type": "code",
   "execution_count": 37,
   "metadata": {},
   "outputs": [
    {
     "data": {
      "image/png": "[encoded data removed]",
      "text/plain": [
       "<Figure size 1440x288 with 3 Axes>"
      ]
     },
     "metadata": {
      "needs_background": "light"
     },
     "output_type": "display_data"
    }
   ],
   "source": [
    "NA_index = df.groupby('rating')['na_sales'].sum().sort_values()[-5:].index.tolist()\n",
    "NA_values = df.groupby('rating')['na_sales'].sum().sort_values()[-5:]\n",
    "\n",
    "EU_index = df.groupby('rating')['eu_sales'].sum().sort_values()[-5:].index.tolist()\n",
    "EU_values = df.groupby('rating')['eu_sales'].sum().sort_values()[-5:]\n",
    "\n",
    "JP_index = df.groupby('rating')['jp_sales'].sum().sort_values()[-5:].index.tolist()\n",
    "JP_values = df.groupby('rating')['jp_sales'].sum().sort_values()[-5:]\n",
    "fig, (ax1, ax2, ax3) = plt.subplots(1, 3, figsize=(20,4))\n",
    "\n",
    "ax1.bar(NA_index, NA_values)\n",
    "ax1.set_title('North America', fontsize=16)\n",
    "\n",
    "ax2.bar(EU_index, EU_values)\n",
    "ax2.set_title('Europe', fontsize=16)\n",
    "\n",
    "ax3.bar(JP_index, JP_values)\n",
    "ax3.set_title('Japan', fontsize=16)\n",
    "\n",
    "plt.show()"
   ]
  },
  {
   "cell_type": "markdown",
   "metadata": {},
   "source": [
    "Во всех регионах лидируют игры с рейтингом e -для всех. \n",
    "В Европе и Сев.Америке далее идут взрослые, а в Японии - подростки.\n"
   ]
  },
  {
   "cell_type": "markdown",
   "metadata": {},
   "source": [
    "## Проверка гипотез"
   ]
  },
  {
   "cell_type": "markdown",
   "metadata": {},
   "source": [
    "### Сформулируем гипотезы:\n",
    "\n",
    "Нулевая гипотеза H₀: Средние пользовательские рейтинги платформ Xbox One и PC одинаковые; \\\n",
    "Альтернативная гипотеза H₁: Средние пользовательские рейтинги платформ Xbox One и PC различаются"
   ]
  },
  {
   "cell_type": "code",
   "execution_count": 38,
   "metadata": {},
   "outputs": [
    {
     "data": {
      "text/plain": [
       "6.521428571428572"
      ]
     },
     "execution_count": 38,
     "metadata": {},
     "output_type": "execute_result"
    }
   ],
   "source": [
    "xone_hyp = df[(df['platform']=='xone') & (df['year_of_release']>2006)]['user_score']\n",
    "pc_hyp = df[(df['platform']=='pc') & (df['year_of_release']>2006)]['user_score']\n",
    "\n",
    "xone_hyp.mean()"
   ]
  },
  {
   "cell_type": "code",
   "execution_count": 39,
   "metadata": {},
   "outputs": [
    {
     "data": {
      "text/plain": [
       "6.280379746835442"
      ]
     },
     "execution_count": 39,
     "metadata": {},
     "output_type": "execute_result"
    }
   ],
   "source": [
    "pc_hyp.mean()"
   ]
  },
  {
   "cell_type": "markdown",
   "metadata": {},
   "source": [
    "Средний рейтинг пользователя для xbox платформ 6.5, пользователя для PC платформ-6.8"
   ]
  },
  {
   "cell_type": "code",
   "execution_count": 40,
   "metadata": {},
   "outputs": [
    {
     "name": "stdout",
     "output_type": "stream",
     "text": [
      "p-значение: 0.16174359801784308\n",
      "Не получилось отвергнуть нулевую гипотезу\n"
     ]
    }
   ],
   "source": [
    "alpha = .01\n",
    "\n",
    "results = st.ttest_ind(xone_hyp.dropna(), pc_hyp.dropna(), equal_var=False)\n",
    "\n",
    "print('p-значение:', results.pvalue)\n",
    "\n",
    "if (results.pvalue < alpha):\n",
    "    print(\"Отвергаем нулевую гипотезу\")\n",
    "else:\n",
    "    print(\"Не получилось отвергнуть нулевую гипотезу\")"
   ]
  },
  {
   "cell_type": "markdown",
   "metadata": {},
   "source": [
    "Значение p-value равно 3,7%. Таким образом, не получилось опровергнуть Нулевую гипотезу. То есть, с вероятностью в 3.7% можно получить разные пользовательских рейтинги платформ"
   ]
  },
  {
   "cell_type": "markdown",
   "metadata": {},
   "source": [
    "### Сформулируем гипотезы по жанрам:\n",
    "\n",
    "Нулевая гипотеза H₀: Средние пользовательские рейтинги жанров Action и Sports одинаковые; \\\n",
    "Альтернативная гипотеза H₁: Средние пользовательские рейтинги жанров Action и Sports различаются"
   ]
  },
  {
   "cell_type": "code",
   "execution_count": 41,
   "metadata": {},
   "outputs": [
    {
     "data": {
      "text/plain": [
       "6.8374999999999995"
      ]
     },
     "execution_count": 41,
     "metadata": {},
     "output_type": "execute_result"
    }
   ],
   "source": [
    "genre_action_hyp = df[(df['genre']=='action') & (df['year_of_release']>2006)]['user_score']\n",
    "genre_sports_hyp = df[(df['genre']=='sports') & (df['year_of_release']>2006)]['user_score']\n",
    "\n",
    "genre_action_hyp.mean()"
   ]
  },
  {
   "cell_type": "code",
   "execution_count": 42,
   "metadata": {
    "scrolled": true
   },
   "outputs": [
    {
     "data": {
      "text/plain": [
       "5.238124999999999"
      ]
     },
     "execution_count": 42,
     "metadata": {},
     "output_type": "execute_result"
    }
   ],
   "source": [
    "genre_sports_hyp.mean()"
   ]
  },
  {
   "cell_type": "markdown",
   "metadata": {},
   "source": [
    "Средний рейтинг пользователя жанра экшн 5.8,жанра спорт -6.3"
   ]
  },
  {
   "cell_type": "code",
   "execution_count": 43,
   "metadata": {},
   "outputs": [
    {
     "name": "stdout",
     "output_type": "stream",
     "text": [
      "p-значение: 1.3883444596405356e-20\n",
      "Отвергаем нулевую гипотезу\n"
     ]
    }
   ],
   "source": [
    "alpha = .01\n",
    "\n",
    "results = st.ttest_ind(genre_action_hyp.dropna(), genre_sports_hyp.dropna(), equal_var=False)\n",
    "\n",
    "print('p-значение:', results.pvalue)\n",
    "\n",
    "if (results.pvalue < alpha):\n",
    "    print(\"Отвергаем нулевую гипотезу\")\n",
    "else:\n",
    "    print(\"Не получилось отвергнуть нулевую гипотезу\")"
   ]
  },
  {
   "cell_type": "markdown",
   "metadata": {},
   "source": [
    "Получив p-value, мы отвергли Нулевую гипотезу. Таким образом, у нас практически нет вероятности получить одинаковые средние рейнтинги по жанрам action и sports."
   ]
  },
  {
   "cell_type": "markdown",
   "metadata": {},
   "source": [
    "<div class=\"alert alert-block alert-warning\">\n",
    "<b>КОММЕНТАРИЙ РЕВЬЮВЕРА:</b> \n",
    "    \n",
    "\n",
    "Попробуй поднять год релиза и думаю ты станешь более уверенной в показателях\n",
    "</div>"
   ]
  },
  {
   "cell_type": "markdown",
   "metadata": {},
   "source": [
    "## Общий вывод "
   ]
  },
  {
   "cell_type": "markdown",
   "metadata": {},
   "source": [
    "В данной работе были обработаны данные, приведены к правильным данным столбцы, к нижнему регистру таблицы и названия колонок, типы даных в столбцах приведены в соответствие, tbd заменены на nan для проведения дальнейшего анализа.\n",
    "Выявлено, что количество игр на игровые приставки и компьютеры начало расти с большой скоростью с после 1994г с пиком продаж в 2005-2010 гг., после чего продажи пошли на спад.\n",
    "После 1995 года самые популярные платформы: PS2, X360, PS3, WII, DS, PS.\n",
    "Средняя продолжительность жизни игровой приставки составляет около 10 лет, с пиком продаж примерно через 5 лет после выпуска. \n",
    "\n",
    "Оценки критиков и пользователей взаимосвязаны с продажами самих игр: чем выше оценка критиков или пользователей, тем лучше продажа игры (в особенности критиков). \n",
    "Самый популярный жанр за все время это Экшн. На последнем месте стратегии.\n",
    "\n",
    "Региональные различия:  в Северной америке и Европе самые популярные жанры -action, sports, shooter. А жанры игры в Японии начинаются с ролевых: Role-playing, action и sports.\n",
    "Самые популярные платформы различны в разных регионах: В NA топ- платформа X360 (больше всего продаж), в Европе - PS3 (второй по уровню продаж), в Японии - DS (третий по уровню продаж). \n",
    "\n",
    "Средние пользовательские рейтинги платформ Xbox One и PC одинаковые. Гипотеза не подтвердилась.\n",
    "Средние пользовательские рейтинги жанров Action и Sports разные. Гипотеза подтвердилась!.\n",
    "\n",
    "Рекомендации по продажам: есть потенциал у платформы Sony Playstation 4. Жанры выбирать между экшн, стрельбой, спортом и родево игрой. Учитывать региональные различия в целевой аудитории и ее предпочтениях. "
   ]
  },
  {
   "cell_type": "markdown",
   "metadata": {},
   "source": [
    "<div class=\"alert alert-block alert-success\">\n",
    "<b>КОММЕНТАРИЙ РЕВЬЮВЕРА:</b> \n",
    "    \n",
    "\n",
    "`Алла, ты хорошо выполнила проект, но есть моменты на небольшую правку, некоторые твои выводы немного изменятся`\n",
    "\n",
    "</div>"
   ]
  }
 ],
 "metadata": {
  "ExecuteTimeLog": [
   {
    "duration": 1390,
    "start_time": "2021-08-25T21:43:15.103Z"
   },
   {
    "duration": 46,
    "start_time": "2021-08-25T21:43:16.495Z"
   },
   {
    "duration": 27,
    "start_time": "2021-08-25T21:44:30.812Z"
   },
   {
    "duration": 10,
    "start_time": "2021-08-25T21:44:45.677Z"
   },
   {
    "duration": 9,
    "start_time": "2021-08-25T21:48:02.537Z"
   },
   {
    "duration": 356,
    "start_time": "2021-08-25T21:48:33.208Z"
   },
   {
    "duration": 15,
    "start_time": "2021-08-25T21:48:39.838Z"
   },
   {
    "duration": 9,
    "start_time": "2021-08-25T21:55:28.652Z"
   },
   {
    "duration": 5,
    "start_time": "2021-08-25T22:11:11.320Z"
   },
   {
    "duration": 24,
    "start_time": "2021-08-25T22:12:30.879Z"
   },
   {
    "duration": 5,
    "start_time": "2021-08-25T22:13:09.416Z"
   },
   {
    "duration": 253,
    "start_time": "2021-08-25T22:15:50.137Z"
   },
   {
    "duration": 8,
    "start_time": "2021-08-25T22:20:28.052Z"
   },
   {
    "duration": 5,
    "start_time": "2021-08-25T22:21:23.880Z"
   },
   {
    "duration": 4,
    "start_time": "2021-08-25T22:21:29.861Z"
   },
   {
    "duration": 46,
    "start_time": "2021-08-25T22:21:29.868Z"
   },
   {
    "duration": 8,
    "start_time": "2021-08-25T22:21:29.916Z"
   },
   {
    "duration": 7,
    "start_time": "2021-08-25T22:21:29.926Z"
   },
   {
    "duration": 13,
    "start_time": "2021-08-25T22:21:29.935Z"
   },
   {
    "duration": 4,
    "start_time": "2021-08-25T22:21:29.949Z"
   },
   {
    "duration": 7,
    "start_time": "2021-08-25T22:21:29.954Z"
   },
   {
    "duration": 24,
    "start_time": "2021-08-25T22:21:29.990Z"
   },
   {
    "duration": 7,
    "start_time": "2021-08-25T22:21:30.016Z"
   },
   {
    "duration": 265,
    "start_time": "2021-08-25T22:21:30.025Z"
   },
   {
    "duration": 6,
    "start_time": "2021-08-25T22:21:59.651Z"
   },
   {
    "duration": 12,
    "start_time": "2021-08-25T22:22:12.331Z"
   },
   {
    "duration": 4,
    "start_time": "2021-08-25T22:22:15.914Z"
   },
   {
    "duration": 47,
    "start_time": "2021-08-25T22:22:15.920Z"
   },
   {
    "duration": 9,
    "start_time": "2021-08-25T22:22:15.969Z"
   },
   {
    "duration": 11,
    "start_time": "2021-08-25T22:22:15.980Z"
   },
   {
    "duration": 14,
    "start_time": "2021-08-25T22:22:15.993Z"
   },
   {
    "duration": 3,
    "start_time": "2021-08-25T22:22:16.009Z"
   },
   {
    "duration": 6,
    "start_time": "2021-08-25T22:22:16.014Z"
   },
   {
    "duration": 27,
    "start_time": "2021-08-25T22:22:16.022Z"
   },
   {
    "duration": 7,
    "start_time": "2021-08-25T22:22:16.051Z"
   },
   {
    "duration": 251,
    "start_time": "2021-08-25T22:22:16.059Z"
   },
   {
    "duration": 4,
    "start_time": "2021-08-25T22:24:51.016Z"
   },
   {
    "duration": 4,
    "start_time": "2021-08-25T22:25:04.350Z"
   },
   {
    "duration": 295,
    "start_time": "2021-08-25T22:25:11.970Z"
   },
   {
    "duration": 11,
    "start_time": "2021-08-25T22:32:08.381Z"
   },
   {
    "duration": 5,
    "start_time": "2021-08-25T22:32:12.283Z"
   },
   {
    "duration": 323,
    "start_time": "2021-08-25T22:45:03.845Z"
   },
   {
    "duration": 9,
    "start_time": "2021-08-25T22:45:58.354Z"
   },
   {
    "duration": 8,
    "start_time": "2021-08-25T22:54:30.128Z"
   },
   {
    "duration": 480,
    "start_time": "2021-08-25T22:57:07.260Z"
   },
   {
    "duration": 824,
    "start_time": "2021-08-25T22:57:31.096Z"
   },
   {
    "duration": 740,
    "start_time": "2021-08-25T23:06:01.439Z"
   },
   {
    "duration": 275,
    "start_time": "2021-08-25T23:06:10.341Z"
   },
   {
    "duration": 230,
    "start_time": "2021-08-25T23:06:23.919Z"
   },
   {
    "duration": 7,
    "start_time": "2021-08-25T23:17:00.363Z"
   },
   {
    "duration": 7,
    "start_time": "2021-08-25T23:17:02.899Z"
   },
   {
    "duration": 6,
    "start_time": "2021-08-25T23:18:33.310Z"
   },
   {
    "duration": 5,
    "start_time": "2021-08-25T23:19:35.813Z"
   },
   {
    "duration": 240,
    "start_time": "2021-08-25T23:19:37.971Z"
   },
   {
    "duration": 510,
    "start_time": "2021-08-25T23:20:14.827Z"
   },
   {
    "duration": 6,
    "start_time": "2021-08-25T23:20:30.069Z"
   },
   {
    "duration": 6,
    "start_time": "2021-08-25T23:20:31.681Z"
   },
   {
    "duration": 264,
    "start_time": "2021-08-25T23:20:32.509Z"
   },
   {
    "duration": 156,
    "start_time": "2021-08-25T23:21:16.816Z"
   },
   {
    "duration": 152,
    "start_time": "2021-08-25T23:21:58.359Z"
   },
   {
    "duration": 289,
    "start_time": "2021-08-25T23:23:18.633Z"
   },
   {
    "duration": 5,
    "start_time": "2021-08-25T23:23:37.311Z"
   },
   {
    "duration": 50,
    "start_time": "2021-08-25T23:23:37.320Z"
   },
   {
    "duration": 9,
    "start_time": "2021-08-25T23:23:37.371Z"
   },
   {
    "duration": 7,
    "start_time": "2021-08-25T23:23:37.382Z"
   },
   {
    "duration": 14,
    "start_time": "2021-08-25T23:23:37.391Z"
   },
   {
    "duration": 4,
    "start_time": "2021-08-25T23:23:37.406Z"
   },
   {
    "duration": 26,
    "start_time": "2021-08-25T23:23:37.411Z"
   },
   {
    "duration": 10,
    "start_time": "2021-08-25T23:23:37.438Z"
   },
   {
    "duration": 357,
    "start_time": "2021-08-25T23:23:37.449Z"
   },
   {
    "duration": 8,
    "start_time": "2021-08-25T23:23:37.809Z"
   },
   {
    "duration": 7,
    "start_time": "2021-08-25T23:23:37.819Z"
   },
   {
    "duration": 4,
    "start_time": "2021-08-25T23:23:37.828Z"
   },
   {
    "duration": 5,
    "start_time": "2021-08-25T23:23:37.833Z"
   },
   {
    "duration": 6,
    "start_time": "2021-08-25T23:23:37.840Z"
   },
   {
    "duration": 7,
    "start_time": "2021-08-25T23:23:37.847Z"
   },
   {
    "duration": 261,
    "start_time": "2021-08-25T23:23:37.855Z"
   },
   {
    "duration": 7,
    "start_time": "2021-08-25T23:23:38.118Z"
   },
   {
    "duration": 6,
    "start_time": "2021-08-25T23:23:38.126Z"
   },
   {
    "duration": 169,
    "start_time": "2021-08-25T23:23:38.133Z"
   },
   {
    "duration": 7,
    "start_time": "2021-08-25T23:30:28.698Z"
   },
   {
    "duration": 1390,
    "start_time": "2021-08-26T19:50:42.074Z"
   },
   {
    "duration": 60,
    "start_time": "2021-08-26T19:50:43.467Z"
   },
   {
    "duration": 13,
    "start_time": "2021-08-26T19:50:43.530Z"
   },
   {
    "duration": 18,
    "start_time": "2021-08-26T19:50:43.546Z"
   },
   {
    "duration": 23,
    "start_time": "2021-08-26T19:50:43.583Z"
   },
   {
    "duration": 6,
    "start_time": "2021-08-26T19:50:43.608Z"
   },
   {
    "duration": 44,
    "start_time": "2021-08-26T19:50:43.617Z"
   },
   {
    "duration": 16,
    "start_time": "2021-08-26T19:50:43.685Z"
   },
   {
    "duration": 533,
    "start_time": "2021-08-26T19:50:43.704Z"
   },
   {
    "duration": 12,
    "start_time": "2021-08-26T19:50:44.240Z"
   },
   {
    "duration": 34,
    "start_time": "2021-08-26T19:50:44.254Z"
   },
   {
    "duration": 7,
    "start_time": "2021-08-26T19:50:44.291Z"
   },
   {
    "duration": 6,
    "start_time": "2021-08-26T19:50:44.301Z"
   },
   {
    "duration": 8,
    "start_time": "2021-08-26T19:50:44.310Z"
   },
   {
    "duration": 16,
    "start_time": "2021-08-26T19:50:44.320Z"
   },
   {
    "duration": 466,
    "start_time": "2021-08-26T19:50:44.339Z"
   },
   {
    "duration": 10,
    "start_time": "2021-08-26T19:50:44.808Z"
   },
   {
    "duration": 10,
    "start_time": "2021-08-26T19:50:44.821Z"
   },
   {
    "duration": 480,
    "start_time": "2021-08-26T19:50:44.833Z"
   },
   {
    "duration": -186,
    "start_time": "2021-08-26T19:50:45.502Z"
   },
   {
    "duration": 428,
    "start_time": "2021-08-26T19:58:35.558Z"
   },
   {
    "duration": 428,
    "start_time": "2021-08-26T19:58:43.442Z"
   },
   {
    "duration": 299,
    "start_time": "2021-08-26T20:07:26.147Z"
   },
   {
    "duration": 494,
    "start_time": "2021-08-26T20:17:24.591Z"
   },
   {
    "duration": 1032,
    "start_time": "2021-08-26T20:17:30.816Z"
   },
   {
    "duration": 107,
    "start_time": "2021-08-26T20:20:06.232Z"
   },
   {
    "duration": 81,
    "start_time": "2021-08-26T20:20:30.601Z"
   },
   {
    "duration": 341,
    "start_time": "2021-08-26T20:20:55.980Z"
   },
   {
    "duration": 91,
    "start_time": "2021-08-26T20:21:13.522Z"
   },
   {
    "duration": 97,
    "start_time": "2021-08-26T20:21:21.640Z"
   },
   {
    "duration": 288,
    "start_time": "2021-08-26T20:21:36.671Z"
   },
   {
    "duration": 478,
    "start_time": "2021-08-26T20:24:57.109Z"
   },
   {
    "duration": 9,
    "start_time": "2021-08-26T20:25:02.894Z"
   },
   {
    "duration": 765,
    "start_time": "2021-08-26T20:25:19.334Z"
   },
   {
    "duration": 787,
    "start_time": "2021-08-26T20:25:55.349Z"
   },
   {
    "duration": 547,
    "start_time": "2021-08-26T20:35:28.577Z"
   },
   {
    "duration": 712,
    "start_time": "2021-08-26T20:35:37.763Z"
   },
   {
    "duration": 544,
    "start_time": "2021-08-26T20:35:51.283Z"
   },
   {
    "duration": 715,
    "start_time": "2021-08-26T20:36:00.539Z"
   },
   {
    "duration": 714,
    "start_time": "2021-08-26T20:37:30.210Z"
   },
   {
    "duration": 469,
    "start_time": "2021-08-26T20:42:20.050Z"
   },
   {
    "duration": 621,
    "start_time": "2021-08-26T20:43:43.703Z"
   },
   {
    "duration": 495,
    "start_time": "2021-08-26T20:52:40.660Z"
   },
   {
    "duration": 9,
    "start_time": "2021-08-26T21:31:40.855Z"
   },
   {
    "duration": 10,
    "start_time": "2021-08-26T21:32:00.711Z"
   },
   {
    "duration": 509,
    "start_time": "2021-08-26T21:32:17.139Z"
   },
   {
    "duration": 22,
    "start_time": "2021-08-26T21:36:54.420Z"
   },
   {
    "duration": 263,
    "start_time": "2021-08-26T21:53:40.365Z"
   },
   {
    "duration": 292,
    "start_time": "2021-08-26T21:54:29.277Z"
   },
   {
    "duration": 86,
    "start_time": "2021-08-26T21:57:30.448Z"
   },
   {
    "duration": 99,
    "start_time": "2021-08-26T21:58:57.249Z"
   },
   {
    "duration": 52,
    "start_time": "2021-08-26T21:59:17.050Z"
   },
   {
    "duration": 22,
    "start_time": "2021-08-26T22:00:13.795Z"
   },
   {
    "duration": 486,
    "start_time": "2021-08-26T22:03:37.096Z"
   },
   {
    "duration": 59,
    "start_time": "2021-08-26T22:04:13.677Z"
   },
   {
    "duration": 343,
    "start_time": "2021-08-26T22:04:30.858Z"
   },
   {
    "duration": 10,
    "start_time": "2021-08-26T22:04:47.994Z"
   },
   {
    "duration": 77,
    "start_time": "2021-08-26T22:04:48.007Z"
   },
   {
    "duration": 15,
    "start_time": "2021-08-26T22:04:48.088Z"
   },
   {
    "duration": 12,
    "start_time": "2021-08-26T22:04:48.107Z"
   },
   {
    "duration": 69,
    "start_time": "2021-08-26T22:04:48.122Z"
   },
   {
    "duration": 7,
    "start_time": "2021-08-26T22:04:48.195Z"
   },
   {
    "duration": 38,
    "start_time": "2021-08-26T22:04:48.205Z"
   },
   {
    "duration": 45,
    "start_time": "2021-08-26T22:04:48.248Z"
   },
   {
    "duration": 543,
    "start_time": "2021-08-26T22:04:48.297Z"
   },
   {
    "duration": 13,
    "start_time": "2021-08-26T22:04:48.842Z"
   },
   {
    "duration": 32,
    "start_time": "2021-08-26T22:04:48.857Z"
   },
   {
    "duration": 6,
    "start_time": "2021-08-26T22:04:48.892Z"
   },
   {
    "duration": 9,
    "start_time": "2021-08-26T22:04:48.901Z"
   },
   {
    "duration": 11,
    "start_time": "2021-08-26T22:04:48.913Z"
   },
   {
    "duration": 8,
    "start_time": "2021-08-26T22:04:48.927Z"
   },
   {
    "duration": 444,
    "start_time": "2021-08-26T22:04:48.938Z"
   },
   {
    "duration": 8,
    "start_time": "2021-08-26T22:04:49.385Z"
   },
   {
    "duration": 9,
    "start_time": "2021-08-26T22:04:49.396Z"
   },
   {
    "duration": 432,
    "start_time": "2021-08-26T22:04:49.408Z"
   },
   {
    "duration": 8,
    "start_time": "2021-08-26T22:04:49.843Z"
   },
   {
    "duration": 678,
    "start_time": "2021-08-26T22:04:49.853Z"
   },
   {
    "duration": 699,
    "start_time": "2021-08-26T22:04:50.534Z"
   },
   {
    "duration": 45,
    "start_time": "2021-08-26T22:04:51.239Z"
   },
   {
    "duration": 38,
    "start_time": "2021-08-26T22:04:51.287Z"
   },
   {
    "duration": 18,
    "start_time": "2021-08-26T22:04:51.328Z"
   },
   {
    "duration": 534,
    "start_time": "2021-08-26T22:04:51.383Z"
   },
   {
    "duration": 748,
    "start_time": "2021-08-26T22:08:52.821Z"
   },
   {
    "duration": 504,
    "start_time": "2021-08-26T22:09:02.089Z"
   },
   {
    "duration": 520,
    "start_time": "2021-08-26T22:09:28.086Z"
   },
   {
    "duration": 589,
    "start_time": "2021-08-26T22:09:45.130Z"
   },
   {
    "duration": 507,
    "start_time": "2021-08-26T22:09:52.143Z"
   },
   {
    "duration": 13,
    "start_time": "2021-08-26T22:16:34.635Z"
   },
   {
    "duration": 12,
    "start_time": "2021-08-26T22:16:39.870Z"
   },
   {
    "duration": 2256,
    "start_time": "2021-08-26T22:17:45.067Z"
   },
   {
    "duration": 90,
    "start_time": "2021-08-26T22:26:11.899Z"
   },
   {
    "duration": 80,
    "start_time": "2021-08-26T22:26:54.092Z"
   },
   {
    "duration": 102,
    "start_time": "2021-08-26T22:28:01.214Z"
   },
   {
    "duration": 329,
    "start_time": "2021-08-26T22:28:30.707Z"
   },
   {
    "duration": 299,
    "start_time": "2021-08-26T22:29:20.986Z"
   },
   {
    "duration": 43,
    "start_time": "2021-08-26T22:34:16.196Z"
   },
   {
    "duration": 311,
    "start_time": "2021-08-26T22:37:19.502Z"
   },
   {
    "duration": 120,
    "start_time": "2021-08-26T22:40:41.917Z"
   },
   {
    "duration": 100,
    "start_time": "2021-08-26T22:43:17.622Z"
   },
   {
    "duration": 89,
    "start_time": "2021-08-26T22:43:31.667Z"
   },
   {
    "duration": 14,
    "start_time": "2021-08-26T22:44:38.892Z"
   },
   {
    "duration": 13,
    "start_time": "2021-08-26T22:44:43.416Z"
   },
   {
    "duration": 10,
    "start_time": "2021-08-26T22:44:49.089Z"
   },
   {
    "duration": 63,
    "start_time": "2021-08-26T22:44:49.102Z"
   },
   {
    "duration": 27,
    "start_time": "2021-08-26T22:44:49.169Z"
   },
   {
    "duration": 12,
    "start_time": "2021-08-26T22:44:49.201Z"
   },
   {
    "duration": 26,
    "start_time": "2021-08-26T22:44:49.216Z"
   },
   {
    "duration": 43,
    "start_time": "2021-08-26T22:44:49.244Z"
   },
   {
    "duration": 39,
    "start_time": "2021-08-26T22:44:49.290Z"
   },
   {
    "duration": 15,
    "start_time": "2021-08-26T22:44:49.333Z"
   },
   {
    "duration": 563,
    "start_time": "2021-08-26T22:44:49.351Z"
   },
   {
    "duration": 12,
    "start_time": "2021-08-26T22:44:49.916Z"
   },
   {
    "duration": 10,
    "start_time": "2021-08-26T22:44:49.931Z"
   },
   {
    "duration": 6,
    "start_time": "2021-08-26T22:44:49.943Z"
   },
   {
    "duration": 32,
    "start_time": "2021-08-26T22:44:49.951Z"
   },
   {
    "duration": 8,
    "start_time": "2021-08-26T22:44:49.994Z"
   },
   {
    "duration": 22,
    "start_time": "2021-08-26T22:44:50.004Z"
   },
   {
    "duration": 413,
    "start_time": "2021-08-26T22:44:50.028Z"
   },
   {
    "duration": 9,
    "start_time": "2021-08-26T22:44:50.443Z"
   },
   {
    "duration": 29,
    "start_time": "2021-08-26T22:44:50.454Z"
   },
   {
    "duration": 429,
    "start_time": "2021-08-26T22:44:50.486Z"
   },
   {
    "duration": 7,
    "start_time": "2021-08-26T22:44:50.917Z"
   },
   {
    "duration": 685,
    "start_time": "2021-08-26T22:44:50.927Z"
   },
   {
    "duration": 722,
    "start_time": "2021-08-26T22:44:51.614Z"
   },
   {
    "duration": 16,
    "start_time": "2021-08-26T22:44:52.340Z"
   },
   {
    "duration": 43,
    "start_time": "2021-08-26T22:44:52.383Z"
   },
   {
    "duration": 19,
    "start_time": "2021-08-26T22:44:52.428Z"
   },
   {
    "duration": 529,
    "start_time": "2021-08-26T22:44:52.449Z"
   },
   {
    "duration": 485,
    "start_time": "2021-08-26T22:44:52.980Z"
   },
   {
    "duration": 23,
    "start_time": "2021-08-26T22:44:53.467Z"
   },
   {
    "duration": 2217,
    "start_time": "2021-08-26T22:46:05.066Z"
   },
   {
    "duration": 21,
    "start_time": "2021-08-26T22:47:18.498Z"
   },
   {
    "duration": 2240,
    "start_time": "2021-08-26T22:47:21.191Z"
   },
   {
    "duration": 294,
    "start_time": "2021-08-26T22:49:40.478Z"
   },
   {
    "duration": 308,
    "start_time": "2021-08-26T22:50:33.134Z"
   },
   {
    "duration": 329,
    "start_time": "2021-08-26T22:51:08.216Z"
   },
   {
    "duration": 34,
    "start_time": "2021-08-26T22:51:27.878Z"
   },
   {
    "duration": 7,
    "start_time": "2021-08-26T22:55:04.752Z"
   },
   {
    "duration": 1201,
    "start_time": "2021-08-26T22:55:36.978Z"
   },
   {
    "duration": 6,
    "start_time": "2021-08-26T22:55:57.094Z"
   },
   {
    "duration": 7844,
    "start_time": "2021-08-26T22:55:58.459Z"
   },
   {
    "duration": 7,
    "start_time": "2021-08-26T22:56:21.544Z"
   },
   {
    "duration": 2012,
    "start_time": "2021-08-26T22:56:23.152Z"
   },
   {
    "duration": 304,
    "start_time": "2021-08-26T23:02:33.069Z"
   },
   {
    "duration": 330,
    "start_time": "2021-08-26T23:02:46.890Z"
   },
   {
    "duration": 326,
    "start_time": "2021-08-26T23:03:30.147Z"
   },
   {
    "duration": 349,
    "start_time": "2021-08-26T23:07:44.789Z"
   },
   {
    "duration": 730,
    "start_time": "2021-08-26T23:11:53.460Z"
   },
   {
    "duration": 295,
    "start_time": "2021-08-26T23:13:37.262Z"
   },
   {
    "duration": 35,
    "start_time": "2021-08-26T23:13:52.273Z"
   },
   {
    "duration": 378,
    "start_time": "2021-08-26T23:13:55.292Z"
   },
   {
    "duration": 357,
    "start_time": "2021-08-26T23:14:33.420Z"
   },
   {
    "duration": 306,
    "start_time": "2021-08-26T23:19:54.531Z"
   },
   {
    "duration": 303,
    "start_time": "2021-08-26T23:20:30.420Z"
   },
   {
    "duration": 9,
    "start_time": "2021-08-26T23:20:50.740Z"
   },
   {
    "duration": 293,
    "start_time": "2021-08-26T23:21:14.956Z"
   },
   {
    "duration": 106,
    "start_time": "2021-08-26T23:22:31.150Z"
   },
   {
    "duration": 99,
    "start_time": "2021-08-26T23:22:42.932Z"
   },
   {
    "duration": 300,
    "start_time": "2021-08-26T23:22:57.910Z"
   },
   {
    "duration": 740,
    "start_time": "2021-08-26T23:23:42.981Z"
   },
   {
    "duration": 263,
    "start_time": "2021-08-26T23:23:56.955Z"
   },
   {
    "duration": 22,
    "start_time": "2021-08-26T23:24:19.535Z"
   },
   {
    "duration": 284,
    "start_time": "2021-08-26T23:25:07.125Z"
   },
   {
    "duration": 373,
    "start_time": "2021-08-26T23:38:10.357Z"
   },
   {
    "duration": 815,
    "start_time": "2021-08-26T23:42:47.502Z"
   },
   {
    "duration": 602,
    "start_time": "2021-08-26T23:43:15.651Z"
   },
   {
    "duration": 581,
    "start_time": "2021-08-26T23:52:17.776Z"
   },
   {
    "duration": 16,
    "start_time": "2021-08-27T00:03:16.497Z"
   },
   {
    "duration": 6,
    "start_time": "2021-08-27T00:03:28.511Z"
   },
   {
    "duration": 17,
    "start_time": "2021-08-27T00:03:36.338Z"
   },
   {
    "duration": 11,
    "start_time": "2021-08-27T00:03:47.001Z"
   },
   {
    "duration": 16,
    "start_time": "2021-08-27T00:10:51.898Z"
   },
   {
    "duration": 6,
    "start_time": "2021-08-27T00:10:53.269Z"
   },
   {
    "duration": 9,
    "start_time": "2021-08-27T00:10:54.209Z"
   },
   {
    "duration": 10,
    "start_time": "2021-08-27T00:12:17.600Z"
   },
   {
    "duration": 16596,
    "start_time": "2021-08-27T15:38:17.125Z"
   },
   {
    "duration": 62,
    "start_time": "2021-08-27T15:38:33.724Z"
   },
   {
    "duration": 14,
    "start_time": "2021-08-27T15:38:33.790Z"
   },
   {
    "duration": 13,
    "start_time": "2021-08-27T15:38:33.806Z"
   },
   {
    "duration": 46,
    "start_time": "2021-08-27T15:38:33.821Z"
   },
   {
    "duration": 6,
    "start_time": "2021-08-27T15:38:33.869Z"
   },
   {
    "duration": 40,
    "start_time": "2021-08-27T15:38:33.878Z"
   },
   {
    "duration": 17,
    "start_time": "2021-08-27T15:38:33.921Z"
   },
   {
    "duration": 523,
    "start_time": "2021-08-27T15:38:33.963Z"
   },
   {
    "duration": 11,
    "start_time": "2021-08-27T15:38:34.489Z"
   },
   {
    "duration": 10,
    "start_time": "2021-08-27T15:38:34.503Z"
   },
   {
    "duration": 6,
    "start_time": "2021-08-27T15:38:34.515Z"
   },
   {
    "duration": 39,
    "start_time": "2021-08-27T15:38:34.523Z"
   },
   {
    "duration": 7,
    "start_time": "2021-08-27T15:38:34.564Z"
   },
   {
    "duration": 10,
    "start_time": "2021-08-27T15:38:34.573Z"
   },
   {
    "duration": 407,
    "start_time": "2021-08-27T15:38:34.585Z"
   },
   {
    "duration": 7,
    "start_time": "2021-08-27T15:38:34.995Z"
   },
   {
    "duration": 13,
    "start_time": "2021-08-27T15:38:35.005Z"
   },
   {
    "duration": 978,
    "start_time": "2021-08-27T15:38:35.020Z"
   },
   {
    "duration": 127,
    "start_time": "2021-08-27T15:54:33.258Z"
   },
   {
    "duration": 122,
    "start_time": "2021-08-27T21:55:50.979Z"
   },
   {
    "duration": 103,
    "start_time": "2021-08-27T21:55:57.208Z"
   },
   {
    "duration": 117,
    "start_time": "2021-08-27T21:56:04.469Z"
   },
   {
    "duration": 123,
    "start_time": "2021-08-27T21:56:41.664Z"
   },
   {
    "duration": 8,
    "start_time": "2021-08-27T21:59:18.457Z"
   },
   {
    "duration": 8,
    "start_time": "2021-08-27T21:59:26.769Z"
   },
   {
    "duration": 8,
    "start_time": "2021-08-27T21:59:49.976Z"
   },
   {
    "duration": 408,
    "start_time": "2021-08-27T22:01:16.505Z"
   },
   {
    "duration": 359,
    "start_time": "2021-08-27T22:06:14.597Z"
   },
   {
    "duration": 1838,
    "start_time": "2021-08-27T22:06:58.837Z"
   },
   {
    "duration": 50,
    "start_time": "2021-08-27T22:07:00.677Z"
   },
   {
    "duration": 10,
    "start_time": "2021-08-27T22:07:00.730Z"
   },
   {
    "duration": 50,
    "start_time": "2021-08-27T22:07:00.741Z"
   },
   {
    "duration": 21,
    "start_time": "2021-08-27T22:07:00.793Z"
   },
   {
    "duration": 4,
    "start_time": "2021-08-27T22:07:00.816Z"
   },
   {
    "duration": 27,
    "start_time": "2021-08-27T22:07:00.821Z"
   },
   {
    "duration": 12,
    "start_time": "2021-08-27T22:07:00.850Z"
   },
   {
    "duration": 373,
    "start_time": "2021-08-27T22:07:00.864Z"
   },
   {
    "duration": 8,
    "start_time": "2021-08-27T22:07:01.239Z"
   },
   {
    "duration": 7,
    "start_time": "2021-08-27T22:07:01.249Z"
   },
   {
    "duration": 7,
    "start_time": "2021-08-27T22:07:01.258Z"
   },
   {
    "duration": 4,
    "start_time": "2021-08-27T22:07:01.266Z"
   },
   {
    "duration": 7,
    "start_time": "2021-08-27T22:07:01.271Z"
   },
   {
    "duration": 7,
    "start_time": "2021-08-27T22:07:01.280Z"
   },
   {
    "duration": 403,
    "start_time": "2021-08-27T22:07:01.288Z"
   },
   {
    "duration": 6,
    "start_time": "2021-08-27T22:07:01.693Z"
   },
   {
    "duration": 27,
    "start_time": "2021-08-27T22:07:01.700Z"
   },
   {
    "duration": 985,
    "start_time": "2021-08-27T22:07:01.729Z"
   },
   {
    "duration": 5,
    "start_time": "2021-08-27T22:07:02.716Z"
   },
   {
    "duration": 376,
    "start_time": "2021-08-27T22:07:02.723Z"
   },
   {
    "duration": 414,
    "start_time": "2021-08-27T22:07:03.101Z"
   },
   {
    "duration": 10,
    "start_time": "2021-08-27T22:07:03.518Z"
   },
   {
    "duration": 26,
    "start_time": "2021-08-27T22:07:03.530Z"
   },
   {
    "duration": 28,
    "start_time": "2021-08-27T22:07:03.558Z"
   },
   {
    "duration": 333,
    "start_time": "2021-08-27T22:07:03.588Z"
   },
   {
    "duration": 316,
    "start_time": "2021-08-27T22:07:03.923Z"
   },
   {
    "duration": 450,
    "start_time": "2021-08-27T22:07:04.241Z"
   },
   {
    "duration": -13148,
    "start_time": "2021-08-27T22:07:17.841Z"
   },
   {
    "duration": -13162,
    "start_time": "2021-08-27T22:07:17.856Z"
   },
   {
    "duration": -13165,
    "start_time": "2021-08-27T22:07:17.860Z"
   },
   {
    "duration": -13169,
    "start_time": "2021-08-27T22:07:17.865Z"
   },
   {
    "duration": -13170,
    "start_time": "2021-08-27T22:07:17.867Z"
   },
   {
    "duration": -13173,
    "start_time": "2021-08-27T22:07:17.871Z"
   },
   {
    "duration": -13180,
    "start_time": "2021-08-27T22:07:17.879Z"
   },
   {
    "duration": -13182,
    "start_time": "2021-08-27T22:07:17.882Z"
   },
   {
    "duration": -13184,
    "start_time": "2021-08-27T22:07:17.885Z"
   },
   {
    "duration": -13188,
    "start_time": "2021-08-27T22:07:17.890Z"
   },
   {
    "duration": -13194,
    "start_time": "2021-08-27T22:07:17.897Z"
   },
   {
    "duration": -13197,
    "start_time": "2021-08-27T22:07:17.900Z"
   },
   {
    "duration": -13201,
    "start_time": "2021-08-27T22:07:17.905Z"
   },
   {
    "duration": -13207,
    "start_time": "2021-08-27T22:07:17.912Z"
   },
   {
    "duration": 503,
    "start_time": "2021-08-27T22:08:34.630Z"
   },
   {
    "duration": 348,
    "start_time": "2021-08-27T22:08:48.978Z"
   },
   {
    "duration": 579,
    "start_time": "2021-08-27T22:09:02.226Z"
   },
   {
    "duration": 346,
    "start_time": "2021-08-27T22:09:21.118Z"
   },
   {
    "duration": 502,
    "start_time": "2021-08-27T22:09:43.880Z"
   },
   {
    "duration": 694,
    "start_time": "2021-08-27T22:10:25.035Z"
   },
   {
    "duration": 558,
    "start_time": "2021-08-27T22:11:17.539Z"
   },
   {
    "duration": 511,
    "start_time": "2021-08-27T22:11:30.672Z"
   },
   {
    "duration": 326,
    "start_time": "2021-08-27T22:11:43.203Z"
   },
   {
    "duration": 615,
    "start_time": "2021-08-27T22:12:02.067Z"
   },
   {
    "duration": 350,
    "start_time": "2021-08-27T22:14:06.505Z"
   },
   {
    "duration": 8,
    "start_time": "2021-08-27T22:14:19.057Z"
   },
   {
    "duration": 363,
    "start_time": "2021-08-27T22:14:23.995Z"
   },
   {
    "duration": 1931,
    "start_time": "2021-08-27T22:14:44.954Z"
   },
   {
    "duration": 352,
    "start_time": "2021-08-27T22:32:33.734Z"
   },
   {
    "duration": 12,
    "start_time": "2021-08-27T22:33:24.048Z"
   },
   {
    "duration": 14,
    "start_time": "2021-08-27T22:34:42.182Z"
   },
   {
    "duration": 7,
    "start_time": "2021-08-27T22:36:26.068Z"
   },
   {
    "duration": 1879,
    "start_time": "2021-08-27T22:36:43.264Z"
   },
   {
    "duration": 419,
    "start_time": "2021-08-27T22:37:45.091Z"
   },
   {
    "duration": 13,
    "start_time": "2021-08-28T06:38:23.642Z"
   },
   {
    "duration": 11,
    "start_time": "2021-08-28T06:40:48.466Z"
   },
   {
    "duration": 445,
    "start_time": "2021-08-28T06:40:56.831Z"
   },
   {
    "duration": 1772,
    "start_time": "2021-08-28T06:41:30.063Z"
   },
   {
    "duration": 56,
    "start_time": "2021-08-28T06:41:31.837Z"
   },
   {
    "duration": 10,
    "start_time": "2021-08-28T06:41:31.895Z"
   },
   {
    "duration": 9,
    "start_time": "2021-08-28T06:41:31.907Z"
   },
   {
    "duration": 27,
    "start_time": "2021-08-28T06:41:31.918Z"
   },
   {
    "duration": 5,
    "start_time": "2021-08-28T06:41:31.947Z"
   },
   {
    "duration": 45,
    "start_time": "2021-08-28T06:41:31.953Z"
   },
   {
    "duration": 12,
    "start_time": "2021-08-28T06:41:32.001Z"
   },
   {
    "duration": 421,
    "start_time": "2021-08-28T06:41:32.015Z"
   },
   {
    "duration": 12,
    "start_time": "2021-08-28T06:41:32.438Z"
   },
   {
    "duration": 34,
    "start_time": "2021-08-28T06:41:32.452Z"
   },
   {
    "duration": 24,
    "start_time": "2021-08-28T06:41:32.488Z"
   },
   {
    "duration": 31,
    "start_time": "2021-08-28T06:41:32.514Z"
   },
   {
    "duration": 26,
    "start_time": "2021-08-28T06:41:32.547Z"
   },
   {
    "duration": 24,
    "start_time": "2021-08-28T06:41:32.575Z"
   },
   {
    "duration": 292,
    "start_time": "2021-08-28T06:41:32.600Z"
   },
   {
    "duration": 7,
    "start_time": "2021-08-28T06:41:32.894Z"
   },
   {
    "duration": 17,
    "start_time": "2021-08-28T06:41:32.902Z"
   },
   {
    "duration": 760,
    "start_time": "2021-08-28T06:41:32.921Z"
   },
   {
    "duration": 6,
    "start_time": "2021-08-28T06:41:33.683Z"
   },
   {
    "duration": 490,
    "start_time": "2021-08-28T06:41:33.690Z"
   },
   {
    "duration": 436,
    "start_time": "2021-08-28T06:41:34.182Z"
   },
   {
    "duration": 13,
    "start_time": "2021-08-28T06:41:34.621Z"
   },
   {
    "duration": 42,
    "start_time": "2021-08-28T06:41:34.636Z"
   },
   {
    "duration": 13,
    "start_time": "2021-08-28T06:41:34.680Z"
   },
   {
    "duration": 381,
    "start_time": "2021-08-28T06:41:34.695Z"
   },
   {
    "duration": 366,
    "start_time": "2021-08-28T06:41:35.078Z"
   },
   {
    "duration": 8,
    "start_time": "2021-08-28T06:41:35.445Z"
   },
   {
    "duration": 22,
    "start_time": "2021-08-28T06:41:35.455Z"
   },
   {
    "duration": 542,
    "start_time": "2021-08-28T06:41:35.479Z"
   },
   {
    "duration": -265,
    "start_time": "2021-08-28T06:41:36.289Z"
   },
   {
    "duration": -272,
    "start_time": "2021-08-28T06:41:36.297Z"
   },
   {
    "duration": -277,
    "start_time": "2021-08-28T06:41:36.303Z"
   },
   {
    "duration": -281,
    "start_time": "2021-08-28T06:41:36.308Z"
   },
   {
    "duration": -285,
    "start_time": "2021-08-28T06:41:36.313Z"
   },
   {
    "duration": -288,
    "start_time": "2021-08-28T06:41:36.317Z"
   },
   {
    "duration": -293,
    "start_time": "2021-08-28T06:41:36.323Z"
   },
   {
    "duration": -297,
    "start_time": "2021-08-28T06:41:36.328Z"
   },
   {
    "duration": -300,
    "start_time": "2021-08-28T06:41:36.332Z"
   },
   {
    "duration": -306,
    "start_time": "2021-08-28T06:41:36.338Z"
   },
   {
    "duration": -309,
    "start_time": "2021-08-28T06:41:36.342Z"
   },
   {
    "duration": -313,
    "start_time": "2021-08-28T06:41:36.347Z"
   },
   {
    "duration": -316,
    "start_time": "2021-08-28T06:41:36.351Z"
   },
   {
    "duration": 12,
    "start_time": "2021-08-28T06:42:25.993Z"
   },
   {
    "duration": 912,
    "start_time": "2021-08-28T06:42:30.373Z"
   },
   {
    "duration": 445,
    "start_time": "2021-08-28T06:47:11.670Z"
   },
   {
    "duration": 13,
    "start_time": "2021-08-28T06:47:14.418Z"
   },
   {
    "duration": 8,
    "start_time": "2021-08-28T06:47:26.986Z"
   },
   {
    "duration": 12,
    "start_time": "2021-08-28T06:47:28.205Z"
   },
   {
    "duration": 4680,
    "start_time": "2021-08-28T06:47:30.252Z"
   },
   {
    "duration": 6,
    "start_time": "2021-08-28T06:51:08.479Z"
   },
   {
    "duration": 17,
    "start_time": "2021-08-28T06:51:34.105Z"
   },
   {
    "duration": 12,
    "start_time": "2021-08-28T06:52:20.026Z"
   },
   {
    "duration": 13,
    "start_time": "2021-08-28T06:52:21.523Z"
   },
   {
    "duration": 4678,
    "start_time": "2021-08-28T06:52:22.338Z"
   },
   {
    "duration": 12,
    "start_time": "2021-08-28T06:54:12.217Z"
   },
   {
    "duration": 25,
    "start_time": "2021-08-28T06:54:14.009Z"
   },
   {
    "duration": 25,
    "start_time": "2021-08-28T06:54:19.557Z"
   },
   {
    "duration": 12,
    "start_time": "2021-08-28T06:54:36.516Z"
   },
   {
    "duration": 12,
    "start_time": "2021-08-28T06:54:39.967Z"
   },
   {
    "duration": 28,
    "start_time": "2021-08-28T06:54:40.395Z"
   },
   {
    "duration": 12,
    "start_time": "2021-08-28T06:54:59.341Z"
   },
   {
    "duration": 12,
    "start_time": "2021-08-28T06:55:01.494Z"
   },
   {
    "duration": 760,
    "start_time": "2021-08-28T06:55:02.077Z"
   },
   {
    "duration": 12,
    "start_time": "2021-08-28T06:55:59.845Z"
   },
   {
    "duration": 30,
    "start_time": "2021-08-28T06:56:00.390Z"
   },
   {
    "duration": 33,
    "start_time": "2021-08-28T06:56:24.592Z"
   },
   {
    "duration": 17,
    "start_time": "2021-08-28T06:56:58.226Z"
   },
   {
    "duration": 13,
    "start_time": "2021-08-28T06:57:45.312Z"
   },
   {
    "duration": 19,
    "start_time": "2021-08-28T06:57:47.918Z"
   },
   {
    "duration": 1639,
    "start_time": "2021-08-28T06:58:12.272Z"
   },
   {
    "duration": 53,
    "start_time": "2021-08-28T06:58:13.913Z"
   },
   {
    "duration": 12,
    "start_time": "2021-08-28T06:58:13.968Z"
   },
   {
    "duration": 12,
    "start_time": "2021-08-28T06:58:13.982Z"
   },
   {
    "duration": 17,
    "start_time": "2021-08-28T06:58:13.996Z"
   },
   {
    "duration": 5,
    "start_time": "2021-08-28T06:58:14.015Z"
   },
   {
    "duration": 59,
    "start_time": "2021-08-28T06:58:14.021Z"
   },
   {
    "duration": 11,
    "start_time": "2021-08-28T06:58:14.083Z"
   },
   {
    "duration": 405,
    "start_time": "2021-08-28T06:58:14.096Z"
   },
   {
    "duration": 9,
    "start_time": "2021-08-28T06:58:14.503Z"
   },
   {
    "duration": 10,
    "start_time": "2021-08-28T06:58:14.514Z"
   },
   {
    "duration": 4,
    "start_time": "2021-08-28T06:58:14.526Z"
   },
   {
    "duration": 6,
    "start_time": "2021-08-28T06:58:14.532Z"
   },
   {
    "duration": 37,
    "start_time": "2021-08-28T06:58:14.540Z"
   },
   {
    "duration": 7,
    "start_time": "2021-08-28T06:58:14.579Z"
   },
   {
    "duration": 282,
    "start_time": "2021-08-28T06:58:14.588Z"
   },
   {
    "duration": 8,
    "start_time": "2021-08-28T06:58:14.872Z"
   },
   {
    "duration": 6,
    "start_time": "2021-08-28T06:58:14.882Z"
   },
   {
    "duration": 896,
    "start_time": "2021-08-28T06:58:14.890Z"
   },
   {
    "duration": 7,
    "start_time": "2021-08-28T06:58:15.788Z"
   },
   {
    "duration": 498,
    "start_time": "2021-08-28T06:58:15.797Z"
   },
   {
    "duration": 432,
    "start_time": "2021-08-28T06:58:16.296Z"
   },
   {
    "duration": 14,
    "start_time": "2021-08-28T06:58:16.731Z"
   },
   {
    "duration": 50,
    "start_time": "2021-08-28T06:58:16.747Z"
   },
   {
    "duration": 13,
    "start_time": "2021-08-28T06:58:16.799Z"
   },
   {
    "duration": 333,
    "start_time": "2021-08-28T06:58:16.814Z"
   },
   {
    "duration": 421,
    "start_time": "2021-08-28T06:58:17.148Z"
   },
   {
    "duration": 20,
    "start_time": "2021-08-28T06:58:17.571Z"
   },
   {
    "duration": 12,
    "start_time": "2021-08-28T06:58:17.592Z"
   },
   {
    "duration": 19,
    "start_time": "2021-08-28T06:58:17.606Z"
   },
   {
    "duration": 6,
    "start_time": "2021-08-28T06:58:17.626Z"
   },
   {
    "duration": 336,
    "start_time": "2021-08-28T06:58:17.633Z"
   },
   {
    "duration": 20,
    "start_time": "2021-08-28T06:58:17.970Z"
   },
   {
    "duration": 273,
    "start_time": "2021-08-28T06:58:17.992Z"
   },
   {
    "duration": 470,
    "start_time": "2021-08-28T06:58:18.267Z"
   },
   {
    "duration": 429,
    "start_time": "2021-08-28T06:58:18.739Z"
   },
   {
    "duration": 420,
    "start_time": "2021-08-28T06:58:19.169Z"
   },
   {
    "duration": 10,
    "start_time": "2021-08-28T06:58:19.591Z"
   },
   {
    "duration": 7,
    "start_time": "2021-08-28T06:58:19.603Z"
   },
   {
    "duration": 6,
    "start_time": "2021-08-28T06:58:19.612Z"
   },
   {
    "duration": 13,
    "start_time": "2021-08-28T06:58:19.619Z"
   },
   {
    "duration": 4,
    "start_time": "2021-08-28T06:58:19.634Z"
   },
   {
    "duration": 8,
    "start_time": "2021-08-28T06:58:19.677Z"
   },
   {
    "duration": 17,
    "start_time": "2021-08-28T06:58:49.693Z"
   },
   {
    "duration": 18,
    "start_time": "2021-08-28T07:00:17.319Z"
   },
   {
    "duration": 12,
    "start_time": "2021-08-28T07:01:01.653Z"
   },
   {
    "duration": 17,
    "start_time": "2021-08-28T07:01:03.880Z"
   }
  ],
  "kernelspec": {
   "display_name": "Python 3",
   "language": "python",
   "name": "python3"
  },
  "language_info": {
   "codemirror_mode": {
    "name": "ipython",
    "version": 3
   },
   "file_extension": ".py",
   "mimetype": "text/x-python",
   "name": "python",
   "nbconvert_exporter": "python",
   "pygments_lexer": "ipython3",
   "version": "3.8.5"
  },
  "toc": {
   "base_numbering": 1,
   "nav_menu": {},
   "number_sections": true,
   "sideBar": true,
   "skip_h1_title": true,
   "title_cell": "Table of Contents",
   "title_sidebar": "Contents",
   "toc_cell": false,
   "toc_position": {},
   "toc_section_display": true,
   "toc_window_display": false
  }
 },
 "nbformat": 4,
 "nbformat_minor": 2
}
